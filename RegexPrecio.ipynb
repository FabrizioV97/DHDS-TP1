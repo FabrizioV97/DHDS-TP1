{
 "cells": [
  {
   "cell_type": "markdown",
   "metadata": {
    "pycharm": {
     "name": "#%% md\n"
    }
   },
   "source": [
    "## Install and imports"
   ]
  },
  {
   "cell_type": "markdown",
   "metadata": {},
   "source": [
    "Explicación de los modulos usados y por que"
   ]
  },
  {
   "cell_type": "markdown",
   "metadata": {},
   "source": [
    "### Imports"
   ]
  },
  {
   "cell_type": "code",
   "execution_count": 15,
   "metadata": {},
   "outputs": [],
   "source": [
    "import pandas as pd\n",
    "import numpy as np\n",
    "import warnings\n",
    "import re\n",
    "import seaborn as sn\n",
    "import matplotlib.pyplot as plt\n",
    "import plotly.graph_objects as go\n",
    "from plotly.subplots import make_subplots"
   ]
  },
  {
   "cell_type": "markdown",
   "metadata": {},
   "source": [
    "#### Settings"
   ]
  },
  {
   "cell_type": "code",
   "execution_count": null,
   "metadata": {},
   "outputs": [],
   "source": [
    "# Seaborn style\n",
    "sn.set_theme()\n",
    "\n",
    "\n",
    "# Color palette for Plotly\n",
    "palette = [\"#FC645F\", \"#A8E4A0\", \"#7088FF\", \"#FEB1AF\"]\n",
    "\n",
    "\n",
    "# Silencing warnings\n",
    "warnings.filterwarnings('ignore')\n",
    "\n",
    "\n",
    "# Setting max columns to six\n",
    "pd.options.display.max_columns = 6\n",
    "\n",
    "\n",
    "# Setting max rows to ten\n",
    "pd.options.display.max_rows = 10"
   ]
  },
  {
   "cell_type": "markdown",
   "metadata": {},
   "source": [
    "### Funciones"
   ]
  },
  {
   "cell_type": "markdown",
   "metadata": {},
   "source": [
    "\n",
    "\n",
    "<b>viz_categorical</b> <br>\n",
    "Esta función dinamicamente encuentra las variables catégoricas (con un value count de 25 o menos) de un dataframe y plotea los distintos valores en la serie. La utilizaremos para encontrar las variables categóricas sino tambien para marcar aquellas que son constantes, es decir, cuentan con un solo valor."
   ]
  },
  {
   "cell_type": "code",
   "execution_count": null,
   "metadata": {},
   "outputs": [],
   "source": [
    "def viz_categorical(dataframe):\n",
    "    column_list = [column for column in dataframe.columns if len(dataframe[column].value_counts().index)>0 and len(dataframe[column].value_counts().index)<=40]\n",
    "    context_dataframe = dataframe[column_list]\n",
    "    \n",
    "    \n",
    "    # Calculating row index for plot based on x * 3 design\n",
    "    if context_dataframe.shape[1] % 3 != 0:\n",
    "        rows = round(context_dataframe.shape[1] / 3) + 1\n",
    "    else:\n",
    "        rows = round(context_dataframe.shape[1] / 3)\n",
    "\n",
    "\n",
    "    # Plot constants\n",
    "    fig, axes = plt.subplots(rows,3, figsize=(15, 10))\n",
    "    fig.suptitle('Categorical variables')\n",
    "    \n",
    "    col_iter = 0\n",
    "    row_iter = 0\n",
    "\n",
    "\n",
    "    # Plotting\n",
    "    for column, (i, ax) in zip(context_dataframe.columns, enumerate(fig.axes)):\n",
    "        col_loc = context_dataframe.columns.get_loc(column)\n",
    "        sn.barplot(x=context_dataframe[column].value_counts().index, y=context_dataframe[column].value_counts().values, ax=ax)\n",
    "        ax.title.set_text(column)\n",
    "        if len(context_dataframe[column].value_counts().index) > 5:\n",
    "            ax.set_xticks([])"
   ]
  },
  {
   "cell_type": "code",
   "execution_count": null,
   "metadata": {},
   "outputs": [],
   "source": [
    "\n",
    "\n",
    "def dat_insights(dataframe,sheet_name=False,rtn=True,dat=False,date_parse=False):\n",
    "  if type(dataframe) == str:\n",
    "    dataframe = data_capture(dataframe,sheet_name,date_parse).capture()\n",
    "  if dat is not False:\n",
    "    dataframe = column_cleaner(dataframe,[column for column in dataframe.columns if column in dat])\n",
    "  null_values = dataframe.isnull().sum().sort_values(ascending=False)\n",
    "  nulls_sum = (dataframe.isnull().sum()).sum()\n",
    "  fields_sum = (dataframe.shape[0] * dataframe.shape[1]) - nulls_sum\n",
    "  nulls_percentile = max(null_values)\n",
    "  fills_percentile = dataframe.shape[0] - nulls_percentile\n",
    "  if null_values.shape[0] > 15:\n",
    "    null_values = null_values[null_values != 0]\n",
    "  else:\n",
    "    pass\n",
    "  fig = make_subplots(rows=2,\n",
    "                      cols=2,\n",
    "                      subplot_titles=[\"<b>CORRECT ENTRIES</b>\",\n",
    "                                      \"<b>CORRECT CELLS\",\n",
    "                                      \"<b>NULLS/COLUMN</b>\"],\n",
    "                      specs=[[{'type':'domain'},{'type':'domain'}],\n",
    "                             [{'type':'xy',\"colspan\":2},{}]])\n",
    "  fig.add_trace(go.Pie(labels=[\"Null entries\",\"Valid entries\"],\n",
    "                       values=[nulls_percentile,fills_percentile],\n",
    "                       hole=0.4,\n",
    "                       marker_colors=palette,\n",
    "                       name=\"Correct entries\",\n",
    "                       title=dataframe.shape[0],legendgroup=\"apie\"),1,1)\n",
    "  fig.add_trace(go.Pie(labels=[\"Null cells\",\n",
    "                               \"Valid cells\"],\n",
    "                       values=[nulls_sum,\n",
    "                               fields_sum],\n",
    "                       hole=0.4,\n",
    "                       marker_colors=palette,\n",
    "                       name=\"Correct cells\",\n",
    "                       title=dataframe.shape[0]*dataframe.shape[1],\n",
    "                       legendgroup=\"pie\"),1,2)\n",
    "  fig.add_trace(go.Bar(x=null_values,\n",
    "                       y=null_values.index,\n",
    "                       name=\"Nulls/Column\",\n",
    "                       orientation=\"h\",\n",
    "                       marker_color=\"#FC645F\",\n",
    "                       showlegend=False),2,1)\n",
    "  fig.update_traces(textposition='inside')\n",
    "  fig.update_layout(height=600,\n",
    "                    width=800,\n",
    "                    title=f\"<b>{sheet_name.upper()} INSIGHTS</b>\",\n",
    "                    yaxis_title=\"Columns\",\n",
    "                    xaxis_title=\"Nulls\",\n",
    "                    font_size=14)\n",
    "  if rtn == True:\n",
    "    fig.show(config={'modeBarButtonsToAdd':['drawline',\n",
    "                                            'drawopenpath',\n",
    "                                            'drawclosedpath',\n",
    "                                            'drawcircle',\n",
    "                                            'drawrect',\n",
    "                                            'eraseshape']})\n",
    "  else:\n",
    "    return fig\n",
    "\n",
    "\n",
    "def table_dtype(dataframe,rtn=True):\n",
    "  # Función que crea reporte de tipo de variables y datos\n",
    "  # dataframe = objet.dataframe\n",
    "  # arg = True: use fig.show() otherwise it returns fig for object\n",
    "  df_dtypes = dataframe.convert_dtypes()\n",
    "  table_columns = [column for column in df_dtypes.dtypes.index.values]\n",
    "  table_values = [str(value) for value in df_dtypes.dtypes]\n",
    "  values = pd.Series(table_values)\n",
    "  fig = make_subplots(rows=2,\n",
    "                      cols=2,\n",
    "                      specs=[[{\"type\":\"table\"},{\"type\":\"domain\"}],\n",
    "                             [{\"type\":\"table\"},{\"type\":\"domain\"}]],\n",
    "                      subplot_titles=[\"\",\n",
    "                                      \"<b>TYPE\",\n",
    "                                      \"\",\n",
    "                                      \"<b>CLASS\"])\n",
    "  fig.add_trace(go.Pie(labels=values.value_counts().index,\n",
    "                       values=values.value_counts(),\n",
    "                       marker_colors=palette,\n",
    "                       hole=0.4,\n",
    "                       title=values.shape[0],\n",
    "                       legendgroup=\"pie\"),1,2)\n",
    "  fig.update_traces(textposition='inside')\n",
    "  fig.add_trace(go.Table(header=dict(values=['Column',\n",
    "                                             'Data type'],\n",
    "                                     fill_color=\"#A8E4A0\",\n",
    "                                     line_color='darkslategray'),\n",
    "                         cells=dict(values=[table_columns,\n",
    "                                            table_values],\n",
    "                                    line_color='darkslategray')),1,1)\n",
    "  fig.update_layout(height=500,width=1000,\n",
    "                    title=\"<b>DATA TYPE ANALYSIS\",\n",
    "                    font_size=12)\n",
    "\n",
    "  type_var = []\n",
    "  for value in range(0,len(df_dtypes.dtypes)):\n",
    "    if \"Int\" in str(df_dtypes.dtypes[value]):\n",
    "      type_var.append(\"Numerical\")\n",
    "    else:\n",
    "      if len(df_dtypes[df_dtypes.dtypes.index[value]].value_counts().index) <= 2:\n",
    "        type_var.append(\"Numerical/Boolean\")\n",
    "      else:\n",
    "        type_var.append(\"Categorical\")\n",
    "\n",
    "  pie_values = [values for values in [type_var.count(\"Categorical\"), type_var.count(\"Numerical\"), type_var.count(\"Numerical/Boolean\")] if values !=0]\n",
    "  pie_labels = str(set(type_var)).replace(\"{\",\"\").replace(\"}\",\"\").replace(\"'\",\"\").split(\",\")\n",
    "  fig.add_trace(go.Table(header=dict(values=[\"Columns\",\n",
    "                                             \"Classification\"],\n",
    "                                     fill_color=\"#A8E4A0\",\n",
    "                                     line_color='darkslategray'),\n",
    "                         cells=dict(values=[df_dtypes.dtypes.index,type_var])),2,1)\n",
    "  fig.add_trace(go.Pie(labels=pie_labels,\n",
    "                       values=pie_values,\n",
    "                       marker_colors=palette,\n",
    "                       hole=0.4,\n",
    "                       legendgroup=\"pie2\"),2,2)\n",
    "  fig.update_layout(height=800,width=1000,title=\"<b>DATA TYPE ANALYSIS\",font_size=14)\n",
    "  if rtn == True:\n",
    "    fig.show()\n",
    "  else:\n",
    "    return fig\n",
    "\n",
    "\n",
    "def correlation_matrix(dataframe, name, rtn=True):\n",
    "  dataframe = dataframe.convert_dtypes()\n",
    "  fig=make_subplots(cols=1,\n",
    "                    rows=1)\n",
    "  z,x = dataframe.corr(method=\"pearson\"),dataframe.corr(method=\"pearson\").columns\n",
    "  fig.add_trace(go.Heatmap(z = z,\n",
    "                           x = x,\n",
    "                           y = x,\n",
    "                           colorscale=\"Burg\"))\n",
    "  fig.update_layout(height=800,width=800,title=f\"<b>{name} FEATURE CORRELATION MATRIX\")\n",
    "  if rtn == True:\n",
    "    fig.show('png', engine='orca')\n",
    "        # fig.show(config={'modeBarButtonsToAdd':['drawline',\n",
    "        #                                     'drawopenpath',\n",
    "        #                                     'drawclosedpath',\n",
    "        #                                     'drawcircle',\n",
    "        #                                     'drawrect',\n",
    "        #                                     'eraseshape']})\n",
    "  else:\n",
    "    return fig"
   ]
  },
  {
   "cell_type": "markdown",
   "metadata": {
    "pycharm": {
     "name": "#%% md\n"
    }
   },
   "source": [
    "## Analisis de datos exploratorio"
   ]
  },
  {
   "cell_type": "markdown",
   "metadata": {},
   "source": [
    "### Primeros pasos"
   ]
  },
  {
   "cell_type": "markdown",
   "metadata": {},
   "source": [
    "Primero exportamos nuestro dataset como objecto panda.dataframe para realizar las primeras observaciones. Con la utilización del método append, head y tail, generamos una preview del dataframe basada en los diez primeros y últimos registros."
   ]
  },
  {
   "cell_type": "code",
   "execution_count": 16,
   "metadata": {},
   "outputs": [
    {
     "data": {
      "text/html": [
       "<div>\n",
       "<style scoped>\n",
       "    .dataframe tbody tr th:only-of-type {\n",
       "        vertical-align: middle;\n",
       "    }\n",
       "\n",
       "    .dataframe tbody tr th {\n",
       "        vertical-align: top;\n",
       "    }\n",
       "\n",
       "    .dataframe thead th {\n",
       "        text-align: right;\n",
       "    }\n",
       "</style>\n",
       "<table border=\"1\" class=\"dataframe\">\n",
       "  <thead>\n",
       "    <tr style=\"text-align: right;\">\n",
       "      <th></th>\n",
       "      <th>Unnamed: 0</th>\n",
       "      <th>operation</th>\n",
       "      <th>property_type</th>\n",
       "      <th>place_name</th>\n",
       "      <th>place_with_parent_names</th>\n",
       "      <th>country_name</th>\n",
       "      <th>state_name</th>\n",
       "      <th>geonames_id</th>\n",
       "      <th>lat-lon</th>\n",
       "      <th>lat</th>\n",
       "      <th>...</th>\n",
       "      <th>surface_covered_in_m2</th>\n",
       "      <th>price_usd_per_m2</th>\n",
       "      <th>price_per_m2</th>\n",
       "      <th>floor</th>\n",
       "      <th>rooms</th>\n",
       "      <th>expenses</th>\n",
       "      <th>properati_url</th>\n",
       "      <th>description</th>\n",
       "      <th>title</th>\n",
       "      <th>image_thumbnail</th>\n",
       "    </tr>\n",
       "  </thead>\n",
       "  <tbody>\n",
       "    <tr>\n",
       "      <th>0</th>\n",
       "      <td>0</td>\n",
       "      <td>sell</td>\n",
       "      <td>PH</td>\n",
       "      <td>Mataderos</td>\n",
       "      <td>|Argentina|Capital Federal|Mataderos|</td>\n",
       "      <td>Argentina</td>\n",
       "      <td>Capital Federal</td>\n",
       "      <td>3430787.0</td>\n",
       "      <td>-34.6618237,-58.5088387</td>\n",
       "      <td>-34.661824</td>\n",
       "      <td>...</td>\n",
       "      <td>40.0</td>\n",
       "      <td>1127.272727</td>\n",
       "      <td>1550.000000</td>\n",
       "      <td>NaN</td>\n",
       "      <td>NaN</td>\n",
       "      <td>NaN</td>\n",
       "      <td>http://www.properati.com.ar/15bo8_venta_ph_mat...</td>\n",
       "      <td>2 AMBIENTES TIPO CASA PLANTA BAJA POR PASILLO,...</td>\n",
       "      <td>2 AMB TIPO CASA SIN EXPENSAS EN PB</td>\n",
       "      <td>https://thumbs4.properati.com/8/BluUYiHJLhgIIK...</td>\n",
       "    </tr>\n",
       "    <tr>\n",
       "      <th>1</th>\n",
       "      <td>1</td>\n",
       "      <td>sell</td>\n",
       "      <td>apartment</td>\n",
       "      <td>La Plata</td>\n",
       "      <td>|Argentina|Bs.As. G.B.A. Zona Sur|La Plata|</td>\n",
       "      <td>Argentina</td>\n",
       "      <td>Bs.As. G.B.A. Zona Sur</td>\n",
       "      <td>3432039.0</td>\n",
       "      <td>-34.9038831,-57.9643295</td>\n",
       "      <td>-34.903883</td>\n",
       "      <td>...</td>\n",
       "      <td>NaN</td>\n",
       "      <td>NaN</td>\n",
       "      <td>NaN</td>\n",
       "      <td>NaN</td>\n",
       "      <td>NaN</td>\n",
       "      <td>NaN</td>\n",
       "      <td>http://www.properati.com.ar/15bob_venta_depart...</td>\n",
       "      <td>Venta de departamento en décimo piso al frente...</td>\n",
       "      <td>VENTA Depto 2 dorm. a estrenar 7 e/ 36 y 37   ...</td>\n",
       "      <td>https://thumbs4.properati.com/7/ikpVBu2ztHA7jv...</td>\n",
       "    </tr>\n",
       "    <tr>\n",
       "      <th>2</th>\n",
       "      <td>2</td>\n",
       "      <td>sell</td>\n",
       "      <td>apartment</td>\n",
       "      <td>Mataderos</td>\n",
       "      <td>|Argentina|Capital Federal|Mataderos|</td>\n",
       "      <td>Argentina</td>\n",
       "      <td>Capital Federal</td>\n",
       "      <td>3430787.0</td>\n",
       "      <td>-34.6522615,-58.5229825</td>\n",
       "      <td>-34.652262</td>\n",
       "      <td>...</td>\n",
       "      <td>55.0</td>\n",
       "      <td>1309.090909</td>\n",
       "      <td>1309.090909</td>\n",
       "      <td>NaN</td>\n",
       "      <td>NaN</td>\n",
       "      <td>NaN</td>\n",
       "      <td>http://www.properati.com.ar/15bod_venta_depart...</td>\n",
       "      <td>2 AMBIENTES 3ER PISO LATERAL LIVING COMEDOR AM...</td>\n",
       "      <td>2 AMB 3ER PISO CON ASCENSOR APTO CREDITO</td>\n",
       "      <td>https://thumbs4.properati.com/5/SXKr34F_IwG3W_...</td>\n",
       "    </tr>\n",
       "    <tr>\n",
       "      <th>3</th>\n",
       "      <td>3</td>\n",
       "      <td>sell</td>\n",
       "      <td>PH</td>\n",
       "      <td>Liniers</td>\n",
       "      <td>|Argentina|Capital Federal|Liniers|</td>\n",
       "      <td>Argentina</td>\n",
       "      <td>Capital Federal</td>\n",
       "      <td>3431333.0</td>\n",
       "      <td>-34.6477969,-58.5164244</td>\n",
       "      <td>-34.647797</td>\n",
       "      <td>...</td>\n",
       "      <td>NaN</td>\n",
       "      <td>NaN</td>\n",
       "      <td>NaN</td>\n",
       "      <td>NaN</td>\n",
       "      <td>NaN</td>\n",
       "      <td>NaN</td>\n",
       "      <td>http://www.properati.com.ar/15boh_venta_ph_lin...</td>\n",
       "      <td>PH 3 ambientes con patio. Hay 3 deptos en lote...</td>\n",
       "      <td>PH 3 amb. cfte. reciclado</td>\n",
       "      <td>https://thumbs4.properati.com/3/DgIfX-85Mog5SP...</td>\n",
       "    </tr>\n",
       "    <tr>\n",
       "      <th>4</th>\n",
       "      <td>4</td>\n",
       "      <td>sell</td>\n",
       "      <td>apartment</td>\n",
       "      <td>Centro</td>\n",
       "      <td>|Argentina|Buenos Aires Costa Atlántica|Mar de...</td>\n",
       "      <td>Argentina</td>\n",
       "      <td>Buenos Aires Costa Atlántica</td>\n",
       "      <td>3435548.0</td>\n",
       "      <td>-38.0026256,-57.5494468</td>\n",
       "      <td>-38.002626</td>\n",
       "      <td>...</td>\n",
       "      <td>35.0</td>\n",
       "      <td>1828.571429</td>\n",
       "      <td>1828.571429</td>\n",
       "      <td>NaN</td>\n",
       "      <td>NaN</td>\n",
       "      <td>NaN</td>\n",
       "      <td>http://www.properati.com.ar/15bok_venta_depart...</td>\n",
       "      <td>DEPARTAMENTO CON FANTÁSTICA ILUMINACIÓN NATURA...</td>\n",
       "      <td>DEPTO 2 AMB AL CONTRAFRENTE ZONA CENTRO/PLAZA ...</td>\n",
       "      <td>https://thumbs4.properati.com/5/xrRqlNcSI_vs-f...</td>\n",
       "    </tr>\n",
       "    <tr>\n",
       "      <th>121215</th>\n",
       "      <td>121215</td>\n",
       "      <td>sell</td>\n",
       "      <td>apartment</td>\n",
       "      <td>Belgrano</td>\n",
       "      <td>|Argentina|Capital Federal|Belgrano|</td>\n",
       "      <td>Argentina</td>\n",
       "      <td>Capital Federal</td>\n",
       "      <td>3436077.0</td>\n",
       "      <td>NaN</td>\n",
       "      <td>NaN</td>\n",
       "      <td>...</td>\n",
       "      <td>93.0</td>\n",
       "      <td>7699.115044</td>\n",
       "      <td>9354.838710</td>\n",
       "      <td>NaN</td>\n",
       "      <td>NaN</td>\n",
       "      <td>10000.0</td>\n",
       "      <td>http://www.properati.com.ar/1cja2_venta_depart...</td>\n",
       "      <td>TORRE FORUM ALCORTA - MÁXIMA CATEGORÍA.Impecab...</td>\n",
       "      <td>Torre Forum Alcorta- Impecable 3 ambientes</td>\n",
       "      <td>https://thumbs4.properati.com/1/bjms0KnaAnlNoQ...</td>\n",
       "    </tr>\n",
       "    <tr>\n",
       "      <th>121216</th>\n",
       "      <td>121216</td>\n",
       "      <td>sell</td>\n",
       "      <td>house</td>\n",
       "      <td>Beccar</td>\n",
       "      <td>|Argentina|Bs.As. G.B.A. Zona Norte|San Isidro...</td>\n",
       "      <td>Argentina</td>\n",
       "      <td>Bs.As. G.B.A. Zona Norte</td>\n",
       "      <td>3436080.0</td>\n",
       "      <td>NaN</td>\n",
       "      <td>NaN</td>\n",
       "      <td>...</td>\n",
       "      <td>360.0</td>\n",
       "      <td>1383.333333</td>\n",
       "      <td>1383.333333</td>\n",
       "      <td>NaN</td>\n",
       "      <td>NaN</td>\n",
       "      <td>NaN</td>\n",
       "      <td>http://www.properati.com.ar/1cja6_venta_casa_b...</td>\n",
       "      <td>Excelente e impecable casa en Venta en Las Lom...</td>\n",
       "      <td>Ruca Inmuebles | Venta | Lomas de San Isidro |...</td>\n",
       "      <td>https://thumbs4.properati.com/2/PCc3WuQDjpNZc4...</td>\n",
       "    </tr>\n",
       "    <tr>\n",
       "      <th>121217</th>\n",
       "      <td>121217</td>\n",
       "      <td>sell</td>\n",
       "      <td>apartment</td>\n",
       "      <td>Villa Urquiza</td>\n",
       "      <td>|Argentina|Capital Federal|Villa Urquiza|</td>\n",
       "      <td>Argentina</td>\n",
       "      <td>Capital Federal</td>\n",
       "      <td>3433775.0</td>\n",
       "      <td>-34.5706388726,-58.4755963355</td>\n",
       "      <td>-34.570639</td>\n",
       "      <td>...</td>\n",
       "      <td>39.0</td>\n",
       "      <td>2858.695652</td>\n",
       "      <td>3371.794872</td>\n",
       "      <td>NaN</td>\n",
       "      <td>NaN</td>\n",
       "      <td>NaN</td>\n",
       "      <td>http://www.properati.com.ar/1cja7_venta_depart...</td>\n",
       "      <td>VENTA DEPARTAMENTO AMBIENTE DIVISIBLE A ESTREN...</td>\n",
       "      <td>VENTA DEPARTAMENTO AMBIENTE DIVISIBLE A ESTREN...</td>\n",
       "      <td>https://thumbs4.properati.com/9/YAe_-2gRVykADP...</td>\n",
       "    </tr>\n",
       "    <tr>\n",
       "      <th>121218</th>\n",
       "      <td>121218</td>\n",
       "      <td>sell</td>\n",
       "      <td>apartment</td>\n",
       "      <td>Plaza Colón</td>\n",
       "      <td>|Argentina|Buenos Aires Costa Atlántica|Mar de...</td>\n",
       "      <td>Argentina</td>\n",
       "      <td>Buenos Aires Costa Atlántica</td>\n",
       "      <td>NaN</td>\n",
       "      <td>NaN</td>\n",
       "      <td>NaN</td>\n",
       "      <td>...</td>\n",
       "      <td>48.0</td>\n",
       "      <td>1997.916667</td>\n",
       "      <td>1997.916667</td>\n",
       "      <td>NaN</td>\n",
       "      <td>NaN</td>\n",
       "      <td>NaN</td>\n",
       "      <td>http://www.properati.com.ar/1cja8_venta_depart...</td>\n",
       "      <td>2 Amb al contrafrente,  luminoso. El departame...</td>\n",
       "      <td>2 amb. C/ dep. de servicio al contrafrente| Re...</td>\n",
       "      <td>https://thumbs4.properati.com/8/Q12PTvU6BQJ0ib...</td>\n",
       "    </tr>\n",
       "    <tr>\n",
       "      <th>121219</th>\n",
       "      <td>121219</td>\n",
       "      <td>sell</td>\n",
       "      <td>apartment</td>\n",
       "      <td>Capital Federal</td>\n",
       "      <td>|Argentina|Capital Federal|</td>\n",
       "      <td>Argentina</td>\n",
       "      <td>Capital Federal</td>\n",
       "      <td>3433955.0</td>\n",
       "      <td>NaN</td>\n",
       "      <td>NaN</td>\n",
       "      <td>...</td>\n",
       "      <td>77.0</td>\n",
       "      <td>1675.324675</td>\n",
       "      <td>1675.324675</td>\n",
       "      <td>NaN</td>\n",
       "      <td>NaN</td>\n",
       "      <td>3500.0</td>\n",
       "      <td>http://www.properati.com.ar/1cjaa_venta_depart...</td>\n",
       "      <td>Departamento de 77 m2 apto profesional. Edific...</td>\n",
       "      <td>Departamento apto profesional en el Centro</td>\n",
       "      <td>https://thumbs4.properati.com/8/mNEsnQWqB7joBF...</td>\n",
       "    </tr>\n",
       "  </tbody>\n",
       "</table>\n",
       "<p>10 rows × 26 columns</p>\n",
       "</div>"
      ],
      "text/plain": [
       "        Unnamed: 0 operation property_type       place_name  \\\n",
       "0                0      sell            PH        Mataderos   \n",
       "1                1      sell     apartment         La Plata   \n",
       "2                2      sell     apartment        Mataderos   \n",
       "3                3      sell            PH          Liniers   \n",
       "4                4      sell     apartment           Centro   \n",
       "121215      121215      sell     apartment         Belgrano   \n",
       "121216      121216      sell         house           Beccar   \n",
       "121217      121217      sell     apartment    Villa Urquiza   \n",
       "121218      121218      sell     apartment      Plaza Colón   \n",
       "121219      121219      sell     apartment  Capital Federal   \n",
       "\n",
       "                                  place_with_parent_names country_name  \\\n",
       "0                   |Argentina|Capital Federal|Mataderos|    Argentina   \n",
       "1             |Argentina|Bs.As. G.B.A. Zona Sur|La Plata|    Argentina   \n",
       "2                   |Argentina|Capital Federal|Mataderos|    Argentina   \n",
       "3                     |Argentina|Capital Federal|Liniers|    Argentina   \n",
       "4       |Argentina|Buenos Aires Costa Atlántica|Mar de...    Argentina   \n",
       "121215               |Argentina|Capital Federal|Belgrano|    Argentina   \n",
       "121216  |Argentina|Bs.As. G.B.A. Zona Norte|San Isidro...    Argentina   \n",
       "121217          |Argentina|Capital Federal|Villa Urquiza|    Argentina   \n",
       "121218  |Argentina|Buenos Aires Costa Atlántica|Mar de...    Argentina   \n",
       "121219                        |Argentina|Capital Federal|    Argentina   \n",
       "\n",
       "                          state_name  geonames_id  \\\n",
       "0                    Capital Federal    3430787.0   \n",
       "1             Bs.As. G.B.A. Zona Sur    3432039.0   \n",
       "2                    Capital Federal    3430787.0   \n",
       "3                    Capital Federal    3431333.0   \n",
       "4       Buenos Aires Costa Atlántica    3435548.0   \n",
       "121215               Capital Federal    3436077.0   \n",
       "121216      Bs.As. G.B.A. Zona Norte    3436080.0   \n",
       "121217               Capital Federal    3433775.0   \n",
       "121218  Buenos Aires Costa Atlántica          NaN   \n",
       "121219               Capital Federal    3433955.0   \n",
       "\n",
       "                              lat-lon        lat  ...  surface_covered_in_m2  \\\n",
       "0             -34.6618237,-58.5088387 -34.661824  ...                   40.0   \n",
       "1             -34.9038831,-57.9643295 -34.903883  ...                    NaN   \n",
       "2             -34.6522615,-58.5229825 -34.652262  ...                   55.0   \n",
       "3             -34.6477969,-58.5164244 -34.647797  ...                    NaN   \n",
       "4             -38.0026256,-57.5494468 -38.002626  ...                   35.0   \n",
       "121215                            NaN        NaN  ...                   93.0   \n",
       "121216                            NaN        NaN  ...                  360.0   \n",
       "121217  -34.5706388726,-58.4755963355 -34.570639  ...                   39.0   \n",
       "121218                            NaN        NaN  ...                   48.0   \n",
       "121219                            NaN        NaN  ...                   77.0   \n",
       "\n",
       "        price_usd_per_m2 price_per_m2  floor  rooms  expenses  \\\n",
       "0            1127.272727  1550.000000    NaN    NaN       NaN   \n",
       "1                    NaN          NaN    NaN    NaN       NaN   \n",
       "2            1309.090909  1309.090909    NaN    NaN       NaN   \n",
       "3                    NaN          NaN    NaN    NaN       NaN   \n",
       "4            1828.571429  1828.571429    NaN    NaN       NaN   \n",
       "121215       7699.115044  9354.838710    NaN    NaN   10000.0   \n",
       "121216       1383.333333  1383.333333    NaN    NaN       NaN   \n",
       "121217       2858.695652  3371.794872    NaN    NaN       NaN   \n",
       "121218       1997.916667  1997.916667    NaN    NaN       NaN   \n",
       "121219       1675.324675  1675.324675    NaN    NaN    3500.0   \n",
       "\n",
       "                                            properati_url  \\\n",
       "0       http://www.properati.com.ar/15bo8_venta_ph_mat...   \n",
       "1       http://www.properati.com.ar/15bob_venta_depart...   \n",
       "2       http://www.properati.com.ar/15bod_venta_depart...   \n",
       "3       http://www.properati.com.ar/15boh_venta_ph_lin...   \n",
       "4       http://www.properati.com.ar/15bok_venta_depart...   \n",
       "121215  http://www.properati.com.ar/1cja2_venta_depart...   \n",
       "121216  http://www.properati.com.ar/1cja6_venta_casa_b...   \n",
       "121217  http://www.properati.com.ar/1cja7_venta_depart...   \n",
       "121218  http://www.properati.com.ar/1cja8_venta_depart...   \n",
       "121219  http://www.properati.com.ar/1cjaa_venta_depart...   \n",
       "\n",
       "                                              description  \\\n",
       "0       2 AMBIENTES TIPO CASA PLANTA BAJA POR PASILLO,...   \n",
       "1       Venta de departamento en décimo piso al frente...   \n",
       "2       2 AMBIENTES 3ER PISO LATERAL LIVING COMEDOR AM...   \n",
       "3       PH 3 ambientes con patio. Hay 3 deptos en lote...   \n",
       "4       DEPARTAMENTO CON FANTÁSTICA ILUMINACIÓN NATURA...   \n",
       "121215  TORRE FORUM ALCORTA - MÁXIMA CATEGORÍA.Impecab...   \n",
       "121216  Excelente e impecable casa en Venta en Las Lom...   \n",
       "121217  VENTA DEPARTAMENTO AMBIENTE DIVISIBLE A ESTREN...   \n",
       "121218  2 Amb al contrafrente,  luminoso. El departame...   \n",
       "121219  Departamento de 77 m2 apto profesional. Edific...   \n",
       "\n",
       "                                                    title  \\\n",
       "0                      2 AMB TIPO CASA SIN EXPENSAS EN PB   \n",
       "1       VENTA Depto 2 dorm. a estrenar 7 e/ 36 y 37   ...   \n",
       "2                2 AMB 3ER PISO CON ASCENSOR APTO CREDITO   \n",
       "3                            PH 3 amb. cfte. reciclado      \n",
       "4       DEPTO 2 AMB AL CONTRAFRENTE ZONA CENTRO/PLAZA ...   \n",
       "121215         Torre Forum Alcorta- Impecable 3 ambientes   \n",
       "121216  Ruca Inmuebles | Venta | Lomas de San Isidro |...   \n",
       "121217  VENTA DEPARTAMENTO AMBIENTE DIVISIBLE A ESTREN...   \n",
       "121218  2 amb. C/ dep. de servicio al contrafrente| Re...   \n",
       "121219         Departamento apto profesional en el Centro   \n",
       "\n",
       "                                          image_thumbnail  \n",
       "0       https://thumbs4.properati.com/8/BluUYiHJLhgIIK...  \n",
       "1       https://thumbs4.properati.com/7/ikpVBu2ztHA7jv...  \n",
       "2       https://thumbs4.properati.com/5/SXKr34F_IwG3W_...  \n",
       "3       https://thumbs4.properati.com/3/DgIfX-85Mog5SP...  \n",
       "4       https://thumbs4.properati.com/5/xrRqlNcSI_vs-f...  \n",
       "121215  https://thumbs4.properati.com/1/bjms0KnaAnlNoQ...  \n",
       "121216  https://thumbs4.properati.com/2/PCc3WuQDjpNZc4...  \n",
       "121217  https://thumbs4.properati.com/9/YAe_-2gRVykADP...  \n",
       "121218  https://thumbs4.properati.com/8/Q12PTvU6BQJ0ib...  \n",
       "121219  https://thumbs4.properati.com/8/mNEsnQWqB7joBF...  \n",
       "\n",
       "[10 rows x 26 columns]"
      ]
     },
     "execution_count": 16,
     "metadata": {},
     "output_type": "execute_result"
    }
   ],
   "source": [
    "file = 'dataset.csv'\n",
    "df = pd.read_csv(file)\n",
    "\n",
    "df_preview = pd.concat([df.head(5), df.tail(5)])\n",
    "df_preview"
   ]
  },
  {
   "cell_type": "markdown",
   "metadata": {},
   "source": [
    "Con un pedido de atributo columns generamos una lista de las columnas presentes y luego consultamos el atributo shape para observa la conformación del dataframe."
   ]
  },
  {
   "cell_type": "code",
   "execution_count": null,
   "metadata": {},
   "outputs": [],
   "source": [
    "df.columns"
   ]
  },
  {
   "cell_type": "code",
   "execution_count": null,
   "metadata": {},
   "outputs": [],
   "source": [
    "df.shape"
   ]
  },
  {
   "cell_type": "markdown",
   "metadata": {},
   "source": [
    "Al parecer contamos con dos columnas index debido a que el archivo csv incluía una columna de índice sin label. Esta columna es una primera candidata para ser eliminada, pero antes de proceder es necesario validar que efectivamente hay un match 1:1 entre ambas.\n",
    "La validación mediante indexado booleano desmuestra que no parece haber ningún valor donde el índice del dataset no coincida con el índice genero al crear el dataframe, así que procedemos a su eliminación."
   ]
  },
  {
   "cell_type": "code",
   "execution_count": null,
   "metadata": {},
   "outputs": [],
   "source": [
    "df[df['Unnamed: 0'] != df.index]"
   ]
  },
  {
   "cell_type": "code",
   "execution_count": null,
   "metadata": {},
   "outputs": [],
   "source": [
    "if 'Unnamed: 0' in df.columns:\n",
    "    df = df.drop(columns=['Unnamed: 0'])"
   ]
  },
  {
   "cell_type": "markdown",
   "metadata": {},
   "source": [
    "Una observación rápida de las columnas properati_url e image_thumbnail parece indicar que se tratan de columnas relacionadas con la aplicación o método utilizado para realizar scrapping. Procedemos a eliminar ambas"
   ]
  },
  {
   "cell_type": "code",
   "execution_count": null,
   "metadata": {},
   "outputs": [],
   "source": [
    "df.drop(columns=['properati_url', 'image_thumbnail'], inplace=True)"
   ]
  },
  {
   "cell_type": "code",
   "execution_count": null,
   "metadata": {},
   "outputs": [],
   "source": [
    "df.info()"
   ]
  },
  {
   "cell_type": "code",
   "execution_count": null,
   "metadata": {},
   "outputs": [],
   "source": [
    "df.describe()"
   ]
  },
  {
   "cell_type": "markdown",
   "metadata": {},
   "source": [
    "### Analisis de variables catégoricas"
   ]
  },
  {
   "cell_type": "markdown",
   "metadata": {},
   "source": [
    "Para reducir el lenght de nuestro dataset (en cuanto al número de columnas), una de las primeras acciones que podemos tomar es la que encontrar variables categóricas y entre estas aquellas que sean constantes, es decir que no muestren ninguna variabilidad dentro de la serie.\n",
    "Para esto utilizamos la función <i>viz_categorical</i> que comentamos en el apartado de funciones.\n",
    "\n",
    "Observamos que:\n",
    "<ul>\n",
    "  <li>Contamos con un número reducido de variables categóricas.</li>\n",
    "  <li>De estas, <i>operation</i> y <i>country_name</i> son constantes y deberan ser eliminadas dado que no tienen ningún valor predictivo sobre nuestra variable target </li>\n",
    "  <li>La variable <i>property_type</i> se encuentra desbalanceada para algunas de las categorías. Una posible solución seria simplificar la clasificación en <i>apartment</i> y <i>other</i> en referencia a otro tipo de edificación</li>\n",
    "  <li>Por otro lado, <i>currency</i> cuenta con outliers representados por PEN y UYU. Además ARS representa una porción muy baja de los registros. Lo mejor es realizar una conversión montaria a USD de la variable precio para asegurar la consistencia y eliminar esta columna.</li>\n",
    "</ul>"
   ]
  },
  {
   "cell_type": "code",
   "execution_count": null,
   "metadata": {},
   "outputs": [],
   "source": [
    "viz_categorical(df)"
   ]
  },
  {
   "cell_type": "markdown",
   "metadata": {},
   "source": [
    "<br>"
   ]
  },
  {
   "cell_type": "markdown",
   "metadata": {},
   "source": [
    "Para eliminar las constantes usaremos un one-liner / lambda function que representa la función a continuacion:\n",
    "\n",
    "```python\n",
    "def constant_check(dataframe):\n",
    "    if isinstance(dataframe, pd.DataFrame) is True:\n",
    "        for column in dataframe.columns:\n",
    "            if len(dataframe[column].value_counts().index) == 1:\n",
    "                dataframe = dataframe.drop(columns=[column])\n",
    "\n",
    "    return dataframe\n",
    "```"
   ]
  },
  {
   "cell_type": "code",
   "execution_count": null,
   "metadata": {},
   "outputs": [],
   "source": [
    "# Lambda function que realiza eliminación de series constantes\n",
    "constant_check = lambda dataframe:  dataframe.drop(columns=[column for column in dataframe.columns if len(dataframe[column].value_counts().index) == 1]) if isinstance(dataframe, pd.DataFrame) is True else 'Not a dataframe'\n",
    "\n",
    "# Realizamos la transformación\n",
    "df = constant_check(df)\n",
    "df.shape"
   ]
  },
  {
   "cell_type": "markdown",
   "metadata": {},
   "source": [
    "# INPUT PRECIO"
   ]
  },
  {
   "cell_type": "markdown",
   "metadata": {},
   "source": [
    "Vamos a buscar armar un nuevo Dataset sobre el cual trabajar, el mismo contara con todas las features de precios y las features categoricas 'desciption' y 'titles'.\n",
    "\n",
    "# "
   ]
  },
  {
   "cell_type": "code",
   "execution_count": 17,
   "metadata": {},
   "outputs": [
    {
     "data": {
      "text/html": [
       "<div>\n",
       "<style scoped>\n",
       "    .dataframe tbody tr th:only-of-type {\n",
       "        vertical-align: middle;\n",
       "    }\n",
       "\n",
       "    .dataframe tbody tr th {\n",
       "        vertical-align: top;\n",
       "    }\n",
       "\n",
       "    .dataframe thead th {\n",
       "        text-align: right;\n",
       "    }\n",
       "</style>\n",
       "<table border=\"1\" class=\"dataframe\">\n",
       "  <thead>\n",
       "    <tr style=\"text-align: right;\">\n",
       "      <th></th>\n",
       "      <th>price</th>\n",
       "      <th>price_aprox_local_currency</th>\n",
       "      <th>price_aprox_usd</th>\n",
       "      <th>price_usd_per_m2</th>\n",
       "      <th>price_per_m2</th>\n",
       "      <th>description</th>\n",
       "      <th>title</th>\n",
       "      <th>surface_total_in_m2</th>\n",
       "      <th>surface_covered_in_m2</th>\n",
       "    </tr>\n",
       "  </thead>\n",
       "  <tbody>\n",
       "    <tr>\n",
       "      <th>0</th>\n",
       "      <td>62000.0</td>\n",
       "      <td>1093959.0</td>\n",
       "      <td>62000.0</td>\n",
       "      <td>1127.272727</td>\n",
       "      <td>1550.000000</td>\n",
       "      <td>2 AMBIENTES TIPO CASA PLANTA BAJA POR PASILLO,...</td>\n",
       "      <td>2 AMB TIPO CASA SIN EXPENSAS EN PB</td>\n",
       "      <td>55.0</td>\n",
       "      <td>40.0</td>\n",
       "    </tr>\n",
       "    <tr>\n",
       "      <th>1</th>\n",
       "      <td>150000.0</td>\n",
       "      <td>2646675.0</td>\n",
       "      <td>150000.0</td>\n",
       "      <td>NaN</td>\n",
       "      <td>NaN</td>\n",
       "      <td>Venta de departamento en décimo piso al frente...</td>\n",
       "      <td>VENTA Depto 2 dorm. a estrenar 7 e/ 36 y 37   ...</td>\n",
       "      <td>NaN</td>\n",
       "      <td>NaN</td>\n",
       "    </tr>\n",
       "    <tr>\n",
       "      <th>2</th>\n",
       "      <td>72000.0</td>\n",
       "      <td>1270404.0</td>\n",
       "      <td>72000.0</td>\n",
       "      <td>1309.090909</td>\n",
       "      <td>1309.090909</td>\n",
       "      <td>2 AMBIENTES 3ER PISO LATERAL LIVING COMEDOR AM...</td>\n",
       "      <td>2 AMB 3ER PISO CON ASCENSOR APTO CREDITO</td>\n",
       "      <td>55.0</td>\n",
       "      <td>55.0</td>\n",
       "    </tr>\n",
       "    <tr>\n",
       "      <th>3</th>\n",
       "      <td>95000.0</td>\n",
       "      <td>1676227.5</td>\n",
       "      <td>95000.0</td>\n",
       "      <td>NaN</td>\n",
       "      <td>NaN</td>\n",
       "      <td>PH 3 ambientes con patio. Hay 3 deptos en lote...</td>\n",
       "      <td>PH 3 amb. cfte. reciclado</td>\n",
       "      <td>NaN</td>\n",
       "      <td>NaN</td>\n",
       "    </tr>\n",
       "    <tr>\n",
       "      <th>4</th>\n",
       "      <td>64000.0</td>\n",
       "      <td>1129248.0</td>\n",
       "      <td>64000.0</td>\n",
       "      <td>1828.571429</td>\n",
       "      <td>1828.571429</td>\n",
       "      <td>DEPARTAMENTO CON FANTÁSTICA ILUMINACIÓN NATURA...</td>\n",
       "      <td>DEPTO 2 AMB AL CONTRAFRENTE ZONA CENTRO/PLAZA ...</td>\n",
       "      <td>35.0</td>\n",
       "      <td>35.0</td>\n",
       "    </tr>\n",
       "  </tbody>\n",
       "</table>\n",
       "</div>"
      ],
      "text/plain": [
       "      price  price_aprox_local_currency  price_aprox_usd  price_usd_per_m2  \\\n",
       "0   62000.0                   1093959.0          62000.0       1127.272727   \n",
       "1  150000.0                   2646675.0         150000.0               NaN   \n",
       "2   72000.0                   1270404.0          72000.0       1309.090909   \n",
       "3   95000.0                   1676227.5          95000.0               NaN   \n",
       "4   64000.0                   1129248.0          64000.0       1828.571429   \n",
       "\n",
       "   price_per_m2                                        description  \\\n",
       "0   1550.000000  2 AMBIENTES TIPO CASA PLANTA BAJA POR PASILLO,...   \n",
       "1           NaN  Venta de departamento en décimo piso al frente...   \n",
       "2   1309.090909  2 AMBIENTES 3ER PISO LATERAL LIVING COMEDOR AM...   \n",
       "3           NaN  PH 3 ambientes con patio. Hay 3 deptos en lote...   \n",
       "4   1828.571429  DEPARTAMENTO CON FANTÁSTICA ILUMINACIÓN NATURA...   \n",
       "\n",
       "                                               title  surface_total_in_m2  \\\n",
       "0                 2 AMB TIPO CASA SIN EXPENSAS EN PB                 55.0   \n",
       "1  VENTA Depto 2 dorm. a estrenar 7 e/ 36 y 37   ...                  NaN   \n",
       "2           2 AMB 3ER PISO CON ASCENSOR APTO CREDITO                 55.0   \n",
       "3                       PH 3 amb. cfte. reciclado                     NaN   \n",
       "4  DEPTO 2 AMB AL CONTRAFRENTE ZONA CENTRO/PLAZA ...                 35.0   \n",
       "\n",
       "   surface_covered_in_m2  \n",
       "0                   40.0  \n",
       "1                    NaN  \n",
       "2                   55.0  \n",
       "3                    NaN  \n",
       "4                   35.0  "
      ]
     },
     "execution_count": 17,
     "metadata": {},
     "output_type": "execute_result"
    }
   ],
   "source": [
    "df_precio = df [['price','price_aprox_local_currency','price_aprox_usd','price_usd_per_m2','price_per_m2','description','title','surface_total_in_m2','surface_covered_in_m2']]\n",
    "\n",
    "df_precio.head(5)"
   ]
  },
  {
   "cell_type": "code",
   "execution_count": null,
   "metadata": {},
   "outputs": [],
   "source": [
    "df_precio.isna().sum()"
   ]
  },
  {
   "cell_type": "code",
   "execution_count": null,
   "metadata": {},
   "outputs": [],
   "source": [
    "df_precio['price_aprox_usd'].fillna(df_precio['price_usd_per_m2'].mul(df['surface_total_in_m2']))"
   ]
  },
  {
   "cell_type": "code",
   "execution_count": null,
   "metadata": {},
   "outputs": [],
   "source": [
    "df_precio['price_aprox_usd'].isna().sum()"
   ]
  },
  {
   "cell_type": "code",
   "execution_count": null,
   "metadata": {},
   "outputs": [],
   "source": [
    "Filas_precio_Nan = df_precio [['price','price_aprox_local_currency','price_aprox_usd','price_usd_per_m2','price_per_m2']].isna().all(axis=1).sum()\n",
    "\n",
    "print(f'La cantidad de filas donde todas las features son Nans al mismo tiempo es de: {Filas_precio_Nan} de una cantidad de 20410 filas ')"
   ]
  },
  {
   "cell_type": "markdown",
   "metadata": {},
   "source": [
    "# Regex PRECIO"
   ]
  },
  {
   "cell_type": "code",
   "execution_count": 18,
   "metadata": {},
   "outputs": [
    {
     "name": "stdout",
     "output_type": "stream",
     "text": [
      "False    118751\n",
      "True       2467\n",
      "Name: description, dtype: int64\n",
      "False    110686\n",
      "True      10532\n",
      "Name: description, dtype: int64\n"
     ]
    }
   ],
   "source": [
    "PRECIO = df_precio['description'].str.contains('PRECIO').value_counts()\n",
    "\n",
    "print(PRECIO)\n",
    "\n",
    "precio = df_precio['description'].str.contains('precio').value_counts()\n",
    "\n",
    "print(precio)\n"
   ]
  },
  {
   "cell_type": "code",
   "execution_count": 19,
   "metadata": {},
   "outputs": [],
   "source": [
    "nan_values = df_precio[df_precio['price'].isna()]"
   ]
  },
  {
   "cell_type": "code",
   "execution_count": 20,
   "metadata": {},
   "outputs": [
    {
     "data": {
      "text/plain": [
       "price                         20410\n",
       "price_aprox_local_currency    20410\n",
       "price_aprox_usd               20410\n",
       "price_usd_per_m2              20410\n",
       "price_per_m2                  20410\n",
       "description                       0\n",
       "title                             0\n",
       "surface_total_in_m2            7384\n",
       "surface_covered_in_m2          6757\n",
       "dtype: int64"
      ]
     },
     "execution_count": 20,
     "metadata": {},
     "output_type": "execute_result"
    }
   ],
   "source": [
    "nan_values.isna().sum()"
   ]
  },
  {
   "cell_type": "code",
   "execution_count": 21,
   "metadata": {},
   "outputs": [
    {
     "name": "stdout",
     "output_type": "stream",
     "text": [
      "False    19928\n",
      "True       482\n",
      "Name: description, dtype: int64\n",
      "False    18584\n",
      "True      1826\n",
      "Name: description, dtype: int64\n",
      "False    20394\n",
      "True        16\n",
      "Name: description, dtype: int64\n"
     ]
    }
   ],
   "source": [
    "PRECIO = nan_values['description'].str.contains('PRECIO').value_counts()\n",
    "\n",
    "print(PRECIO)\n",
    "\n",
    "precio = nan_values['description'].str.contains('precio').value_counts()\n",
    "\n",
    "print(precio)\n",
    "\n",
    "usd = nan_values['description'].str.contains('usd').value_counts()\n",
    "\n",
    "print(usd)"
   ]
  },
  {
   "cell_type": "code",
   "execution_count": null,
   "metadata": {},
   "outputs": [],
   "source": [
    "# # reemplazo U$S por vacío\n",
    "# dolares_pattern = \"U\\$S\\s*\"\n",
    "# dolares_regex = re.compile(dolares_pattern)\n",
    "\n",
    "# # reemplazo el punto decimal por vacío\n",
    "# decimal_pattern = \"\\.\"\n",
    "# decimal_regex = re.compile(decimal_pattern)\n",
    "\n",
    "# sin_dolar = data.PRECIOTEXT.apply(lambda x: x if x is np.NaN else dolares_regex.sub(\"\", x))\n",
    "\n",
    "# sin_dolar_sin_punto = sin_dolar.apply(lambda x: x if x is np.NaN else decimal_regex.sub(\"\", x))"
   ]
  },
  {
   "cell_type": "code",
   "execution_count": null,
   "metadata": {},
   "outputs": [],
   "source": [
    "# def re_precios (precios):\n",
    "#     return re.findall('\\$\\d+(?:\\.\\d+)?', precios)\n",
    "#     # return re.findall ('^\\$?\\-?([1-9]{1}[0-9]{0,2}(\\,\\d{3})*(\\.\\d{0,2})?|[1-9]{1}\\d{0,}(\\.\\d{0,2})?|0(\\.\\d{0,2})?|(\\.\\d{1,2}))$|^\\-?\\$?([1-9]{1}\\d{0,2}(\\,\\d{3})*(\\.\\d{0,2})?|[1-9]{1}\\d{0,}(\\.\\d{0,2})?|0(\\.\\d{0,2})?|(\\.\\d{1,2}))$|^\\(\\$?([1-9]{1}\\d{0,2}(\\,\\d{3})*(\\.\\d{0,2})?|[1-9]{1}\\d{0,}(\\.\\d{0,2})?|0(\\.\\d{0,2})?|(\\.\\d{1,2}))\\)$',precios)\n",
    "#     # return re.findall ('($usd|$USD|U$D)\\s?([0-9]+\\.+[0-9])',precios)\n",
    "#     # return re.findall((\\$(([0-9]?)[a-zA-Z]+)([0-9]?)))\n",
    "#     # return re.findall('($usd|$USD|U$D)\\s?(\\d{1,}(?:[.,]\\d{3})*(?: [.,]\\d{2}))|(\\d{1,3}(?:[.,]\\d{3})*(?:[.,]\\d{2})?)\\ s?(USD|EUR)', precios)"
   ]
  },
  {
   "cell_type": "code",
   "execution_count": null,
   "metadata": {},
   "outputs": [],
   "source": [
    "# # ^U\\$D\\s*?([0-9]{1,3}.([0-9]{3}.)*[0-9]{3}|[0-9]+)(,[0-9][0-9])?$\n",
    "\n",
    "# def re_precios (precios):\n",
    "#     return re.findall('^U\\$D\\s*?([0-9]{1,3}.([0-9]{3}.)*[0-9]{3}|[0-9]+)(,[0-9][0-9])?$', precios)"
   ]
  },
  {
   "cell_type": "code",
   "execution_count": null,
   "metadata": {},
   "outputs": [],
   "source": [
    "Sample15 = df_precio_regex.sample(15)\n",
    "\n",
    "Sample15 = Sample15.convert_dtypes()"
   ]
  },
  {
   "cell_type": "code",
   "execution_count": null,
   "metadata": {},
   "outputs": [],
   "source": [
    "re_precios(Sample15)"
   ]
  },
  {
   "cell_type": "code",
   "execution_count": null,
   "metadata": {},
   "outputs": [],
   "source": [
    "df_precio_regex = df [['price','description','price_aprox_usd']]"
   ]
  },
  {
   "cell_type": "code",
   "execution_count": null,
   "metadata": {},
   "outputs": [],
   "source": [
    "df_precio_regex.dtypes"
   ]
  },
  {
   "cell_type": "code",
   "execution_count": null,
   "metadata": {},
   "outputs": [],
   "source": [
    "df_precio_regex['description'] = df_precio_regex['description'].astype('str') "
   ]
  },
  {
   "cell_type": "code",
   "execution_count": null,
   "metadata": {},
   "outputs": [],
   "source": [
    "# df_precio_regex['precio_regex'] = df_precio_regex['description'].apply(re_precios)\n",
    "\n",
    "# df_precio_regex"
   ]
  },
  {
   "cell_type": "code",
   "execution_count": 22,
   "metadata": {},
   "outputs": [],
   "source": [
    "pattern_depto = \"U\\$D\\s*?([0-9]{1,3}.([0-9]{3}.)*[0-9]{3}|[0-9]+)(,[0-9][0-9])?$\"\n",
    "pattern_depto_regex = re.compile (pattern_depto,flags = re.IGNORECASE)\n",
    "desc_string = nan_values['description'].astype(str)\n",
    "tiene_balcon = desc_string.apply(lambda x: pattern_depto_regex.findall(x))"
   ]
  },
  {
   "cell_type": "code",
   "execution_count": 23,
   "metadata": {},
   "outputs": [
    {
     "data": {
      "text/plain": [
       "[]                 20384\n",
       "[(248.000, , )]        3\n",
       "[(345.000, , )]        2\n",
       "[(340.000, , )]        2\n",
       "[(260.000, , )]        2\n",
       "[(245.000, , )]        2\n",
       "[(240.000, , )]        2\n",
       "[(297000, , )]         1\n",
       "[(255.000, , )]        1\n",
       "[(350.000, , )]        1\n",
       "[(230.000, , )]        1\n",
       "[(225.000, , )]        1\n",
       "[(395.000, , )]        1\n",
       "[(450.000, , )]        1\n",
       "[(335.000, , )]        1\n",
       "[(200.000, , )]        1\n",
       "[(330.000, , )]        1\n",
       "[(220.000, , )]        1\n",
       "[(150000, , )]         1\n",
       "[(90.000, , )]         1\n",
       "Name: description, dtype: int64"
      ]
     },
     "execution_count": 23,
     "metadata": {},
     "output_type": "execute_result"
    }
   ],
   "source": [
    "tiene_balcon.value_counts()\n",
    "\n",
    "# df['state_name'].value_counts().index.tolist()"
   ]
  },
  {
   "cell_type": "code",
   "execution_count": 24,
   "metadata": {},
   "outputs": [
    {
     "data": {
      "text/plain": [
       "'248.000'"
      ]
     },
     "execution_count": 24,
     "metadata": {},
     "output_type": "execute_result"
    }
   ],
   "source": [
    "x = tiene_balcon.value_counts()[tiene_balcon.value_counts() < 20384]\n",
    "\n",
    "x.index[0][0][0]\n"
   ]
  },
  {
   "cell_type": "code",
   "execution_count": 25,
   "metadata": {},
   "outputs": [
    {
     "data": {
      "text/plain": [
       "5         []\n",
       "20        []\n",
       "41        []\n",
       "62        []\n",
       "67        []\n",
       "          ..\n",
       "121210    []\n",
       "121211    []\n",
       "121212    []\n",
       "121213    []\n",
       "121214    []\n",
       "Name: description, Length: 20410, dtype: object"
      ]
     },
     "execution_count": 25,
     "metadata": {},
     "output_type": "execute_result"
    }
   ],
   "source": [
    "tiene_balcon"
   ]
  },
  {
   "cell_type": "markdown",
   "metadata": {},
   "source": [
    "# WIP"
   ]
  },
  {
   "cell_type": "code",
   "execution_count": null,
   "metadata": {},
   "outputs": [],
   "source": [
    "columns = ['property_type', 'rooms']\n",
    "\n",
    "\n",
    "sn.set_theme()\n",
    "fig, axes = plt.subplots(2, 2, figsize=(15, 10))\n",
    "fig.suptitle('Multi variate analysis based on price')\n",
    "index = 0\n",
    "for column in columns:\n",
    "    group_df = df[[column, 'price']]\n",
    "    mean_df = group_df.groupby(by=[column]).agg({\"price\":['mean', 'count']})\n",
    "    sn.barplot(x=mean_df.index.tolist(), y=mean_df['price']['mean'].tolist(), ax=axes[0,index])\n",
    "    \n",
    "    \n",
    "    index += 1\n",
    "\n",
    "\n",
    "\n",
    "\n",
    "\n",
    "\n",
    "\n"
   ]
  },
  {
   "cell_type": "code",
   "execution_count": null,
   "metadata": {
    "pycharm": {
     "name": "#%%\n"
    }
   },
   "outputs": [],
   "source": [
    "# df['rooms'] = df['rooms'].fillna(value=0).astype(int)\n",
    "\n",
    "# df.rooms.value_counts().sort_values()\n",
    "\n"
   ]
  },
  {
   "cell_type": "markdown",
   "metadata": {},
   "source": [
    "### Validación mediante la columna description"
   ]
  },
  {
   "cell_type": "markdown",
   "metadata": {},
   "source": [
    "A través de la columna description validaremos varias de las otras columnas, puesto que estas parecen ser una descomposición de la primera. Por este motivo,  lo primero que haremos es descartar aquellos registros cuya descripción es nula."
   ]
  },
  {
   "cell_type": "code",
   "execution_count": null,
   "metadata": {
    "pycharm": {
     "name": "#%%\n"
    }
   },
   "outputs": [],
   "source": [
    "df.drop(index=df[df['description'].isnull() == True].index, inplace=True)\n",
    "df[df['description'].isnull() == True].index"
   ]
  },
  {
   "cell_type": "code",
   "execution_count": null,
   "metadata": {},
   "outputs": [],
   "source": [
    "x = df_test['description'].apply(lambda x: x.lower().find('venta') if str(x) != 'nan' else 'nan') #.apply(lambda x: False if x == '-1' or x == 'nan' else True)\n",
    "df = df.drop(index=x[x==False].index.tolist())\n"
   ]
  },
  {
   "cell_type": "code",
   "execution_count": null,
   "metadata": {
    "pycharm": {
     "name": "#%%\n"
    }
   },
   "outputs": [],
   "source": [
    "# que dropear:\n",
    "# operation\n",
    "# lat-long sacarla\n",
    "# price_aprox_local_curerncy\n",
    "# property_url\n",
    "# image thumbnail\n",
    "# rooms\n",
    "# country_name\n",
    "\n",
    "#armar:\n",
    "# ambientes a partir de description\n",
    "\n",
    "\n",
    "\n",
    "df['state_name'].value_counts()"
   ]
  },
  {
   "cell_type": "code",
   "execution_count": null,
   "metadata": {
    "pycharm": {
     "name": "#%%\n"
    }
   },
   "outputs": [],
   "source": [
    "table_dtype(df)"
   ]
  },
  {
   "cell_type": "code",
   "execution_count": null,
   "metadata": {
    "pycharm": {
     "name": "#%%\n"
    }
   },
   "outputs": [],
   "source": [
    "test = correlation_matrix(df, 'PROPERATY', rtn=False)"
   ]
  },
  {
   "cell_type": "code",
   "execution_count": null,
   "metadata": {},
   "outputs": [],
   "source": [
    "import plotly.io as pio\n",
    "#\n",
    "pio.show(test, engine='kaleido')\n"
   ]
  },
  {
   "cell_type": "code",
   "execution_count": null,
   "metadata": {
    "pycharm": {
     "is_executing": true,
     "name": "#%%\n"
    }
   },
   "outputs": [],
   "source": [
    "df_1 = df[['state_name', 'price']]\n",
    "df_1"
   ]
  },
  {
   "cell_type": "code",
   "execution_count": null,
   "metadata": {
    "pycharm": {
     "name": "#%%\n"
    }
   },
   "outputs": [],
   "source": [
    "\n",
    "#x = dat_insights(df, 'EDA', rtn=True)\n",
    "#x"
   ]
  },
  {
   "cell_type": "code",
   "execution_count": null,
   "metadata": {
    "pycharm": {
     "name": "#%%\n"
    }
   },
   "outputs": [],
   "source": [
    "# Probando\n",
    "\n"
   ]
  }
 ],
 "metadata": {
  "kernelspec": {
   "display_name": "Python 3.10.4 ('DH')",
   "language": "python",
   "name": "python3"
  },
  "language_info": {
   "codemirror_mode": {
    "name": "ipython",
    "version": 3
   },
   "file_extension": ".py",
   "mimetype": "text/x-python",
   "name": "python",
   "nbconvert_exporter": "python",
   "pygments_lexer": "ipython3",
   "version": "3.10.4"
  },
  "vscode": {
   "interpreter": {
    "hash": "c55d2ea23a159dc959e50c05b7a059454708feb13043d603d3af09c9842f79b2"
   }
  }
 },
 "nbformat": 4,
 "nbformat_minor": 1
}
