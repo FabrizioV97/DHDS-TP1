{
 "cells": [
  {
   "cell_type": "markdown",
   "metadata": {
    "pycharm": {
     "name": "#%% md\n"
    }
   },
   "source": [
    "## Install and imports"
   ]
  },
  {
   "cell_type": "markdown",
   "metadata": {},
   "source": [
    "Explicación de los modulos usados y por que"
   ]
  },
  {
   "cell_type": "markdown",
   "metadata": {},
   "source": [
    "### Imports"
   ]
  },
  {
   "cell_type": "code",
   "execution_count": 113,
   "metadata": {},
   "outputs": [],
   "source": [
    "import pandas as pd\n",
    "import numpy as np\n",
    "import warnings\n",
    "import re\n",
    "import requests\n",
    "import seaborn as sn\n",
    "import matplotlib.pyplot as plt\n",
    "import plotly.graph_objects as go\n",
    "from plotly.subplots import make_subplots"
   ]
  },
  {
   "cell_type": "markdown",
   "metadata": {},
   "source": [
    "#### Settings"
   ]
  },
  {
   "cell_type": "code",
   "execution_count": 114,
   "metadata": {},
   "outputs": [],
   "source": [
    "# Seaborn style\n",
    "sn.set_theme()\n",
    "\n",
    "\n",
    "# Color palette for Plotly\n",
    "palette = [\"#FC645F\", \"#A8E4A0\", \"#7088FF\", \"#FEB1AF\"]\n",
    "\n",
    "\n",
    "# Silencing warnings\n",
    "warnings.filterwarnings('ignore')\n",
    "\n",
    "\n",
    "# Setting max columns to six\n",
    "pd.options.display.max_columns = 6\n",
    "\n",
    "\n",
    "# Setting max rows to ten\n",
    "pd.options.display.max_rows = 10\n",
    "\n",
    "\n",
    "# Loading dataset\n",
    "file = 'dataset.csv'\n",
    "df = pd.read_csv(file)"
   ]
  },
  {
   "cell_type": "markdown",
   "metadata": {},
   "source": [
    "### Funciones"
   ]
  },
  {
   "cell_type": "markdown",
   "metadata": {},
   "source": [
    "\n",
    "\n",
    "<b>viz_categorical</b> <br>\n",
    "Esta función dinamicamente encuentra las variables catégoricas (con un value count de 25 o menos) de un dataframe y plotea los distintos valores en la serie. La utilizaremos para encontrar las variables categóricas sino tambien para marcar aquellas que son constantes, es decir, cuentan con un solo valor."
   ]
  },
  {
   "cell_type": "code",
   "execution_count": 115,
   "metadata": {},
   "outputs": [],
   "source": [
    "def viz_categorical(dataframe):\n",
    "    column_list = [column for column in dataframe.columns if len(dataframe[column].value_counts().index)>0 and len(dataframe[column].value_counts().index)<=40]\n",
    "    context_dataframe = dataframe[column_list]\n",
    "    \n",
    "    \n",
    "    # Calculating row index for plot based on x * 3 design\n",
    "    if context_dataframe.shape[1] % 3 != 0:\n",
    "        rows = round(context_dataframe.shape[1] / 3) + 1\n",
    "    else:\n",
    "        rows = round(context_dataframe.shape[1] / 3)\n",
    "\n",
    "\n",
    "    # Plot constants\n",
    "    fig, axes = plt.subplots(rows,3, figsize=(15, 10))\n",
    "    fig.suptitle('Categorical variables')\n",
    "    \n",
    "    col_iter = 0\n",
    "    row_iter = 0\n",
    "\n",
    "\n",
    "    # Plotting\n",
    "    for column, (i, ax) in zip(context_dataframe.columns, enumerate(fig.axes)):\n",
    "        col_loc = context_dataframe.columns.get_loc(column)\n",
    "        sn.barplot(x=context_dataframe[column].value_counts().index, y=context_dataframe[column].value_counts().values, ax=ax)\n",
    "        ax.title.set_text(column)\n",
    "        if len(context_dataframe[column].value_counts().index) > 5:\n",
    "            ax.set_xticks([])"
   ]
  },
  {
   "cell_type": "markdown",
   "metadata": {},
   "source": [
    "<b>historical_currency_data</b><br>\n",
    "Esta función consume la API exchangerate.host para retornar datos relativa al tipo de cambio de una moneda en relación al dolar.\n"
   ]
  },
  {
   "cell_type": "code",
   "execution_count": 116,
   "metadata": {},
   "outputs": [],
   "source": [
    "def historical_currency_data(target_year, month_start, month_end, currency):\n",
    "    exchg_series = []\n",
    "    dates_series = []\n",
    "\n",
    "    # Loop through month range for api consume\n",
    "    for month in range(month_start,month_end+1):\n",
    "        data = requests.get(f'https://api.exchangerate.host/{target_year}-{month}-15', params={'base':'USD', 'symbols':currency}).json()\n",
    "        exchg_series.append(data['rates'][currency])\n",
    "        dates_series.append(f'{target_year}-{month}-15')\n",
    "\n",
    "\n",
    "    # We return the series in a readable dataframe format\n",
    "    return pd.DataFrame({'index': [i for i in range(month_start, month_end+1)] ,'date': dates_series, 'rate':exchg_series}).set_index('index')"
   ]
  },
  {
   "cell_type": "code",
   "execution_count": 117,
   "metadata": {},
   "outputs": [],
   "source": [
    "\n",
    "\n",
    "def dat_insights(dataframe,sheet_name=False,rtn=True,dat=False,date_parse=False):\n",
    "  if type(dataframe) == str:\n",
    "    dataframe = data_capture(dataframe,sheet_name,date_parse).capture()\n",
    "  if dat is not False:\n",
    "    dataframe = column_cleaner(dataframe,[column for column in dataframe.columns if column in dat])\n",
    "  null_values = dataframe.isnull().sum().sort_values(ascending=False)\n",
    "  nulls_sum = (dataframe.isnull().sum()).sum()\n",
    "  fields_sum = (dataframe.shape[0] * dataframe.shape[1]) - nulls_sum\n",
    "  nulls_percentile = max(null_values)\n",
    "  fills_percentile = dataframe.shape[0] - nulls_percentile\n",
    "  if null_values.shape[0] > 15:\n",
    "    null_values = null_values[null_values != 0]\n",
    "  else:\n",
    "    pass\n",
    "  fig = make_subplots(rows=2,\n",
    "                      cols=2,\n",
    "                      subplot_titles=[\"<b>CORRECT ENTRIES</b>\",\n",
    "                                      \"<b>CORRECT CELLS\",\n",
    "                                      \"<b>NULLS/COLUMN</b>\"],\n",
    "                      specs=[[{'type':'domain'},{'type':'domain'}],\n",
    "                             [{'type':'xy',\"colspan\":2},{}]])\n",
    "  fig.add_trace(go.Pie(labels=[\"Null entries\",\"Valid entries\"],\n",
    "                       values=[nulls_percentile,fills_percentile],\n",
    "                       hole=0.4,\n",
    "                       marker_colors=palette,\n",
    "                       name=\"Correct entries\",\n",
    "                       title=dataframe.shape[0],legendgroup=\"apie\"),1,1)\n",
    "  fig.add_trace(go.Pie(labels=[\"Null cells\",\n",
    "                               \"Valid cells\"],\n",
    "                       values=[nulls_sum,\n",
    "                               fields_sum],\n",
    "                       hole=0.4,\n",
    "                       marker_colors=palette,\n",
    "                       name=\"Correct cells\",\n",
    "                       title=dataframe.shape[0]*dataframe.shape[1],\n",
    "                       legendgroup=\"pie\"),1,2)\n",
    "  fig.add_trace(go.Bar(x=null_values,\n",
    "                       y=null_values.index,\n",
    "                       name=\"Nulls/Column\",\n",
    "                       orientation=\"h\",\n",
    "                       marker_color=\"#FC645F\",\n",
    "                       showlegend=False),2,1)\n",
    "  fig.update_traces(textposition='inside')\n",
    "  fig.update_layout(height=600,\n",
    "                    width=800,\n",
    "                    title=f\"<b>{sheet_name.upper()} INSIGHTS</b>\",\n",
    "                    yaxis_title=\"Columns\",\n",
    "                    xaxis_title=\"Nulls\",\n",
    "                    font_size=14)\n",
    "  if rtn == True:\n",
    "    fig.show(config={'modeBarButtonsToAdd':['drawline',\n",
    "                                            'drawopenpath',\n",
    "                                            'drawclosedpath',\n",
    "                                            'drawcircle',\n",
    "                                            'drawrect',\n",
    "                                            'eraseshape']})\n",
    "  else:\n",
    "    return fig\n",
    "\n",
    "\n",
    "def table_dtype(dataframe,rtn=True):\n",
    "  # Función que crea reporte de tipo de variables y datos\n",
    "  # dataframe = objet.dataframe\n",
    "  # arg = True: use fig.show() otherwise it returns fig for object\n",
    "  df_dtypes = dataframe.convert_dtypes()\n",
    "  table_columns = [column for column in df_dtypes.dtypes.index.values]\n",
    "  table_values = [str(value) for value in df_dtypes.dtypes]\n",
    "  values = pd.Series(table_values)\n",
    "  fig = make_subplots(rows=2,\n",
    "                      cols=2,\n",
    "                      specs=[[{\"type\":\"table\"},{\"type\":\"domain\"}],\n",
    "                             [{\"type\":\"table\"},{\"type\":\"domain\"}]],\n",
    "                      subplot_titles=[\"\",\n",
    "                                      \"<b>TYPE\",\n",
    "                                      \"\",\n",
    "                                      \"<b>CLASS\"])\n",
    "  fig.add_trace(go.Pie(labels=values.value_counts().index,\n",
    "                       values=values.value_counts(),\n",
    "                       marker_colors=palette,\n",
    "                       hole=0.4,\n",
    "                       title=values.shape[0],\n",
    "                       legendgroup=\"pie\"),1,2)\n",
    "  fig.update_traces(textposition='inside')\n",
    "  fig.add_trace(go.Table(header=dict(values=['Column',\n",
    "                                             'Data type'],\n",
    "                                     fill_color=\"#A8E4A0\",\n",
    "                                     line_color='darkslategray'),\n",
    "                         cells=dict(values=[table_columns,\n",
    "                                            table_values],\n",
    "                                    line_color='darkslategray')),1,1)\n",
    "  fig.update_layout(height=500,width=1000,\n",
    "                    title=\"<b>DATA TYPE ANALYSIS\",\n",
    "                    font_size=12)\n",
    "\n",
    "  type_var = []\n",
    "  for value in range(0,len(df_dtypes.dtypes)):\n",
    "    if \"Int\" in str(df_dtypes.dtypes[value]):\n",
    "      type_var.append(\"Numerical\")\n",
    "    else:\n",
    "      if len(df_dtypes[df_dtypes.dtypes.index[value]].value_counts().index) <= 2:\n",
    "        type_var.append(\"Numerical/Boolean\")\n",
    "      else:\n",
    "        type_var.append(\"Categorical\")\n",
    "\n",
    "  pie_values = [values for values in [type_var.count(\"Categorical\"), type_var.count(\"Numerical\"), type_var.count(\"Numerical/Boolean\")] if values !=0]\n",
    "  pie_labels = str(set(type_var)).replace(\"{\",\"\").replace(\"}\",\"\").replace(\"'\",\"\").split(\",\")\n",
    "  fig.add_trace(go.Table(header=dict(values=[\"Columns\",\n",
    "                                             \"Classification\"],\n",
    "                                     fill_color=\"#A8E4A0\",\n",
    "                                     line_color='darkslategray'),\n",
    "                         cells=dict(values=[df_dtypes.dtypes.index,type_var])),2,1)\n",
    "  fig.add_trace(go.Pie(labels=pie_labels,\n",
    "                       values=pie_values,\n",
    "                       marker_colors=palette,\n",
    "                       hole=0.4,\n",
    "                       legendgroup=\"pie2\"),2,2)\n",
    "  fig.update_layout(height=800,width=1000,title=\"<b>DATA TYPE ANALYSIS\",font_size=14)\n",
    "  if rtn == True:\n",
    "    fig.show()\n",
    "  else:\n",
    "    return fig\n",
    "\n",
    "\n",
    "def correlation_matrix(dataframe, name, rtn=True):\n",
    "  dataframe = dataframe.convert_dtypes()\n",
    "  fig=make_subplots(cols=1,\n",
    "                    rows=1)\n",
    "  z,x = dataframe.corr(method=\"pearson\"),dataframe.corr(method=\"pearson\").columns\n",
    "  fig.add_trace(go.Heatmap(z = z,\n",
    "                           x = x,\n",
    "                           y = x,\n",
    "                           colorscale=\"Burg\"))\n",
    "  fig.update_layout(height=800,width=800,title=f\"<b>{name} FEATURE CORRELATION MATRIX\")\n",
    "  if rtn == True:\n",
    "    fig.show('png', engine='orca')\n",
    "        # fig.show(config={'modeBarButtonsToAdd':['drawline',\n",
    "        #                                     'drawopenpath',\n",
    "        #                                     'drawclosedpath',\n",
    "        #                                     'drawcircle',\n",
    "        #                                     'drawrect',\n",
    "        #                                     'eraseshape']})\n",
    "  else:\n",
    "    return fig"
   ]
  },
  {
   "cell_type": "markdown",
   "metadata": {
    "pycharm": {
     "name": "#%% md\n"
    }
   },
   "source": [
    "## Analisis de datos exploratorio"
   ]
  },
  {
   "cell_type": "markdown",
   "metadata": {},
   "source": [
    "### Primeros pasos"
   ]
  },
  {
   "cell_type": "markdown",
   "metadata": {},
   "source": [
    "Primero exportamos nuestro dataset como objecto pandas.dataframe para realizar las primeras observaciones. Observamos el número total de filas, columnas y la presencia de un elevado número de duplicados.\n",
    "Con la utilización del método append, head y tail, generamos una preview del dataframe basada en los cinco primeros y últimos registros."
   ]
  },
  {
   "cell_type": "code",
   "execution_count": 118,
   "metadata": {},
   "outputs": [
    {
     "name": "stdout",
     "output_type": "stream",
     "text": [
      "El dataframe cuenta 121220 filas, 26 columnas y un total de 0 duplicados que representan un 0% del total de entradas\n"
     ]
    }
   ],
   "source": [
    "print(f\"El dataframe cuenta {df.shape[0]} filas, {df.shape[1]} columnas y un total de {df.duplicated().sum()} duplicados que representan un {round(df.duplicated().sum()/df.shape[0] * 100)}% del total de entradas\")"
   ]
  },
  {
   "cell_type": "code",
   "execution_count": 119,
   "metadata": {},
   "outputs": [
    {
     "data": {
      "text/html": [
       "<div>\n",
       "<style scoped>\n",
       "    .dataframe tbody tr th:only-of-type {\n",
       "        vertical-align: middle;\n",
       "    }\n",
       "\n",
       "    .dataframe tbody tr th {\n",
       "        vertical-align: top;\n",
       "    }\n",
       "\n",
       "    .dataframe thead th {\n",
       "        text-align: right;\n",
       "    }\n",
       "</style>\n",
       "<table border=\"1\" class=\"dataframe\">\n",
       "  <thead>\n",
       "    <tr style=\"text-align: right;\">\n",
       "      <th></th>\n",
       "      <th>Unnamed: 0</th>\n",
       "      <th>operation</th>\n",
       "      <th>property_type</th>\n",
       "      <th>...</th>\n",
       "      <th>description</th>\n",
       "      <th>title</th>\n",
       "      <th>image_thumbnail</th>\n",
       "    </tr>\n",
       "  </thead>\n",
       "  <tbody>\n",
       "    <tr>\n",
       "      <th>0</th>\n",
       "      <td>0</td>\n",
       "      <td>sell</td>\n",
       "      <td>PH</td>\n",
       "      <td>...</td>\n",
       "      <td>2 AMBIENTES TIPO CASA PLANTA BAJA POR PASILLO,...</td>\n",
       "      <td>2 AMB TIPO CASA SIN EXPENSAS EN PB</td>\n",
       "      <td>https://thumbs4.properati.com/8/BluUYiHJLhgIIK...</td>\n",
       "    </tr>\n",
       "    <tr>\n",
       "      <th>1</th>\n",
       "      <td>1</td>\n",
       "      <td>sell</td>\n",
       "      <td>apartment</td>\n",
       "      <td>...</td>\n",
       "      <td>Venta de departamento en décimo piso al frente...</td>\n",
       "      <td>VENTA Depto 2 dorm. a estrenar 7 e/ 36 y 37   ...</td>\n",
       "      <td>https://thumbs4.properati.com/7/ikpVBu2ztHA7jv...</td>\n",
       "    </tr>\n",
       "    <tr>\n",
       "      <th>2</th>\n",
       "      <td>2</td>\n",
       "      <td>sell</td>\n",
       "      <td>apartment</td>\n",
       "      <td>...</td>\n",
       "      <td>2 AMBIENTES 3ER PISO LATERAL LIVING COMEDOR AM...</td>\n",
       "      <td>2 AMB 3ER PISO CON ASCENSOR APTO CREDITO</td>\n",
       "      <td>https://thumbs4.properati.com/5/SXKr34F_IwG3W_...</td>\n",
       "    </tr>\n",
       "    <tr>\n",
       "      <th>3</th>\n",
       "      <td>3</td>\n",
       "      <td>sell</td>\n",
       "      <td>PH</td>\n",
       "      <td>...</td>\n",
       "      <td>PH 3 ambientes con patio. Hay 3 deptos en lote...</td>\n",
       "      <td>PH 3 amb. cfte. reciclado</td>\n",
       "      <td>https://thumbs4.properati.com/3/DgIfX-85Mog5SP...</td>\n",
       "    </tr>\n",
       "    <tr>\n",
       "      <th>4</th>\n",
       "      <td>4</td>\n",
       "      <td>sell</td>\n",
       "      <td>apartment</td>\n",
       "      <td>...</td>\n",
       "      <td>DEPARTAMENTO CON FANTÁSTICA ILUMINACIÓN NATURA...</td>\n",
       "      <td>DEPTO 2 AMB AL CONTRAFRENTE ZONA CENTRO/PLAZA ...</td>\n",
       "      <td>https://thumbs4.properati.com/5/xrRqlNcSI_vs-f...</td>\n",
       "    </tr>\n",
       "    <tr>\n",
       "      <th>121215</th>\n",
       "      <td>121215</td>\n",
       "      <td>sell</td>\n",
       "      <td>apartment</td>\n",
       "      <td>...</td>\n",
       "      <td>TORRE FORUM ALCORTA - MÁXIMA CATEGORÍA.Impecab...</td>\n",
       "      <td>Torre Forum Alcorta- Impecable 3 ambientes</td>\n",
       "      <td>https://thumbs4.properati.com/1/bjms0KnaAnlNoQ...</td>\n",
       "    </tr>\n",
       "    <tr>\n",
       "      <th>121216</th>\n",
       "      <td>121216</td>\n",
       "      <td>sell</td>\n",
       "      <td>house</td>\n",
       "      <td>...</td>\n",
       "      <td>Excelente e impecable casa en Venta en Las Lom...</td>\n",
       "      <td>Ruca Inmuebles | Venta | Lomas de San Isidro |...</td>\n",
       "      <td>https://thumbs4.properati.com/2/PCc3WuQDjpNZc4...</td>\n",
       "    </tr>\n",
       "    <tr>\n",
       "      <th>121217</th>\n",
       "      <td>121217</td>\n",
       "      <td>sell</td>\n",
       "      <td>apartment</td>\n",
       "      <td>...</td>\n",
       "      <td>VENTA DEPARTAMENTO AMBIENTE DIVISIBLE A ESTREN...</td>\n",
       "      <td>VENTA DEPARTAMENTO AMBIENTE DIVISIBLE A ESTREN...</td>\n",
       "      <td>https://thumbs4.properati.com/9/YAe_-2gRVykADP...</td>\n",
       "    </tr>\n",
       "    <tr>\n",
       "      <th>121218</th>\n",
       "      <td>121218</td>\n",
       "      <td>sell</td>\n",
       "      <td>apartment</td>\n",
       "      <td>...</td>\n",
       "      <td>2 Amb al contrafrente,  luminoso. El departame...</td>\n",
       "      <td>2 amb. C/ dep. de servicio al contrafrente| Re...</td>\n",
       "      <td>https://thumbs4.properati.com/8/Q12PTvU6BQJ0ib...</td>\n",
       "    </tr>\n",
       "    <tr>\n",
       "      <th>121219</th>\n",
       "      <td>121219</td>\n",
       "      <td>sell</td>\n",
       "      <td>apartment</td>\n",
       "      <td>...</td>\n",
       "      <td>Departamento de 77 m2 apto profesional. Edific...</td>\n",
       "      <td>Departamento apto profesional en el Centro</td>\n",
       "      <td>https://thumbs4.properati.com/8/mNEsnQWqB7joBF...</td>\n",
       "    </tr>\n",
       "  </tbody>\n",
       "</table>\n",
       "<p>10 rows × 26 columns</p>\n",
       "</div>"
      ],
      "text/plain": [
       "        Unnamed: 0 operation property_type  ...  \\\n",
       "0                0      sell            PH  ...   \n",
       "1                1      sell     apartment  ...   \n",
       "2                2      sell     apartment  ...   \n",
       "3                3      sell            PH  ...   \n",
       "4                4      sell     apartment  ...   \n",
       "121215      121215      sell     apartment  ...   \n",
       "121216      121216      sell         house  ...   \n",
       "121217      121217      sell     apartment  ...   \n",
       "121218      121218      sell     apartment  ...   \n",
       "121219      121219      sell     apartment  ...   \n",
       "\n",
       "                                              description  \\\n",
       "0       2 AMBIENTES TIPO CASA PLANTA BAJA POR PASILLO,...   \n",
       "1       Venta de departamento en décimo piso al frente...   \n",
       "2       2 AMBIENTES 3ER PISO LATERAL LIVING COMEDOR AM...   \n",
       "3       PH 3 ambientes con patio. Hay 3 deptos en lote...   \n",
       "4       DEPARTAMENTO CON FANTÁSTICA ILUMINACIÓN NATURA...   \n",
       "121215  TORRE FORUM ALCORTA - MÁXIMA CATEGORÍA.Impecab...   \n",
       "121216  Excelente e impecable casa en Venta en Las Lom...   \n",
       "121217  VENTA DEPARTAMENTO AMBIENTE DIVISIBLE A ESTREN...   \n",
       "121218  2 Amb al contrafrente,  luminoso. El departame...   \n",
       "121219  Departamento de 77 m2 apto profesional. Edific...   \n",
       "\n",
       "                                                    title  \\\n",
       "0                      2 AMB TIPO CASA SIN EXPENSAS EN PB   \n",
       "1       VENTA Depto 2 dorm. a estrenar 7 e/ 36 y 37   ...   \n",
       "2                2 AMB 3ER PISO CON ASCENSOR APTO CREDITO   \n",
       "3                            PH 3 amb. cfte. reciclado      \n",
       "4       DEPTO 2 AMB AL CONTRAFRENTE ZONA CENTRO/PLAZA ...   \n",
       "121215         Torre Forum Alcorta- Impecable 3 ambientes   \n",
       "121216  Ruca Inmuebles | Venta | Lomas de San Isidro |...   \n",
       "121217  VENTA DEPARTAMENTO AMBIENTE DIVISIBLE A ESTREN...   \n",
       "121218  2 amb. C/ dep. de servicio al contrafrente| Re...   \n",
       "121219         Departamento apto profesional en el Centro   \n",
       "\n",
       "                                          image_thumbnail  \n",
       "0       https://thumbs4.properati.com/8/BluUYiHJLhgIIK...  \n",
       "1       https://thumbs4.properati.com/7/ikpVBu2ztHA7jv...  \n",
       "2       https://thumbs4.properati.com/5/SXKr34F_IwG3W_...  \n",
       "3       https://thumbs4.properati.com/3/DgIfX-85Mog5SP...  \n",
       "4       https://thumbs4.properati.com/5/xrRqlNcSI_vs-f...  \n",
       "121215  https://thumbs4.properati.com/1/bjms0KnaAnlNoQ...  \n",
       "121216  https://thumbs4.properati.com/2/PCc3WuQDjpNZc4...  \n",
       "121217  https://thumbs4.properati.com/9/YAe_-2gRVykADP...  \n",
       "121218  https://thumbs4.properati.com/8/Q12PTvU6BQJ0ib...  \n",
       "121219  https://thumbs4.properati.com/8/mNEsnQWqB7joBF...  \n",
       "\n",
       "[10 rows x 26 columns]"
      ]
     },
     "execution_count": 119,
     "metadata": {},
     "output_type": "execute_result"
    }
   ],
   "source": [
    "df_preview = pd.concat([df.head(5), df.tail(5)])\n",
    "df_preview"
   ]
  },
  {
   "cell_type": "code",
   "execution_count": null,
   "metadata": {},
   "outputs": [],
   "source": []
  },
  {
   "cell_type": "markdown",
   "metadata": {},
   "source": [
    "Con un pedido de atributo columns generamos una lista de todas las columnas presentes."
   ]
  },
  {
   "cell_type": "code",
   "execution_count": 120,
   "metadata": {},
   "outputs": [
    {
     "data": {
      "text/plain": [
       "Index(['Unnamed: 0', 'operation', 'property_type', 'place_name',\n",
       "       'place_with_parent_names', 'country_name', 'state_name', 'geonames_id',\n",
       "       'lat-lon', 'lat', 'lon', 'price', 'currency',\n",
       "       'price_aprox_local_currency', 'price_aprox_usd', 'surface_total_in_m2',\n",
       "       'surface_covered_in_m2', 'price_usd_per_m2', 'price_per_m2', 'floor',\n",
       "       'rooms', 'expenses', 'properati_url', 'description', 'title',\n",
       "       'image_thumbnail'],\n",
       "      dtype='object')"
      ]
     },
     "execution_count": 120,
     "metadata": {},
     "output_type": "execute_result"
    }
   ],
   "source": [
    "df.columns"
   ]
  },
  {
   "cell_type": "markdown",
   "metadata": {},
   "source": [
    "Al parecer contamos con dos columnas index debido a que el archivo csv incluía una columna de índice sin label. Esta columna es una primera candidata para ser eliminada, pero antes de proceder es necesario validar que efectivamente hay un match 1:1 entre ambas.\n",
    "La validación mediante indexado booleano desmuestra que no parece haber ningún valor donde el índice del dataset no coincida con el índice genero al crear el dataframe, así que procedemos a su eliminación."
   ]
  },
  {
   "cell_type": "code",
   "execution_count": 121,
   "metadata": {},
   "outputs": [
    {
     "data": {
      "text/html": [
       "<div>\n",
       "<style scoped>\n",
       "    .dataframe tbody tr th:only-of-type {\n",
       "        vertical-align: middle;\n",
       "    }\n",
       "\n",
       "    .dataframe tbody tr th {\n",
       "        vertical-align: top;\n",
       "    }\n",
       "\n",
       "    .dataframe thead th {\n",
       "        text-align: right;\n",
       "    }\n",
       "</style>\n",
       "<table border=\"1\" class=\"dataframe\">\n",
       "  <thead>\n",
       "    <tr style=\"text-align: right;\">\n",
       "      <th></th>\n",
       "      <th>Unnamed: 0</th>\n",
       "      <th>operation</th>\n",
       "      <th>property_type</th>\n",
       "      <th>...</th>\n",
       "      <th>description</th>\n",
       "      <th>title</th>\n",
       "      <th>image_thumbnail</th>\n",
       "    </tr>\n",
       "  </thead>\n",
       "  <tbody>\n",
       "  </tbody>\n",
       "</table>\n",
       "<p>0 rows × 26 columns</p>\n",
       "</div>"
      ],
      "text/plain": [
       "Empty DataFrame\n",
       "Columns: [Unnamed: 0, operation, property_type, place_name, place_with_parent_names, country_name, state_name, geonames_id, lat-lon, lat, lon, price, currency, price_aprox_local_currency, price_aprox_usd, surface_total_in_m2, surface_covered_in_m2, price_usd_per_m2, price_per_m2, floor, rooms, expenses, properati_url, description, title, image_thumbnail]\n",
       "Index: []\n",
       "\n",
       "[0 rows x 26 columns]"
      ]
     },
     "execution_count": 121,
     "metadata": {},
     "output_type": "execute_result"
    }
   ],
   "source": [
    "df[df['Unnamed: 0'] != df.index]"
   ]
  },
  {
   "cell_type": "code",
   "execution_count": 122,
   "metadata": {},
   "outputs": [],
   "source": [
    "if 'Unnamed: 0' in df.columns:\n",
    "    df = df.drop(columns=['Unnamed: 0'])"
   ]
  },
  {
   "cell_type": "markdown",
   "metadata": {},
   "source": [
    "Una observación rápida de las columnas properati_url e image_thumbnail parece indicar que se tratan de columnas relacionadas con la aplicación de donde fueron extraídos los datos. Dado que no cumplen ninguna función procedemos a eliminar ambas."
   ]
  },
  {
   "cell_type": "code",
   "execution_count": 123,
   "metadata": {},
   "outputs": [],
   "source": [
    "df.drop(columns=['properati_url', 'image_thumbnail'], inplace=True)"
   ]
  },
  {
   "cell_type": "code",
   "execution_count": 124,
   "metadata": {},
   "outputs": [
    {
     "name": "stdout",
     "output_type": "stream",
     "text": [
      "<class 'pandas.core.frame.DataFrame'>\n",
      "RangeIndex: 121220 entries, 0 to 121219\n",
      "Data columns (total 23 columns):\n",
      " #   Column                      Non-Null Count   Dtype  \n",
      "---  ------                      --------------   -----  \n",
      " 0   operation                   121220 non-null  object \n",
      " 1   property_type               121220 non-null  object \n",
      " 2   place_name                  121197 non-null  object \n",
      " 3   place_with_parent_names     121220 non-null  object \n",
      " 4   country_name                121220 non-null  object \n",
      " 5   state_name                  121220 non-null  object \n",
      " 6   geonames_id                 102503 non-null  float64\n",
      " 7   lat-lon                     69670 non-null   object \n",
      " 8   lat                         69670 non-null   float64\n",
      " 9   lon                         69670 non-null   float64\n",
      " 10  price                       100810 non-null  float64\n",
      " 11  currency                    100809 non-null  object \n",
      " 12  price_aprox_local_currency  100810 non-null  float64\n",
      " 13  price_aprox_usd             100810 non-null  float64\n",
      " 14  surface_total_in_m2         81892 non-null   float64\n",
      " 15  surface_covered_in_m2       101313 non-null  float64\n",
      " 16  price_usd_per_m2            68617 non-null   float64\n",
      " 17  price_per_m2                87658 non-null   float64\n",
      " 18  floor                       7899 non-null    float64\n",
      " 19  rooms                       47390 non-null   float64\n",
      " 20  expenses                    14262 non-null   float64\n",
      " 21  description                 121218 non-null  object \n",
      " 22  title                       121220 non-null  object \n",
      "dtypes: float64(13), object(10)\n",
      "memory usage: 21.3+ MB\n"
     ]
    }
   ],
   "source": [
    "df.info()"
   ]
  },
  {
   "cell_type": "code",
   "execution_count": 125,
   "metadata": {},
   "outputs": [
    {
     "data": {
      "text/html": [
       "<div>\n",
       "<style scoped>\n",
       "    .dataframe tbody tr th:only-of-type {\n",
       "        vertical-align: middle;\n",
       "    }\n",
       "\n",
       "    .dataframe tbody tr th {\n",
       "        vertical-align: top;\n",
       "    }\n",
       "\n",
       "    .dataframe thead th {\n",
       "        text-align: right;\n",
       "    }\n",
       "</style>\n",
       "<table border=\"1\" class=\"dataframe\">\n",
       "  <thead>\n",
       "    <tr style=\"text-align: right;\">\n",
       "      <th></th>\n",
       "      <th>geonames_id</th>\n",
       "      <th>lat</th>\n",
       "      <th>lon</th>\n",
       "      <th>...</th>\n",
       "      <th>floor</th>\n",
       "      <th>rooms</th>\n",
       "      <th>expenses</th>\n",
       "    </tr>\n",
       "  </thead>\n",
       "  <tbody>\n",
       "    <tr>\n",
       "      <th>count</th>\n",
       "      <td>1.025030e+05</td>\n",
       "      <td>69670.000000</td>\n",
       "      <td>69670.000000</td>\n",
       "      <td>...</td>\n",
       "      <td>7899.000000</td>\n",
       "      <td>47390.000000</td>\n",
       "      <td>1.426200e+04</td>\n",
       "    </tr>\n",
       "    <tr>\n",
       "      <th>mean</th>\n",
       "      <td>3.574442e+06</td>\n",
       "      <td>-34.626210</td>\n",
       "      <td>-59.266290</td>\n",
       "      <td>...</td>\n",
       "      <td>17.452336</td>\n",
       "      <td>3.080840</td>\n",
       "      <td>5.009234e+03</td>\n",
       "    </tr>\n",
       "    <tr>\n",
       "      <th>std</th>\n",
       "      <td>3.541306e+05</td>\n",
       "      <td>1.980936</td>\n",
       "      <td>2.299922</td>\n",
       "      <td>...</td>\n",
       "      <td>120.243621</td>\n",
       "      <td>1.860773</td>\n",
       "      <td>1.204403e+05</td>\n",
       "    </tr>\n",
       "    <tr>\n",
       "      <th>min</th>\n",
       "      <td>3.427208e+06</td>\n",
       "      <td>-54.823985</td>\n",
       "      <td>-75.678931</td>\n",
       "      <td>...</td>\n",
       "      <td>1.000000</td>\n",
       "      <td>1.000000</td>\n",
       "      <td>1.000000e+00</td>\n",
       "    </tr>\n",
       "    <tr>\n",
       "      <th>25%</th>\n",
       "      <td>3.430234e+06</td>\n",
       "      <td>-34.669065</td>\n",
       "      <td>-58.727040</td>\n",
       "      <td>...</td>\n",
       "      <td>1.000000</td>\n",
       "      <td>2.000000</td>\n",
       "      <td>1.000000e+03</td>\n",
       "    </tr>\n",
       "    <tr>\n",
       "      <th>50%</th>\n",
       "      <td>3.433910e+06</td>\n",
       "      <td>-34.597985</td>\n",
       "      <td>-58.480128</td>\n",
       "      <td>...</td>\n",
       "      <td>3.000000</td>\n",
       "      <td>3.000000</td>\n",
       "      <td>2.000000e+03</td>\n",
       "    </tr>\n",
       "    <tr>\n",
       "      <th>75%</th>\n",
       "      <td>3.836668e+06</td>\n",
       "      <td>-34.441299</td>\n",
       "      <td>-58.395908</td>\n",
       "      <td>...</td>\n",
       "      <td>6.000000</td>\n",
       "      <td>4.000000</td>\n",
       "      <td>4.000000e+03</td>\n",
       "    </tr>\n",
       "    <tr>\n",
       "      <th>max</th>\n",
       "      <td>6.948895e+06</td>\n",
       "      <td>4.545843</td>\n",
       "      <td>-53.733330</td>\n",
       "      <td>...</td>\n",
       "      <td>3150.000000</td>\n",
       "      <td>32.000000</td>\n",
       "      <td>1.000150e+07</td>\n",
       "    </tr>\n",
       "  </tbody>\n",
       "</table>\n",
       "<p>8 rows × 13 columns</p>\n",
       "</div>"
      ],
      "text/plain": [
       "        geonames_id           lat           lon  ...        floor  \\\n",
       "count  1.025030e+05  69670.000000  69670.000000  ...  7899.000000   \n",
       "mean   3.574442e+06    -34.626210    -59.266290  ...    17.452336   \n",
       "std    3.541306e+05      1.980936      2.299922  ...   120.243621   \n",
       "min    3.427208e+06    -54.823985    -75.678931  ...     1.000000   \n",
       "25%    3.430234e+06    -34.669065    -58.727040  ...     1.000000   \n",
       "50%    3.433910e+06    -34.597985    -58.480128  ...     3.000000   \n",
       "75%    3.836668e+06    -34.441299    -58.395908  ...     6.000000   \n",
       "max    6.948895e+06      4.545843    -53.733330  ...  3150.000000   \n",
       "\n",
       "              rooms      expenses  \n",
       "count  47390.000000  1.426200e+04  \n",
       "mean       3.080840  5.009234e+03  \n",
       "std        1.860773  1.204403e+05  \n",
       "min        1.000000  1.000000e+00  \n",
       "25%        2.000000  1.000000e+03  \n",
       "50%        3.000000  2.000000e+03  \n",
       "75%        4.000000  4.000000e+03  \n",
       "max       32.000000  1.000150e+07  \n",
       "\n",
       "[8 rows x 13 columns]"
      ]
     },
     "execution_count": 125,
     "metadata": {},
     "output_type": "execute_result"
    }
   ],
   "source": [
    "df.describe()"
   ]
  },
  {
   "cell_type": "markdown",
   "metadata": {},
   "source": [
    "## Analisis de variables catégoricas"
   ]
  },
  {
   "cell_type": "markdown",
   "metadata": {},
   "source": [
    "Para reducir el length de nuestro dataset (en cuanto al número de columnas), una de las primeras acciones que podemos tomar es la que encontrar variables categóricas y entre estas aquellas que sean constantes, es decir que no muestren ninguna variabilidad dentro de la serie.\n",
    "Para esto utilizamos la función <i>viz_categorical</i> que comentamos en el apartado de funciones.\n",
    "\n",
    "Observamos que:\n",
    "<ul>\n",
    "  <li>Contamos con un número reducido de variables categóricas.</li>\n",
    "  <li>De estas, <i>operation</i> y <i>country_name</i> son constantes y deberan ser eliminadas dado que no tienen ningún valor predictivo sobre nuestra variable target </li>\n",
    "  <li>La variable <i>property_type</i> se encuentra desbalanceada para algunas de las categorías. Una posible solución seria simplificar la clasificación en <i>apartment</i> y <i>other</i> en referencia a otro tipo de edificación</li>\n",
    "  <li>Por otro lado, <i>currency</i> cuenta con outliers representados por PEN y UYU. Además ARS representa una porción muy baja de los registros. Lo mejor es realizar una conversión a USD de la variable precio para asegurar la consistencia y eliminar esta columna.</li>\n",
    "</ul>"
   ]
  },
  {
   "cell_type": "code",
   "execution_count": 126,
   "metadata": {},
   "outputs": [
    {
     "data": {
      "image/png": "[encoded data removed]",
      "text/plain": [
       "<Figure size 1500x1000 with 6 Axes>"
      ]
     },
     "metadata": {},
     "output_type": "display_data"
    }
   ],
   "source": [
    "viz_categorical(df)"
   ]
  },
  {
   "cell_type": "markdown",
   "metadata": {},
   "source": [
    "<br>"
   ]
  },
  {
   "cell_type": "markdown",
   "metadata": {},
   "source": [
    "Para eliminar las constantes usaremos un one-liner / lambda function que representa la función a continuacion:\n",
    "\n",
    "```python\n",
    "def constant_check(dataframe):\n",
    "    if isinstance(dataframe, pd.DataFrame) is True:\n",
    "        for column in dataframe.columns:\n",
    "            if len(dataframe[column].value_counts().index) == 1:\n",
    "                dataframe = dataframe.drop(columns=[column])\n",
    "\n",
    "    return dataframe\n",
    "```"
   ]
  },
  {
   "cell_type": "code",
   "execution_count": 127,
   "metadata": {},
   "outputs": [],
   "source": [
    "# Lambda function que realiza eliminación de series constantes\n",
    "constant_check = lambda dataframe:  dataframe.drop(columns=[column for column in dataframe.columns if len(dataframe[column].value_counts().index) == 1]) if isinstance(dataframe, pd.DataFrame) is True else 'Not a dataframe'\n",
    "\n",
    "\n",
    "# Realizamos la transformación\n",
    "df = constant_check(df)"
   ]
  },
  {
   "cell_type": "markdown",
   "metadata": {},
   "source": [
    "<br>"
   ]
  },
  {
   "cell_type": "markdown",
   "metadata": {},
   "source": [
    "### Correcciones en price y currency"
   ]
  },
  {
   "cell_type": "markdown",
   "metadata": {},
   "source": [
    "Como adelantabamos, podemos excluir del dataset la columna <i>currency</i> si convertimos el precio de las monedas ARS, UYU, PES a su correspondiente en USD. Además, la conversión es necesaria para reducir el ruido que estos valores generarán en el modelo. Para esto empleamos la función <b>historical_currency_data</b> para calcular el tipo de cambio promedio para cada una de las monedas durante 2018. <br>\n",
    "En el dataframe de comprobación nos permite comparar que la conversación coincide con el valor aproximado para PEN, pero hay una notoria discrepancia para UYU y ARS, en este último caso debido a la depreciación del peso frente al dolar durante el trancurso de ese año.\n",
    "<br>"
   ]
  },
  {
   "cell_type": "code",
   "execution_count": 128,
   "metadata": {},
   "outputs": [
    {
     "data": {
      "text/html": [
       "<div>\n",
       "<style scoped>\n",
       "    .dataframe tbody tr th:only-of-type {\n",
       "        vertical-align: middle;\n",
       "    }\n",
       "\n",
       "    .dataframe tbody tr th {\n",
       "        vertical-align: top;\n",
       "    }\n",
       "\n",
       "    .dataframe thead th {\n",
       "        text-align: right;\n",
       "    }\n",
       "</style>\n",
       "<table border=\"1\" class=\"dataframe\">\n",
       "  <thead>\n",
       "    <tr style=\"text-align: right;\">\n",
       "      <th></th>\n",
       "      <th>price</th>\n",
       "      <th>currency</th>\n",
       "      <th>price_aprox_usd</th>\n",
       "    </tr>\n",
       "  </thead>\n",
       "  <tbody>\n",
       "    <tr>\n",
       "      <th>50387</th>\n",
       "      <td>116081.175872</td>\n",
       "      <td>PEN</td>\n",
       "      <td>117139.33</td>\n",
       "    </tr>\n",
       "    <tr>\n",
       "      <th>50388</th>\n",
       "      <td>290202.939679</td>\n",
       "      <td>PEN</td>\n",
       "      <td>292848.33</td>\n",
       "    </tr>\n",
       "    <tr>\n",
       "      <th>107390</th>\n",
       "      <td>21689297.581003</td>\n",
       "      <td>UYU</td>\n",
       "      <td>22980378.29</td>\n",
       "    </tr>\n",
       "    <tr>\n",
       "      <th>9</th>\n",
       "      <td>16696.627787</td>\n",
       "      <td>ARS</td>\n",
       "      <td>25798.49</td>\n",
       "    </tr>\n",
       "    <tr>\n",
       "      <th>32</th>\n",
       "      <td>19963.359311</td>\n",
       "      <td>ARS</td>\n",
       "      <td>30846.02</td>\n",
       "    </tr>\n",
       "    <tr>\n",
       "      <th>37</th>\n",
       "      <td>45371.271161</td>\n",
       "      <td>ARS</td>\n",
       "      <td>70104.59</td>\n",
       "    </tr>\n",
       "  </tbody>\n",
       "</table>\n",
       "</div>"
      ],
      "text/plain": [
       "                  price currency  price_aprox_usd\n",
       "50387     116081.175872      PEN        117139.33\n",
       "50388     290202.939679      PEN        292848.33\n",
       "107390  21689297.581003      UYU      22980378.29\n",
       "9          16696.627787      ARS         25798.49\n",
       "32         19963.359311      ARS         30846.02\n",
       "37         45371.271161      ARS         70104.59"
      ]
     },
     "execution_count": 128,
     "metadata": {},
     "output_type": "execute_result"
    }
   ],
   "source": [
    "def compare_currency_rates(year, month_s, month_e):\n",
    "    # Con dict comprehension generamos un diccionario con los tipos de cambio promedios para cada moneda\n",
    "    currency_dict = {currency:historical_currency_data(year,month_s,month_e,currency)['rate'].mean() for currency in df['currency'][(df['currency']!='USD') & (df['currency'].isna()==False)].value_counts().index.tolist()}\n",
    "\n",
    "\n",
    "    # Filtramos el dataframe para excluir nulos y los valores de price que corresponden a la moneda USD\n",
    "    temp_df = df[(df['currency']!='USD') & (df['currency'].isna()==False)]\n",
    "\n",
    "\n",
    "    # Alteramos el dataframe original con la conversión correcta\n",
    "    for currency, index, price in zip(temp_df['currency'], temp_df.index, temp_df['price']):\n",
    "        temp_df['price'].loc[index] = price / currency_dict[currency]\n",
    "\n",
    "\n",
    "    # Generamos el dataframe de comprobación\n",
    "    temp_df = temp_df[['price', 'currency', 'price_aprox_usd']].convert_dtypes()\n",
    "    return pd.concat([temp_df[(temp_df['currency']!='USD') & (temp_df['currency']!='ARS') & (temp_df['currency'].isnull()==False)], temp_df[(temp_df['currency']!='USD') & (temp_df['currency'].isnull()==False)].head(3)])\n",
    "\n",
    "\n",
    "compare_currency_rates(2018, 1, 12)"
   ]
  },
  {
   "cell_type": "markdown",
   "metadata": {},
   "source": [
    "<br> Tomando los valores sólo el tipo de cambio medio de enero, obtenemos valores mas acordes para ARS pero con crecientes diferencias en relación a PES."
   ]
  },
  {
   "cell_type": "code",
   "execution_count": 129,
   "metadata": {},
   "outputs": [
    {
     "data": {
      "text/html": [
       "<div>\n",
       "<style scoped>\n",
       "    .dataframe tbody tr th:only-of-type {\n",
       "        vertical-align: middle;\n",
       "    }\n",
       "\n",
       "    .dataframe tbody tr th {\n",
       "        vertical-align: top;\n",
       "    }\n",
       "\n",
       "    .dataframe thead th {\n",
       "        text-align: right;\n",
       "    }\n",
       "</style>\n",
       "<table border=\"1\" class=\"dataframe\">\n",
       "  <thead>\n",
       "    <tr style=\"text-align: right;\">\n",
       "      <th></th>\n",
       "      <th>price</th>\n",
       "      <th>currency</th>\n",
       "      <th>price_aprox_usd</th>\n",
       "    </tr>\n",
       "  </thead>\n",
       "  <tbody>\n",
       "    <tr>\n",
       "      <th>50387</th>\n",
       "      <td>120620.178169</td>\n",
       "      <td>PEN</td>\n",
       "      <td>117139.33</td>\n",
       "    </tr>\n",
       "    <tr>\n",
       "      <th>50388</th>\n",
       "      <td>301550.445422</td>\n",
       "      <td>PEN</td>\n",
       "      <td>292848.33</td>\n",
       "    </tr>\n",
       "    <tr>\n",
       "      <th>107390</th>\n",
       "      <td>23007449.564396</td>\n",
       "      <td>UYU</td>\n",
       "      <td>22980378.29</td>\n",
       "    </tr>\n",
       "    <tr>\n",
       "      <th>9</th>\n",
       "      <td>24711.632706</td>\n",
       "      <td>ARS</td>\n",
       "      <td>25798.49</td>\n",
       "    </tr>\n",
       "    <tr>\n",
       "      <th>32</th>\n",
       "      <td>29546.517365</td>\n",
       "      <td>ARS</td>\n",
       "      <td>30846.02</td>\n",
       "    </tr>\n",
       "    <tr>\n",
       "      <th>37</th>\n",
       "      <td>67151.175831</td>\n",
       "      <td>ARS</td>\n",
       "      <td>70104.59</td>\n",
       "    </tr>\n",
       "  </tbody>\n",
       "</table>\n",
       "</div>"
      ],
      "text/plain": [
       "                  price currency  price_aprox_usd\n",
       "50387     120620.178169      PEN        117139.33\n",
       "50388     301550.445422      PEN        292848.33\n",
       "107390  23007449.564396      UYU      22980378.29\n",
       "9          24711.632706      ARS         25798.49\n",
       "32         29546.517365      ARS         30846.02\n",
       "37         67151.175831      ARS         70104.59"
      ]
     },
     "execution_count": 129,
     "metadata": {},
     "output_type": "execute_result"
    }
   ],
   "source": [
    "compare_currency_rates(2018, 1, 1)"
   ]
  },
  {
   "cell_type": "markdown",
   "metadata": {},
   "source": [
    "<br> Realizando una breve comprobación de correlación de nulos entre ambas features y nos encontramos que la relación es 1:1. A partir de esto podemos decir con seguridad que es posible realizar un reemplazo de price como variable target por price_aprox_usd y esto mantendrá el modelo vigente a la fecha sin ser necesario generar conversiones ni conservar la columna currency.\n",
    "<br>"
   ]
  },
  {
   "cell_type": "code",
   "execution_count": 130,
   "metadata": {},
   "outputs": [
    {
     "data": {
      "text/plain": [
       "(20410, 20410)"
      ]
     },
     "execution_count": 130,
     "metadata": {},
     "output_type": "execute_result"
    }
   ],
   "source": [
    "df['price'].isna().sum(), df['price_aprox_usd'].isna().sum()"
   ]
  },
  {
   "cell_type": "code",
   "execution_count": 131,
   "metadata": {},
   "outputs": [
    {
     "data": {
      "text/plain": [
       "<AxesSubplot: >"
      ]
     },
     "execution_count": 131,
     "metadata": {},
     "output_type": "execute_result"
    },
    {
     "data": {
      "image/png": "[encoded data removed]",
      "text/plain": [
       "<Figure size 640x480 with 2 Axes>"
      ]
     },
     "metadata": {},
     "output_type": "display_data"
    }
   ],
   "source": [
    "sn.heatmap(df[['price', 'price_aprox_usd']].isnull())\n"
   ]
  },
  {
   "cell_type": "code",
   "execution_count": 132,
   "metadata": {},
   "outputs": [],
   "source": [
    "# Dropeamos las columnas mencionadas\n",
    "df.drop(['price', 'currency'], axis=1, inplace=True)\n",
    "\n",
    "\n",
    "# Renombramos price_aprox_usd a price_usd\n",
    "df.rename({'price_aprox_usd':'price_usd'}, inplace=True, axis=1)"
   ]
  },
  {
   "cell_type": "markdown",
   "metadata": {},
   "source": [
    "# WIP"
   ]
  },
  {
   "cell_type": "code",
   "execution_count": 133,
   "metadata": {},
   "outputs": [
    {
     "data": {
      "image/png": "[encoded data removed]",
      "text/plain": [
       "<Figure size 1500x1000 with 6 Axes>"
      ]
     },
     "metadata": {},
     "output_type": "display_data"
    },
    {
     "data": {
      "image/png": "[encoded data removed]",
      "text/plain": [
       "<Figure size 1500x1000 with 6 Axes>"
      ]
     },
     "metadata": {},
     "output_type": "display_data"
    }
   ],
   "source": [
    "targets = ['price_usd', 'price_per_m2']\n",
    "\n",
    "def multi_variate_analysis(targets):\n",
    "    columns = [column for column in df.columns if len(df[column].value_counts().index) > 1 and len(df[column].value_counts().index) < 50]\n",
    "\n",
    "    if len(columns) % 2 == 0:\n",
    "        rows = round(len(columns) / 2)\n",
    "    else:\n",
    "        rows = round(len(columns) / 2) + 1\n",
    "\n",
    "\n",
    "    for target in targets:\n",
    "\n",
    "        globals()['fig' + target], axes = plt.subplots(rows, 2, figsize=(15, 10))\n",
    "        globals()['fig' + target].suptitle(f'Multi variate analysis based on {target}')\n",
    "\n",
    "\n",
    "        for column, (i, ax) in zip(columns, enumerate(globals()['fig' + target].axes)):\n",
    "            \n",
    "            group_df = df[[column, target]].groupby(by=[column]).mean(target)\n",
    "            sn.barplot(x=group_df.index.tolist(), y=group_df[target].tolist(), ax=ax)\n",
    "            \n",
    "            if df[column].dtype == 'float64':\n",
    "                ax.set_xticks([round(len(df[column].value_counts().index)/3), round(len(df[column].value_counts().index)* (2/3)) , len(df[column].value_counts().index)])\n",
    "            elif df[column].dtype == 'O' and len(df[column].value_counts().index) > 15:\n",
    "                ax.set_axis_off()\n",
    "\n",
    "            ax.set_title(column)\n",
    "\n",
    "multi_variate_analysis(targets)"
   ]
  },
  {
   "cell_type": "markdown",
   "metadata": {},
   "source": [
    "### Validación / Imputación mediante la columna description"
   ]
  },
  {
   "cell_type": "markdown",
   "metadata": {},
   "source": [
    "A través dedescription validaremos e imputaremos varias columnas, puesto que estas parecen ser una descomposición de la primera. Por este motivo, lo primero que haremos es descartar aquellos registros cuya descripción es nula."
   ]
  },
  {
   "cell_type": "code",
   "execution_count": 134,
   "metadata": {
    "pycharm": {
     "name": "#%%\n"
    }
   },
   "outputs": [
    {
     "data": {
      "text/plain": [
       "Int64Index([], dtype='int64')"
      ]
     },
     "execution_count": 134,
     "metadata": {},
     "output_type": "execute_result"
    }
   ],
   "source": [
    "df.drop(index=df[df['description'].isnull() == True].index, inplace=True)\n",
    "df[df['description'].isnull() == True].index"
   ]
  },
  {
   "cell_type": "code",
   "execution_count": 135,
   "metadata": {},
   "outputs": [
    {
     "data": {
      "application/vnd.plotly.v1+json": {
       "config": {
        "plotlyServerURL": "https://plot.ly"
       },
       "data": [
        {
         "domain": {
          "x": [
           0,
           0.45
          ],
          "y": [
           0.625,
           1
          ]
         },
         "hole": 0.4,
         "labels": [
          "Null entries",
          "Valid entries"
         ],
         "legendgroup": "apie",
         "marker": {
          "colors": [
           "#FC645F",
           "#A8E4A0",
           "#7088FF",
           "#FEB1AF"
          ]
         },
         "name": "Correct entries",
         "textposition": "inside",
         "title": {
          "text": "121218"
         },
         "type": "pie",
         "values": [
          113319,
          7899
         ]
        },
        {
         "domain": {
          "x": [
           0.55,
           1
          ],
          "y": [
           0.625,
           1
          ]
         },
         "hole": 0.4,
         "labels": [
          "Null cells",
          "Valid cells"
         ],
         "legendgroup": "pie",
         "marker": {
          "colors": [
           "#FC645F",
           "#A8E4A0",
           "#7088FF",
           "#FEB1AF"
          ]
         },
         "name": "Correct cells",
         "textposition": "inside",
         "title": {
          "text": "2303142"
         },
         "type": "pie",
         "values": [
          653704,
          1649438
         ]
        },
        {
         "marker": {
          "color": "#FC645F"
         },
         "name": "Nulls/Column",
         "orientation": "h",
         "showlegend": false,
         "textposition": "inside",
         "type": "bar",
         "x": [
          113319,
          106956,
          73828,
          52601,
          51549,
          51549,
          51549,
          39326,
          33561,
          20410,
          20410,
          19906,
          18717,
          23
         ],
         "xaxis": "x",
         "y": [
          "floor",
          "expenses",
          "rooms",
          "price_usd_per_m2",
          "lat-lon",
          "lat",
          "lon",
          "surface_total_in_m2",
          "price_per_m2",
          "price_usd",
          "price_aprox_local_currency",
          "surface_covered_in_m2",
          "geonames_id",
          "place_name"
         ],
         "yaxis": "y"
        }
       ],
       "layout": {
        "annotations": [
         {
          "font": {
           "size": 16
          },
          "showarrow": false,
          "text": "<b>CORRECT ENTRIES</b>",
          "x": 0.225,
          "xanchor": "center",
          "xref": "paper",
          "y": 1,
          "yanchor": "bottom",
          "yref": "paper"
         },
         {
          "font": {
           "size": 16
          },
          "showarrow": false,
          "text": "<b>CORRECT CELLS",
          "x": 0.775,
          "xanchor": "center",
          "xref": "paper",
          "y": 1,
          "yanchor": "bottom",
          "yref": "paper"
         },
         {
          "font": {
           "size": 16
          },
          "showarrow": false,
          "text": "<b>NULLS/COLUMN</b>",
          "x": 0.5,
          "xanchor": "center",
          "xref": "paper",
          "y": 0.375,
          "yanchor": "bottom",
          "yref": "paper"
         }
        ],
        "font": {
         "size": 14
        },
        "height": 600,
        "template": {
         "data": {
          "bar": [
           {
            "error_x": {
             "color": "#2a3f5f"
            },
            "error_y": {
             "color": "#2a3f5f"
            },
            "marker": {
             "line": {
              "color": "#E5ECF6",
              "width": 0.5
             },
             "pattern": {
              "fillmode": "overlay",
              "size": 10,
              "solidity": 0.2
             }
            },
            "type": "bar"
           }
          ],
          "barpolar": [
           {
            "marker": {
             "line": {
              "color": "#E5ECF6",
              "width": 0.5
             },
             "pattern": {
              "fillmode": "overlay",
              "size": 10,
              "solidity": 0.2
             }
            },
            "type": "barpolar"
           }
          ],
          "carpet": [
           {
            "aaxis": {
             "endlinecolor": "#2a3f5f",
             "gridcolor": "white",
             "linecolor": "white",
             "minorgridcolor": "white",
             "startlinecolor": "#2a3f5f"
            },
            "baxis": {
             "endlinecolor": "#2a3f5f",
             "gridcolor": "white",
             "linecolor": "white",
             "minorgridcolor": "white",
             "startlinecolor": "#2a3f5f"
            },
            "type": "carpet"
           }
          ],
          "choropleth": [
           {
            "colorbar": {
             "outlinewidth": 0,
             "ticks": ""
            },
            "type": "choropleth"
           }
          ],
          "contour": [
           {
            "colorbar": {
             "outlinewidth": 0,
             "ticks": ""
            },
            "colorscale": [
             [
              0,
              "#0d0887"
             ],
             [
              0.1111111111111111,
              "#46039f"
             ],
             [
              0.2222222222222222,
              "#7201a8"
             ],
             [
              0.3333333333333333,
              "#9c179e"
             ],
             [
              0.4444444444444444,
              "#bd3786"
             ],
             [
              0.5555555555555556,
              "#d8576b"
             ],
             [
              0.6666666666666666,
              "#ed7953"
             ],
             [
              0.7777777777777778,
              "#fb9f3a"
             ],
             [
              0.8888888888888888,
              "#fdca26"
             ],
             [
              1,
              "#f0f921"
             ]
            ],
            "type": "contour"
           }
          ],
          "contourcarpet": [
           {
            "colorbar": {
             "outlinewidth": 0,
             "ticks": ""
            },
            "type": "contourcarpet"
           }
          ],
          "heatmap": [
           {
            "colorbar": {
             "outlinewidth": 0,
             "ticks": ""
            },
            "colorscale": [
             [
              0,
              "#0d0887"
             ],
             [
              0.1111111111111111,
              "#46039f"
             ],
             [
              0.2222222222222222,
              "#7201a8"
             ],
             [
              0.3333333333333333,
              "#9c179e"
             ],
             [
              0.4444444444444444,
              "#bd3786"
             ],
             [
              0.5555555555555556,
              "#d8576b"
             ],
             [
              0.6666666666666666,
              "#ed7953"
             ],
             [
              0.7777777777777778,
              "#fb9f3a"
             ],
             [
              0.8888888888888888,
              "#fdca26"
             ],
             [
              1,
              "#f0f921"
             ]
            ],
            "type": "heatmap"
           }
          ],
          "heatmapgl": [
           {
            "colorbar": {
             "outlinewidth": 0,
             "ticks": ""
            },
            "colorscale": [
             [
              0,
              "#0d0887"
             ],
             [
              0.1111111111111111,
              "#46039f"
             ],
             [
              0.2222222222222222,
              "#7201a8"
             ],
             [
              0.3333333333333333,
              "#9c179e"
             ],
             [
              0.4444444444444444,
              "#bd3786"
             ],
             [
              0.5555555555555556,
              "#d8576b"
             ],
             [
              0.6666666666666666,
              "#ed7953"
             ],
             [
              0.7777777777777778,
              "#fb9f3a"
             ],
             [
              0.8888888888888888,
              "#fdca26"
             ],
             [
              1,
              "#f0f921"
             ]
            ],
            "type": "heatmapgl"
           }
          ],
          "histogram": [
           {
            "marker": {
             "pattern": {
              "fillmode": "overlay",
              "size": 10,
              "solidity": 0.2
             }
            },
            "type": "histogram"
           }
          ],
          "histogram2d": [
           {
            "colorbar": {
             "outlinewidth": 0,
             "ticks": ""
            },
            "colorscale": [
             [
              0,
              "#0d0887"
             ],
             [
              0.1111111111111111,
              "#46039f"
             ],
             [
              0.2222222222222222,
              "#7201a8"
             ],
             [
              0.3333333333333333,
              "#9c179e"
             ],
             [
              0.4444444444444444,
              "#bd3786"
             ],
             [
              0.5555555555555556,
              "#d8576b"
             ],
             [
              0.6666666666666666,
              "#ed7953"
             ],
             [
              0.7777777777777778,
              "#fb9f3a"
             ],
             [
              0.8888888888888888,
              "#fdca26"
             ],
             [
              1,
              "#f0f921"
             ]
            ],
            "type": "histogram2d"
           }
          ],
          "histogram2dcontour": [
           {
            "colorbar": {
             "outlinewidth": 0,
             "ticks": ""
            },
            "colorscale": [
             [
              0,
              "#0d0887"
             ],
             [
              0.1111111111111111,
              "#46039f"
             ],
             [
              0.2222222222222222,
              "#7201a8"
             ],
             [
              0.3333333333333333,
              "#9c179e"
             ],
             [
              0.4444444444444444,
              "#bd3786"
             ],
             [
              0.5555555555555556,
              "#d8576b"
             ],
             [
              0.6666666666666666,
              "#ed7953"
             ],
             [
              0.7777777777777778,
              "#fb9f3a"
             ],
             [
              0.8888888888888888,
              "#fdca26"
             ],
             [
              1,
              "#f0f921"
             ]
            ],
            "type": "histogram2dcontour"
           }
          ],
          "mesh3d": [
           {
            "colorbar": {
             "outlinewidth": 0,
             "ticks": ""
            },
            "type": "mesh3d"
           }
          ],
          "parcoords": [
           {
            "line": {
             "colorbar": {
              "outlinewidth": 0,
              "ticks": ""
             }
            },
            "type": "parcoords"
           }
          ],
          "pie": [
           {
            "automargin": true,
            "type": "pie"
           }
          ],
          "scatter": [
           {
            "fillpattern": {
             "fillmode": "overlay",
             "size": 10,
             "solidity": 0.2
            },
            "type": "scatter"
           }
          ],
          "scatter3d": [
           {
            "line": {
             "colorbar": {
              "outlinewidth": 0,
              "ticks": ""
             }
            },
            "marker": {
             "colorbar": {
              "outlinewidth": 0,
              "ticks": ""
             }
            },
            "type": "scatter3d"
           }
          ],
          "scattercarpet": [
           {
            "marker": {
             "colorbar": {
              "outlinewidth": 0,
              "ticks": ""
             }
            },
            "type": "scattercarpet"
           }
          ],
          "scattergeo": [
           {
            "marker": {
             "colorbar": {
              "outlinewidth": 0,
              "ticks": ""
             }
            },
            "type": "scattergeo"
           }
          ],
          "scattergl": [
           {
            "marker": {
             "colorbar": {
              "outlinewidth": 0,
              "ticks": ""
             }
            },
            "type": "scattergl"
           }
          ],
          "scattermapbox": [
           {
            "marker": {
             "colorbar": {
              "outlinewidth": 0,
              "ticks": ""
             }
            },
            "type": "scattermapbox"
           }
          ],
          "scatterpolar": [
           {
            "marker": {
             "colorbar": {
              "outlinewidth": 0,
              "ticks": ""
             }
            },
            "type": "scatterpolar"
           }
          ],
          "scatterpolargl": [
           {
            "marker": {
             "colorbar": {
              "outlinewidth": 0,
              "ticks": ""
             }
            },
            "type": "scatterpolargl"
           }
          ],
          "scatterternary": [
           {
            "marker": {
             "colorbar": {
              "outlinewidth": 0,
              "ticks": ""
             }
            },
            "type": "scatterternary"
           }
          ],
          "surface": [
           {
            "colorbar": {
             "outlinewidth": 0,
             "ticks": ""
            },
            "colorscale": [
             [
              0,
              "#0d0887"
             ],
             [
              0.1111111111111111,
              "#46039f"
             ],
             [
              0.2222222222222222,
              "#7201a8"
             ],
             [
              0.3333333333333333,
              "#9c179e"
             ],
             [
              0.4444444444444444,
              "#bd3786"
             ],
             [
              0.5555555555555556,
              "#d8576b"
             ],
             [
              0.6666666666666666,
              "#ed7953"
             ],
             [
              0.7777777777777778,
              "#fb9f3a"
             ],
             [
              0.8888888888888888,
              "#fdca26"
             ],
             [
              1,
              "#f0f921"
             ]
            ],
            "type": "surface"
           }
          ],
          "table": [
           {
            "cells": {
             "fill": {
              "color": "#EBF0F8"
             },
             "line": {
              "color": "white"
             }
            },
            "header": {
             "fill": {
              "color": "#C8D4E3"
             },
             "line": {
              "color": "white"
             }
            },
            "type": "table"
           }
          ]
         },
         "layout": {
          "annotationdefaults": {
           "arrowcolor": "#2a3f5f",
           "arrowhead": 0,
           "arrowwidth": 1
          },
          "autotypenumbers": "strict",
          "coloraxis": {
           "colorbar": {
            "outlinewidth": 0,
            "ticks": ""
           }
          },
          "colorscale": {
           "diverging": [
            [
             0,
             "#8e0152"
            ],
            [
             0.1,
             "#c51b7d"
            ],
            [
             0.2,
             "#de77ae"
            ],
            [
             0.3,
             "#f1b6da"
            ],
            [
             0.4,
             "#fde0ef"
            ],
            [
             0.5,
             "#f7f7f7"
            ],
            [
             0.6,
             "#e6f5d0"
            ],
            [
             0.7,
             "#b8e186"
            ],
            [
             0.8,
             "#7fbc41"
            ],
            [
             0.9,
             "#4d9221"
            ],
            [
             1,
             "#276419"
            ]
           ],
           "sequential": [
            [
             0,
             "#0d0887"
            ],
            [
             0.1111111111111111,
             "#46039f"
            ],
            [
             0.2222222222222222,
             "#7201a8"
            ],
            [
             0.3333333333333333,
             "#9c179e"
            ],
            [
             0.4444444444444444,
             "#bd3786"
            ],
            [
             0.5555555555555556,
             "#d8576b"
            ],
            [
             0.6666666666666666,
             "#ed7953"
            ],
            [
             0.7777777777777778,
             "#fb9f3a"
            ],
            [
             0.8888888888888888,
             "#fdca26"
            ],
            [
             1,
             "#f0f921"
            ]
           ],
           "sequentialminus": [
            [
             0,
             "#0d0887"
            ],
            [
             0.1111111111111111,
             "#46039f"
            ],
            [
             0.2222222222222222,
             "#7201a8"
            ],
            [
             0.3333333333333333,
             "#9c179e"
            ],
            [
             0.4444444444444444,
             "#bd3786"
            ],
            [
             0.5555555555555556,
             "#d8576b"
            ],
            [
             0.6666666666666666,
             "#ed7953"
            ],
            [
             0.7777777777777778,
             "#fb9f3a"
            ],
            [
             0.8888888888888888,
             "#fdca26"
            ],
            [
             1,
             "#f0f921"
            ]
           ]
          },
          "colorway": [
           "#636efa",
           "#EF553B",
           "#00cc96",
           "#ab63fa",
           "#FFA15A",
           "#19d3f3",
           "#FF6692",
           "#B6E880",
           "#FF97FF",
           "#FECB52"
          ],
          "font": {
           "color": "#2a3f5f"
          },
          "geo": {
           "bgcolor": "white",
           "lakecolor": "white",
           "landcolor": "#E5ECF6",
           "showlakes": true,
           "showland": true,
           "subunitcolor": "white"
          },
          "hoverlabel": {
           "align": "left"
          },
          "hovermode": "closest",
          "mapbox": {
           "style": "light"
          },
          "paper_bgcolor": "white",
          "plot_bgcolor": "#E5ECF6",
          "polar": {
           "angularaxis": {
            "gridcolor": "white",
            "linecolor": "white",
            "ticks": ""
           },
           "bgcolor": "#E5ECF6",
           "radialaxis": {
            "gridcolor": "white",
            "linecolor": "white",
            "ticks": ""
           }
          },
          "scene": {
           "xaxis": {
            "backgroundcolor": "#E5ECF6",
            "gridcolor": "white",
            "gridwidth": 2,
            "linecolor": "white",
            "showbackground": true,
            "ticks": "",
            "zerolinecolor": "white"
           },
           "yaxis": {
            "backgroundcolor": "#E5ECF6",
            "gridcolor": "white",
            "gridwidth": 2,
            "linecolor": "white",
            "showbackground": true,
            "ticks": "",
            "zerolinecolor": "white"
           },
           "zaxis": {
            "backgroundcolor": "#E5ECF6",
            "gridcolor": "white",
            "gridwidth": 2,
            "linecolor": "white",
            "showbackground": true,
            "ticks": "",
            "zerolinecolor": "white"
           }
          },
          "shapedefaults": {
           "line": {
            "color": "#2a3f5f"
           }
          },
          "ternary": {
           "aaxis": {
            "gridcolor": "white",
            "linecolor": "white",
            "ticks": ""
           },
           "baxis": {
            "gridcolor": "white",
            "linecolor": "white",
            "ticks": ""
           },
           "bgcolor": "#E5ECF6",
           "caxis": {
            "gridcolor": "white",
            "linecolor": "white",
            "ticks": ""
           }
          },
          "title": {
           "x": 0.05
          },
          "xaxis": {
           "automargin": true,
           "gridcolor": "white",
           "linecolor": "white",
           "ticks": "",
           "title": {
            "standoff": 15
           },
           "zerolinecolor": "white",
           "zerolinewidth": 2
          },
          "yaxis": {
           "automargin": true,
           "gridcolor": "white",
           "linecolor": "white",
           "ticks": "",
           "title": {
            "standoff": 15
           },
           "zerolinecolor": "white",
           "zerolinewidth": 2
          }
         }
        },
        "title": {
         "text": "<b>NaN Analysis"
        },
        "width": 800,
        "xaxis": {
         "anchor": "y",
         "domain": [
          0,
          1
         ],
         "title": {
          "text": "Nulls"
         }
        },
        "xaxis2": {
         "anchor": "y2",
         "domain": [
          0.55,
          1
         ]
        },
        "yaxis": {
         "anchor": "x",
         "domain": [
          0,
          0.375
         ],
         "title": {
          "text": "Columns"
         }
        },
        "yaxis2": {
         "anchor": "x2",
         "domain": [
          0,
          0.375
         ]
        }
       }
      }
     },
     "metadata": {},
     "output_type": "display_data"
    }
   ],
   "source": [
    "fig = dat_insights(df, '', rtn=False)\n",
    "fig.update_layout(title='<b>NaN Analysis')"
   ]
  },
  {
   "cell_type": "markdown",
   "metadata": {},
   "source": [
    "Limpiando place_name column based on title and description columns"
   ]
  },
  {
   "cell_type": "code",
   "execution_count": 136,
   "metadata": {},
   "outputs": [
    {
     "name": "stdout",
     "output_type": "stream",
     "text": [
      "La columna place_name ha sido completamente imputada\n"
     ]
    }
   ],
   "source": [
    "# Notas a discutir, 'place_with_parent_names' incluye todas las de zonas. Se podria dropear todas y dejar solo esa.\n",
    "# ademas de eliminar cierto nivel de granularidad\n",
    "\n",
    "temp_df = df[df['place_name'].isnull() == True]\n",
    "\n",
    "for description, title, place, index in zip(temp_df['description'], temp_df['title'], temp_df['place_with_parent_names'], temp_df.index):\n",
    "    for location in df['place_name'].value_counts().index:\n",
    "        if location.lower() in description.lower():\n",
    "            df['place_name'].loc[index] = location\n",
    "        elif location.lower() in title.lower():\n",
    "            df['place_name'].loc[index] = location\n",
    "        elif location.lower() in place.lower():\n",
    "            df['place_name'].loc[index] = location\n",
    "\n",
    "\n",
    "if df[df['place_name'].isna() == True].shape[0] == 0:\n",
    "    print('La columna place_name ha sido completamente imputada')"
   ]
  },
  {
   "cell_type": "code",
   "execution_count": 137,
   "metadata": {},
   "outputs": [
    {
     "data": {
      "text/plain": [
       "73828"
      ]
     },
     "execution_count": 137,
     "metadata": {},
     "output_type": "execute_result"
    }
   ],
   "source": [
    "df['rooms'].isnull().sum()"
   ]
  },
  {
   "cell_type": "code",
   "execution_count": 138,
   "metadata": {},
   "outputs": [
    {
     "ename": "NameError",
     "evalue": "name 'fig_1' is not defined",
     "output_type": "error",
     "traceback": [
      "\u001b[1;31m---------------------------------------------------------------------------\u001b[0m",
      "\u001b[1;31mNameError\u001b[0m                                 Traceback (most recent call last)",
      "Cell \u001b[1;32mIn [138], line 15\u001b[0m\n\u001b[0;32m      3\u001b[0m \u001b[39mimport\u001b[39;00m \u001b[39mplotly\u001b[39;00m\u001b[39m.\u001b[39;00m\u001b[39mexpress\u001b[39;00m \u001b[39mas\u001b[39;00m \u001b[39mpx\u001b[39;00m\n\u001b[0;32m     14\u001b[0m fig_2 \u001b[39m=\u001b[39m sn\u001b[39m.\u001b[39mheatmap(df\u001b[39m.\u001b[39misnull(), cbar\u001b[39m=\u001b[39m\u001b[39mFalse\u001b[39;00m)\n\u001b[1;32m---> 15\u001b[0m fig_1\u001b[39m.\u001b[39mshow()\n",
      "\u001b[1;31mNameError\u001b[0m: name 'fig_1' is not defined"
     ]
    },
    {
     "data": {
      "image/png": "[encoded data removed]",
      "text/plain": [
       "<Figure size 640x480 with 1 Axes>"
      ]
     },
     "metadata": {},
     "output_type": "display_data"
    }
   ],
   "source": [
    "from turtle import position\n",
    "from matplotlib.pyplot import xlabel\n",
    "import plotly.express as px\n",
    "\n",
    "\n",
    "\n",
    "\n",
    "\n",
    "\n",
    "\n",
    "\n",
    "\n",
    "\n",
    "fig_2 = sn.heatmap(df.isnull(), cbar=False)\n",
    "fig_1.show()\n",
    "\n"
   ]
  },
  {
   "cell_type": "code",
   "execution_count": null,
   "metadata": {},
   "outputs": [
    {
     "data": {
      "text/plain": [
       "<AxesSubplot: >"
      ]
     },
     "execution_count": 1421,
     "metadata": {},
     "output_type": "execute_result"
    },
    {
     "data": {
      "image/png": "[encoded data removed]",
      "text/plain": [
       "<Figure size 640x480 with 2 Axes>"
      ]
     },
     "metadata": {},
     "output_type": "display_data"
    }
   ],
   "source": [
    "sn.heatmap(df.isnull())"
   ]
  },
  {
   "cell_type": "markdown",
   "metadata": {},
   "source": [
    "## Conntrol de duplicados"
   ]
  },
  {
   "cell_type": "code",
   "execution_count": null,
   "metadata": {},
   "outputs": [
    {
     "data": {
      "text/html": [
       "<div>\n",
       "<style scoped>\n",
       "    .dataframe tbody tr th:only-of-type {\n",
       "        vertical-align: middle;\n",
       "    }\n",
       "\n",
       "    .dataframe tbody tr th {\n",
       "        vertical-align: top;\n",
       "    }\n",
       "\n",
       "    .dataframe thead th {\n",
       "        text-align: right;\n",
       "    }\n",
       "</style>\n",
       "<table border=\"1\" class=\"dataframe\">\n",
       "  <thead>\n",
       "    <tr style=\"text-align: right;\">\n",
       "      <th></th>\n",
       "      <th>property_type</th>\n",
       "      <th>place_name</th>\n",
       "      <th>place_with_parent_names</th>\n",
       "      <th>...</th>\n",
       "      <th>expenses</th>\n",
       "      <th>description</th>\n",
       "      <th>title</th>\n",
       "    </tr>\n",
       "  </thead>\n",
       "  <tbody>\n",
       "    <tr>\n",
       "      <th>221</th>\n",
       "      <td>apartment</td>\n",
       "      <td>Belgrano</td>\n",
       "      <td>|Argentina|Capital Federal|Belgrano|</td>\n",
       "      <td>...</td>\n",
       "      <td>NaN</td>\n",
       "      <td>El edificio está situado en el barrio de  las ...</td>\n",
       "      <td>Ultimas Unidades</td>\n",
       "    </tr>\n",
       "    <tr>\n",
       "      <th>245</th>\n",
       "      <td>apartment</td>\n",
       "      <td>Rosario</td>\n",
       "      <td>|Argentina|Santa Fe|Rosario|</td>\n",
       "      <td>...</td>\n",
       "      <td>NaN</td>\n",
       "      <td>Departamento de un ambiente al contrafrente co...</td>\n",
       "      <td>Departamentos monoambiente, zona parque Indepe...</td>\n",
       "    </tr>\n",
       "    <tr>\n",
       "      <th>247</th>\n",
       "      <td>apartment</td>\n",
       "      <td>Rosario</td>\n",
       "      <td>|Argentina|Santa Fe|Rosario|</td>\n",
       "      <td>...</td>\n",
       "      <td>NaN</td>\n",
       "      <td>Departamento de un ambiente al contrafrente co...</td>\n",
       "      <td>Departamentos monoambiente, zona parque Indepe...</td>\n",
       "    </tr>\n",
       "    <tr>\n",
       "      <th>248</th>\n",
       "      <td>apartment</td>\n",
       "      <td>Rosario</td>\n",
       "      <td>|Argentina|Santa Fe|Rosario|</td>\n",
       "      <td>...</td>\n",
       "      <td>NaN</td>\n",
       "      <td>Departamento de un ambiente al contrafrente co...</td>\n",
       "      <td>Departamentos monoambiente, zona parque Indepe...</td>\n",
       "    </tr>\n",
       "    <tr>\n",
       "      <th>249</th>\n",
       "      <td>apartment</td>\n",
       "      <td>Rosario</td>\n",
       "      <td>|Argentina|Santa Fe|Rosario|</td>\n",
       "      <td>...</td>\n",
       "      <td>NaN</td>\n",
       "      <td>Departamento de un ambiente al contrafrente co...</td>\n",
       "      <td>Departamentos monoambiente, zona parque Indepe...</td>\n",
       "    </tr>\n",
       "    <tr>\n",
       "      <th>...</th>\n",
       "      <td>...</td>\n",
       "      <td>...</td>\n",
       "      <td>...</td>\n",
       "      <td>...</td>\n",
       "      <td>...</td>\n",
       "      <td>...</td>\n",
       "      <td>...</td>\n",
       "    </tr>\n",
       "    <tr>\n",
       "      <th>121201</th>\n",
       "      <td>apartment</td>\n",
       "      <td>Córdoba</td>\n",
       "      <td>|Argentina|Córdoba|</td>\n",
       "      <td>...</td>\n",
       "      <td>NaN</td>\n",
       "      <td>UBICACIÓNEstratégicamente ubicado en calle Obi...</td>\n",
       "      <td>Departamento - Nueva Cordoba</td>\n",
       "    </tr>\n",
       "    <tr>\n",
       "      <th>121204</th>\n",
       "      <td>apartment</td>\n",
       "      <td>Córdoba</td>\n",
       "      <td>|Argentina|Córdoba|</td>\n",
       "      <td>...</td>\n",
       "      <td>NaN</td>\n",
       "      <td>UBICACIÓNEstratégicamente ubicado en calle Obi...</td>\n",
       "      <td>Departamento - Nueva Cordoba</td>\n",
       "    </tr>\n",
       "    <tr>\n",
       "      <th>121206</th>\n",
       "      <td>apartment</td>\n",
       "      <td>Córdoba</td>\n",
       "      <td>|Argentina|Córdoba|</td>\n",
       "      <td>...</td>\n",
       "      <td>NaN</td>\n",
       "      <td>UBICACIÓNEstratégicamente ubicado en calle Obi...</td>\n",
       "      <td>Departamento - Nueva Cordoba</td>\n",
       "    </tr>\n",
       "    <tr>\n",
       "      <th>121208</th>\n",
       "      <td>house</td>\n",
       "      <td>Escobar</td>\n",
       "      <td>|Argentina|Bs.As. G.B.A. Zona Norte|Escobar|</td>\n",
       "      <td>...</td>\n",
       "      <td>3000.0</td>\n",
       "      <td>Puertos- Barrio Vistas - L. 88Casa en venta so...</td>\n",
       "      <td>Casa  en venta Puertos, barrio Vistas</td>\n",
       "    </tr>\n",
       "    <tr>\n",
       "      <th>121209</th>\n",
       "      <td>apartment</td>\n",
       "      <td>Belgrano</td>\n",
       "      <td>|Argentina|Capital Federal|Belgrano|</td>\n",
       "      <td>...</td>\n",
       "      <td>6300.0</td>\n",
       "      <td>Edificio en esquina de muy buena categoría de ...</td>\n",
       "      <td>Av .Luis Maria Campos 1400- Belgrano-Capital F...</td>\n",
       "    </tr>\n",
       "  </tbody>\n",
       "</table>\n",
       "<p>5080 rows × 21 columns</p>\n",
       "</div>"
      ],
      "text/plain": [
       "       property_type place_name                       place_with_parent_names  \\\n",
       "221        apartment   Belgrano          |Argentina|Capital Federal|Belgrano|   \n",
       "245        apartment    Rosario                  |Argentina|Santa Fe|Rosario|   \n",
       "247        apartment    Rosario                  |Argentina|Santa Fe|Rosario|   \n",
       "248        apartment    Rosario                  |Argentina|Santa Fe|Rosario|   \n",
       "249        apartment    Rosario                  |Argentina|Santa Fe|Rosario|   \n",
       "...              ...        ...                                           ...   \n",
       "121201     apartment    Córdoba                           |Argentina|Córdoba|   \n",
       "121204     apartment    Córdoba                           |Argentina|Córdoba|   \n",
       "121206     apartment    Córdoba                           |Argentina|Córdoba|   \n",
       "121208         house    Escobar  |Argentina|Bs.As. G.B.A. Zona Norte|Escobar|   \n",
       "121209     apartment   Belgrano          |Argentina|Capital Federal|Belgrano|   \n",
       "\n",
       "        ... expenses                                        description  \\\n",
       "221     ...      NaN  El edificio está situado en el barrio de  las ...   \n",
       "245     ...      NaN  Departamento de un ambiente al contrafrente co...   \n",
       "247     ...      NaN  Departamento de un ambiente al contrafrente co...   \n",
       "248     ...      NaN  Departamento de un ambiente al contrafrente co...   \n",
       "249     ...      NaN  Departamento de un ambiente al contrafrente co...   \n",
       "...     ...      ...                                                ...   \n",
       "121201  ...      NaN  UBICACIÓNEstratégicamente ubicado en calle Obi...   \n",
       "121204  ...      NaN  UBICACIÓNEstratégicamente ubicado en calle Obi...   \n",
       "121206  ...      NaN  UBICACIÓNEstratégicamente ubicado en calle Obi...   \n",
       "121208  ...   3000.0  Puertos- Barrio Vistas - L. 88Casa en venta so...   \n",
       "121209  ...   6300.0  Edificio en esquina de muy buena categoría de ...   \n",
       "\n",
       "                                                    title  \n",
       "221                                      Ultimas Unidades  \n",
       "245     Departamentos monoambiente, zona parque Indepe...  \n",
       "247     Departamentos monoambiente, zona parque Indepe...  \n",
       "248     Departamentos monoambiente, zona parque Indepe...  \n",
       "249     Departamentos monoambiente, zona parque Indepe...  \n",
       "...                                                   ...  \n",
       "121201                       Departamento - Nueva Cordoba  \n",
       "121204                       Departamento - Nueva Cordoba  \n",
       "121206                       Departamento - Nueva Cordoba  \n",
       "121208              Casa  en venta Puertos, barrio Vistas  \n",
       "121209  Av .Luis Maria Campos 1400- Belgrano-Capital F...  \n",
       "\n",
       "[5080 rows x 21 columns]"
      ]
     },
     "execution_count": 1422,
     "metadata": {},
     "output_type": "execute_result"
    }
   ],
   "source": [
    "df[df.duplicated()]"
   ]
  },
  {
   "cell_type": "code",
   "execution_count": null,
   "metadata": {},
   "outputs": [
    {
     "data": {
      "application/vnd.plotly.v1+json": {
       "config": {
        "plotlyServerURL": "https://plot.ly"
       },
       "data": [
        {
         "domain": {
          "x": [
           0,
           1
          ],
          "y": [
           0,
           1
          ]
         },
         "hole": 0.5,
         "hovertemplate": "label=%{label}<br>value=%{value}<extra></extra>",
         "labels": [
          "Nan",
          "Not NaN"
         ],
         "legendgroup": "",
         "name": "",
         "showlegend": true,
         "type": "pie",
         "values": [
          694502,
          1851076
         ]
        }
       ],
       "layout": {
        "height": 400,
        "legend": {
         "tracegroupgap": 0
        },
        "template": {
         "data": {
          "bar": [
           {
            "error_x": {
             "color": "#2a3f5f"
            },
            "error_y": {
             "color": "#2a3f5f"
            },
            "marker": {
             "line": {
              "color": "#E5ECF6",
              "width": 0.5
             },
             "pattern": {
              "fillmode": "overlay",
              "size": 10,
              "solidity": 0.2
             }
            },
            "type": "bar"
           }
          ],
          "barpolar": [
           {
            "marker": {
             "line": {
              "color": "#E5ECF6",
              "width": 0.5
             },
             "pattern": {
              "fillmode": "overlay",
              "size": 10,
              "solidity": 0.2
             }
            },
            "type": "barpolar"
           }
          ],
          "carpet": [
           {
            "aaxis": {
             "endlinecolor": "#2a3f5f",
             "gridcolor": "white",
             "linecolor": "white",
             "minorgridcolor": "white",
             "startlinecolor": "#2a3f5f"
            },
            "baxis": {
             "endlinecolor": "#2a3f5f",
             "gridcolor": "white",
             "linecolor": "white",
             "minorgridcolor": "white",
             "startlinecolor": "#2a3f5f"
            },
            "type": "carpet"
           }
          ],
          "choropleth": [
           {
            "colorbar": {
             "outlinewidth": 0,
             "ticks": ""
            },
            "type": "choropleth"
           }
          ],
          "contour": [
           {
            "colorbar": {
             "outlinewidth": 0,
             "ticks": ""
            },
            "colorscale": [
             [
              0,
              "#0d0887"
             ],
             [
              0.1111111111111111,
              "#46039f"
             ],
             [
              0.2222222222222222,
              "#7201a8"
             ],
             [
              0.3333333333333333,
              "#9c179e"
             ],
             [
              0.4444444444444444,
              "#bd3786"
             ],
             [
              0.5555555555555556,
              "#d8576b"
             ],
             [
              0.6666666666666666,
              "#ed7953"
             ],
             [
              0.7777777777777778,
              "#fb9f3a"
             ],
             [
              0.8888888888888888,
              "#fdca26"
             ],
             [
              1,
              "#f0f921"
             ]
            ],
            "type": "contour"
           }
          ],
          "contourcarpet": [
           {
            "colorbar": {
             "outlinewidth": 0,
             "ticks": ""
            },
            "type": "contourcarpet"
           }
          ],
          "heatmap": [
           {
            "colorbar": {
             "outlinewidth": 0,
             "ticks": ""
            },
            "colorscale": [
             [
              0,
              "#0d0887"
             ],
             [
              0.1111111111111111,
              "#46039f"
             ],
             [
              0.2222222222222222,
              "#7201a8"
             ],
             [
              0.3333333333333333,
              "#9c179e"
             ],
             [
              0.4444444444444444,
              "#bd3786"
             ],
             [
              0.5555555555555556,
              "#d8576b"
             ],
             [
              0.6666666666666666,
              "#ed7953"
             ],
             [
              0.7777777777777778,
              "#fb9f3a"
             ],
             [
              0.8888888888888888,
              "#fdca26"
             ],
             [
              1,
              "#f0f921"
             ]
            ],
            "type": "heatmap"
           }
          ],
          "heatmapgl": [
           {
            "colorbar": {
             "outlinewidth": 0,
             "ticks": ""
            },
            "colorscale": [
             [
              0,
              "#0d0887"
             ],
             [
              0.1111111111111111,
              "#46039f"
             ],
             [
              0.2222222222222222,
              "#7201a8"
             ],
             [
              0.3333333333333333,
              "#9c179e"
             ],
             [
              0.4444444444444444,
              "#bd3786"
             ],
             [
              0.5555555555555556,
              "#d8576b"
             ],
             [
              0.6666666666666666,
              "#ed7953"
             ],
             [
              0.7777777777777778,
              "#fb9f3a"
             ],
             [
              0.8888888888888888,
              "#fdca26"
             ],
             [
              1,
              "#f0f921"
             ]
            ],
            "type": "heatmapgl"
           }
          ],
          "histogram": [
           {
            "marker": {
             "pattern": {
              "fillmode": "overlay",
              "size": 10,
              "solidity": 0.2
             }
            },
            "type": "histogram"
           }
          ],
          "histogram2d": [
           {
            "colorbar": {
             "outlinewidth": 0,
             "ticks": ""
            },
            "colorscale": [
             [
              0,
              "#0d0887"
             ],
             [
              0.1111111111111111,
              "#46039f"
             ],
             [
              0.2222222222222222,
              "#7201a8"
             ],
             [
              0.3333333333333333,
              "#9c179e"
             ],
             [
              0.4444444444444444,
              "#bd3786"
             ],
             [
              0.5555555555555556,
              "#d8576b"
             ],
             [
              0.6666666666666666,
              "#ed7953"
             ],
             [
              0.7777777777777778,
              "#fb9f3a"
             ],
             [
              0.8888888888888888,
              "#fdca26"
             ],
             [
              1,
              "#f0f921"
             ]
            ],
            "type": "histogram2d"
           }
          ],
          "histogram2dcontour": [
           {
            "colorbar": {
             "outlinewidth": 0,
             "ticks": ""
            },
            "colorscale": [
             [
              0,
              "#0d0887"
             ],
             [
              0.1111111111111111,
              "#46039f"
             ],
             [
              0.2222222222222222,
              "#7201a8"
             ],
             [
              0.3333333333333333,
              "#9c179e"
             ],
             [
              0.4444444444444444,
              "#bd3786"
             ],
             [
              0.5555555555555556,
              "#d8576b"
             ],
             [
              0.6666666666666666,
              "#ed7953"
             ],
             [
              0.7777777777777778,
              "#fb9f3a"
             ],
             [
              0.8888888888888888,
              "#fdca26"
             ],
             [
              1,
              "#f0f921"
             ]
            ],
            "type": "histogram2dcontour"
           }
          ],
          "mesh3d": [
           {
            "colorbar": {
             "outlinewidth": 0,
             "ticks": ""
            },
            "type": "mesh3d"
           }
          ],
          "parcoords": [
           {
            "line": {
             "colorbar": {
              "outlinewidth": 0,
              "ticks": ""
             }
            },
            "type": "parcoords"
           }
          ],
          "pie": [
           {
            "automargin": true,
            "type": "pie"
           }
          ],
          "scatter": [
           {
            "fillpattern": {
             "fillmode": "overlay",
             "size": 10,
             "solidity": 0.2
            },
            "type": "scatter"
           }
          ],
          "scatter3d": [
           {
            "line": {
             "colorbar": {
              "outlinewidth": 0,
              "ticks": ""
             }
            },
            "marker": {
             "colorbar": {
              "outlinewidth": 0,
              "ticks": ""
             }
            },
            "type": "scatter3d"
           }
          ],
          "scattercarpet": [
           {
            "marker": {
             "colorbar": {
              "outlinewidth": 0,
              "ticks": ""
             }
            },
            "type": "scattercarpet"
           }
          ],
          "scattergeo": [
           {
            "marker": {
             "colorbar": {
              "outlinewidth": 0,
              "ticks": ""
             }
            },
            "type": "scattergeo"
           }
          ],
          "scattergl": [
           {
            "marker": {
             "colorbar": {
              "outlinewidth": 0,
              "ticks": ""
             }
            },
            "type": "scattergl"
           }
          ],
          "scattermapbox": [
           {
            "marker": {
             "colorbar": {
              "outlinewidth": 0,
              "ticks": ""
             }
            },
            "type": "scattermapbox"
           }
          ],
          "scatterpolar": [
           {
            "marker": {
             "colorbar": {
              "outlinewidth": 0,
              "ticks": ""
             }
            },
            "type": "scatterpolar"
           }
          ],
          "scatterpolargl": [
           {
            "marker": {
             "colorbar": {
              "outlinewidth": 0,
              "ticks": ""
             }
            },
            "type": "scatterpolargl"
           }
          ],
          "scatterternary": [
           {
            "marker": {
             "colorbar": {
              "outlinewidth": 0,
              "ticks": ""
             }
            },
            "type": "scatterternary"
           }
          ],
          "surface": [
           {
            "colorbar": {
             "outlinewidth": 0,
             "ticks": ""
            },
            "colorscale": [
             [
              0,
              "#0d0887"
             ],
             [
              0.1111111111111111,
              "#46039f"
             ],
             [
              0.2222222222222222,
              "#7201a8"
             ],
             [
              0.3333333333333333,
              "#9c179e"
             ],
             [
              0.4444444444444444,
              "#bd3786"
             ],
             [
              0.5555555555555556,
              "#d8576b"
             ],
             [
              0.6666666666666666,
              "#ed7953"
             ],
             [
              0.7777777777777778,
              "#fb9f3a"
             ],
             [
              0.8888888888888888,
              "#fdca26"
             ],
             [
              1,
              "#f0f921"
             ]
            ],
            "type": "surface"
           }
          ],
          "table": [
           {
            "cells": {
             "fill": {
              "color": "#EBF0F8"
             },
             "line": {
              "color": "white"
             }
            },
            "header": {
             "fill": {
              "color": "#C8D4E3"
             },
             "line": {
              "color": "white"
             }
            },
            "type": "table"
           }
          ]
         },
         "layout": {
          "annotationdefaults": {
           "arrowcolor": "#2a3f5f",
           "arrowhead": 0,
           "arrowwidth": 1
          },
          "autotypenumbers": "strict",
          "coloraxis": {
           "colorbar": {
            "outlinewidth": 0,
            "ticks": ""
           }
          },
          "colorscale": {
           "diverging": [
            [
             0,
             "#8e0152"
            ],
            [
             0.1,
             "#c51b7d"
            ],
            [
             0.2,
             "#de77ae"
            ],
            [
             0.3,
             "#f1b6da"
            ],
            [
             0.4,
             "#fde0ef"
            ],
            [
             0.5,
             "#f7f7f7"
            ],
            [
             0.6,
             "#e6f5d0"
            ],
            [
             0.7,
             "#b8e186"
            ],
            [
             0.8,
             "#7fbc41"
            ],
            [
             0.9,
             "#4d9221"
            ],
            [
             1,
             "#276419"
            ]
           ],
           "sequential": [
            [
             0,
             "#0d0887"
            ],
            [
             0.1111111111111111,
             "#46039f"
            ],
            [
             0.2222222222222222,
             "#7201a8"
            ],
            [
             0.3333333333333333,
             "#9c179e"
            ],
            [
             0.4444444444444444,
             "#bd3786"
            ],
            [
             0.5555555555555556,
             "#d8576b"
            ],
            [
             0.6666666666666666,
             "#ed7953"
            ],
            [
             0.7777777777777778,
             "#fb9f3a"
            ],
            [
             0.8888888888888888,
             "#fdca26"
            ],
            [
             1,
             "#f0f921"
            ]
           ],
           "sequentialminus": [
            [
             0,
             "#0d0887"
            ],
            [
             0.1111111111111111,
             "#46039f"
            ],
            [
             0.2222222222222222,
             "#7201a8"
            ],
            [
             0.3333333333333333,
             "#9c179e"
            ],
            [
             0.4444444444444444,
             "#bd3786"
            ],
            [
             0.5555555555555556,
             "#d8576b"
            ],
            [
             0.6666666666666666,
             "#ed7953"
            ],
            [
             0.7777777777777778,
             "#fb9f3a"
            ],
            [
             0.8888888888888888,
             "#fdca26"
            ],
            [
             1,
             "#f0f921"
            ]
           ]
          },
          "colorway": [
           "#636efa",
           "#EF553B",
           "#00cc96",
           "#ab63fa",
           "#FFA15A",
           "#19d3f3",
           "#FF6692",
           "#B6E880",
           "#FF97FF",
           "#FECB52"
          ],
          "font": {
           "color": "#2a3f5f"
          },
          "geo": {
           "bgcolor": "white",
           "lakecolor": "white",
           "landcolor": "#E5ECF6",
           "showlakes": true,
           "showland": true,
           "subunitcolor": "white"
          },
          "hoverlabel": {
           "align": "left"
          },
          "hovermode": "closest",
          "mapbox": {
           "style": "light"
          },
          "paper_bgcolor": "white",
          "plot_bgcolor": "#E5ECF6",
          "polar": {
           "angularaxis": {
            "gridcolor": "white",
            "linecolor": "white",
            "ticks": ""
           },
           "bgcolor": "#E5ECF6",
           "radialaxis": {
            "gridcolor": "white",
            "linecolor": "white",
            "ticks": ""
           }
          },
          "scene": {
           "xaxis": {
            "backgroundcolor": "#E5ECF6",
            "gridcolor": "white",
            "gridwidth": 2,
            "linecolor": "white",
            "showbackground": true,
            "ticks": "",
            "zerolinecolor": "white"
           },
           "yaxis": {
            "backgroundcolor": "#E5ECF6",
            "gridcolor": "white",
            "gridwidth": 2,
            "linecolor": "white",
            "showbackground": true,
            "ticks": "",
            "zerolinecolor": "white"
           },
           "zaxis": {
            "backgroundcolor": "#E5ECF6",
            "gridcolor": "white",
            "gridwidth": 2,
            "linecolor": "white",
            "showbackground": true,
            "ticks": "",
            "zerolinecolor": "white"
           }
          },
          "shapedefaults": {
           "line": {
            "color": "#2a3f5f"
           }
          },
          "ternary": {
           "aaxis": {
            "gridcolor": "white",
            "linecolor": "white",
            "ticks": ""
           },
           "baxis": {
            "gridcolor": "white",
            "linecolor": "white",
            "ticks": ""
           },
           "bgcolor": "#E5ECF6",
           "caxis": {
            "gridcolor": "white",
            "linecolor": "white",
            "ticks": ""
           }
          },
          "title": {
           "x": 0.05
          },
          "xaxis": {
           "automargin": true,
           "gridcolor": "white",
           "linecolor": "white",
           "ticks": "",
           "title": {
            "standoff": 15
           },
           "zerolinecolor": "white",
           "zerolinewidth": 2
          },
          "yaxis": {
           "automargin": true,
           "gridcolor": "white",
           "linecolor": "white",
           "ticks": "",
           "title": {
            "standoff": 15
           },
           "zerolinecolor": "white",
           "zerolinewidth": 2
          }
         }
        },
        "title": {
         "text": "Nulls vs Valid values"
        },
        "width": 600
       }
      }
     },
     "metadata": {},
     "output_type": "display_data"
    },
    {
     "data": {
      "application/vnd.plotly.v1+json": {
       "config": {
        "plotlyServerURL": "https://plot.ly"
       },
       "data": [
        {
         "alignmentgroup": "True",
         "hovertemplate": "x=%{x}<br>y=%{y}<extra></extra>",
         "legendgroup": "",
         "marker": {
          "color": "#636efa",
          "pattern": {
           "shape": ""
          }
         },
         "name": "",
         "offsetgroup": "",
         "orientation": "v",
         "showlegend": false,
         "textposition": "auto",
         "type": "bar",
         "x": [
          "property_type",
          "place_name",
          "place_with_parent_names",
          "state_name",
          "geonames_id",
          "lat-lon",
          "lat",
          "lon",
          "price",
          "currency",
          "price_aprox_local_currency",
          "price_aprox_usd",
          "surface_total_in_m2",
          "surface_covered_in_m2",
          "price_usd_per_m2",
          "price_per_m2",
          "floor",
          "rooms",
          "expenses",
          "description",
          "title"
         ],
         "xaxis": "x",
         "y": [
          0,
          0,
          0,
          0,
          18717,
          51549,
          51549,
          51549,
          20410,
          20411,
          20410,
          20410,
          39326,
          19906,
          52601,
          33561,
          113319,
          73828,
          106956,
          0,
          0
         ],
         "yaxis": "y"
        }
       ],
       "layout": {
        "barmode": "relative",
        "height": 400,
        "legend": {
         "tracegroupgap": 0
        },
        "margin": {
         "t": 60
        },
        "template": {
         "data": {
          "bar": [
           {
            "error_x": {
             "color": "#2a3f5f"
            },
            "error_y": {
             "color": "#2a3f5f"
            },
            "marker": {
             "line": {
              "color": "#E5ECF6",
              "width": 0.5
             },
             "pattern": {
              "fillmode": "overlay",
              "size": 10,
              "solidity": 0.2
             }
            },
            "type": "bar"
           }
          ],
          "barpolar": [
           {
            "marker": {
             "line": {
              "color": "#E5ECF6",
              "width": 0.5
             },
             "pattern": {
              "fillmode": "overlay",
              "size": 10,
              "solidity": 0.2
             }
            },
            "type": "barpolar"
           }
          ],
          "carpet": [
           {
            "aaxis": {
             "endlinecolor": "#2a3f5f",
             "gridcolor": "white",
             "linecolor": "white",
             "minorgridcolor": "white",
             "startlinecolor": "#2a3f5f"
            },
            "baxis": {
             "endlinecolor": "#2a3f5f",
             "gridcolor": "white",
             "linecolor": "white",
             "minorgridcolor": "white",
             "startlinecolor": "#2a3f5f"
            },
            "type": "carpet"
           }
          ],
          "choropleth": [
           {
            "colorbar": {
             "outlinewidth": 0,
             "ticks": ""
            },
            "type": "choropleth"
           }
          ],
          "contour": [
           {
            "colorbar": {
             "outlinewidth": 0,
             "ticks": ""
            },
            "colorscale": [
             [
              0,
              "#0d0887"
             ],
             [
              0.1111111111111111,
              "#46039f"
             ],
             [
              0.2222222222222222,
              "#7201a8"
             ],
             [
              0.3333333333333333,
              "#9c179e"
             ],
             [
              0.4444444444444444,
              "#bd3786"
             ],
             [
              0.5555555555555556,
              "#d8576b"
             ],
             [
              0.6666666666666666,
              "#ed7953"
             ],
             [
              0.7777777777777778,
              "#fb9f3a"
             ],
             [
              0.8888888888888888,
              "#fdca26"
             ],
             [
              1,
              "#f0f921"
             ]
            ],
            "type": "contour"
           }
          ],
          "contourcarpet": [
           {
            "colorbar": {
             "outlinewidth": 0,
             "ticks": ""
            },
            "type": "contourcarpet"
           }
          ],
          "heatmap": [
           {
            "colorbar": {
             "outlinewidth": 0,
             "ticks": ""
            },
            "colorscale": [
             [
              0,
              "#0d0887"
             ],
             [
              0.1111111111111111,
              "#46039f"
             ],
             [
              0.2222222222222222,
              "#7201a8"
             ],
             [
              0.3333333333333333,
              "#9c179e"
             ],
             [
              0.4444444444444444,
              "#bd3786"
             ],
             [
              0.5555555555555556,
              "#d8576b"
             ],
             [
              0.6666666666666666,
              "#ed7953"
             ],
             [
              0.7777777777777778,
              "#fb9f3a"
             ],
             [
              0.8888888888888888,
              "#fdca26"
             ],
             [
              1,
              "#f0f921"
             ]
            ],
            "type": "heatmap"
           }
          ],
          "heatmapgl": [
           {
            "colorbar": {
             "outlinewidth": 0,
             "ticks": ""
            },
            "colorscale": [
             [
              0,
              "#0d0887"
             ],
             [
              0.1111111111111111,
              "#46039f"
             ],
             [
              0.2222222222222222,
              "#7201a8"
             ],
             [
              0.3333333333333333,
              "#9c179e"
             ],
             [
              0.4444444444444444,
              "#bd3786"
             ],
             [
              0.5555555555555556,
              "#d8576b"
             ],
             [
              0.6666666666666666,
              "#ed7953"
             ],
             [
              0.7777777777777778,
              "#fb9f3a"
             ],
             [
              0.8888888888888888,
              "#fdca26"
             ],
             [
              1,
              "#f0f921"
             ]
            ],
            "type": "heatmapgl"
           }
          ],
          "histogram": [
           {
            "marker": {
             "pattern": {
              "fillmode": "overlay",
              "size": 10,
              "solidity": 0.2
             }
            },
            "type": "histogram"
           }
          ],
          "histogram2d": [
           {
            "colorbar": {
             "outlinewidth": 0,
             "ticks": ""
            },
            "colorscale": [
             [
              0,
              "#0d0887"
             ],
             [
              0.1111111111111111,
              "#46039f"
             ],
             [
              0.2222222222222222,
              "#7201a8"
             ],
             [
              0.3333333333333333,
              "#9c179e"
             ],
             [
              0.4444444444444444,
              "#bd3786"
             ],
             [
              0.5555555555555556,
              "#d8576b"
             ],
             [
              0.6666666666666666,
              "#ed7953"
             ],
             [
              0.7777777777777778,
              "#fb9f3a"
             ],
             [
              0.8888888888888888,
              "#fdca26"
             ],
             [
              1,
              "#f0f921"
             ]
            ],
            "type": "histogram2d"
           }
          ],
          "histogram2dcontour": [
           {
            "colorbar": {
             "outlinewidth": 0,
             "ticks": ""
            },
            "colorscale": [
             [
              0,
              "#0d0887"
             ],
             [
              0.1111111111111111,
              "#46039f"
             ],
             [
              0.2222222222222222,
              "#7201a8"
             ],
             [
              0.3333333333333333,
              "#9c179e"
             ],
             [
              0.4444444444444444,
              "#bd3786"
             ],
             [
              0.5555555555555556,
              "#d8576b"
             ],
             [
              0.6666666666666666,
              "#ed7953"
             ],
             [
              0.7777777777777778,
              "#fb9f3a"
             ],
             [
              0.8888888888888888,
              "#fdca26"
             ],
             [
              1,
              "#f0f921"
             ]
            ],
            "type": "histogram2dcontour"
           }
          ],
          "mesh3d": [
           {
            "colorbar": {
             "outlinewidth": 0,
             "ticks": ""
            },
            "type": "mesh3d"
           }
          ],
          "parcoords": [
           {
            "line": {
             "colorbar": {
              "outlinewidth": 0,
              "ticks": ""
             }
            },
            "type": "parcoords"
           }
          ],
          "pie": [
           {
            "automargin": true,
            "type": "pie"
           }
          ],
          "scatter": [
           {
            "fillpattern": {
             "fillmode": "overlay",
             "size": 10,
             "solidity": 0.2
            },
            "type": "scatter"
           }
          ],
          "scatter3d": [
           {
            "line": {
             "colorbar": {
              "outlinewidth": 0,
              "ticks": ""
             }
            },
            "marker": {
             "colorbar": {
              "outlinewidth": 0,
              "ticks": ""
             }
            },
            "type": "scatter3d"
           }
          ],
          "scattercarpet": [
           {
            "marker": {
             "colorbar": {
              "outlinewidth": 0,
              "ticks": ""
             }
            },
            "type": "scattercarpet"
           }
          ],
          "scattergeo": [
           {
            "marker": {
             "colorbar": {
              "outlinewidth": 0,
              "ticks": ""
             }
            },
            "type": "scattergeo"
           }
          ],
          "scattergl": [
           {
            "marker": {
             "colorbar": {
              "outlinewidth": 0,
              "ticks": ""
             }
            },
            "type": "scattergl"
           }
          ],
          "scattermapbox": [
           {
            "marker": {
             "colorbar": {
              "outlinewidth": 0,
              "ticks": ""
             }
            },
            "type": "scattermapbox"
           }
          ],
          "scatterpolar": [
           {
            "marker": {
             "colorbar": {
              "outlinewidth": 0,
              "ticks": ""
             }
            },
            "type": "scatterpolar"
           }
          ],
          "scatterpolargl": [
           {
            "marker": {
             "colorbar": {
              "outlinewidth": 0,
              "ticks": ""
             }
            },
            "type": "scatterpolargl"
           }
          ],
          "scatterternary": [
           {
            "marker": {
             "colorbar": {
              "outlinewidth": 0,
              "ticks": ""
             }
            },
            "type": "scatterternary"
           }
          ],
          "surface": [
           {
            "colorbar": {
             "outlinewidth": 0,
             "ticks": ""
            },
            "colorscale": [
             [
              0,
              "#0d0887"
             ],
             [
              0.1111111111111111,
              "#46039f"
             ],
             [
              0.2222222222222222,
              "#7201a8"
             ],
             [
              0.3333333333333333,
              "#9c179e"
             ],
             [
              0.4444444444444444,
              "#bd3786"
             ],
             [
              0.5555555555555556,
              "#d8576b"
             ],
             [
              0.6666666666666666,
              "#ed7953"
             ],
             [
              0.7777777777777778,
              "#fb9f3a"
             ],
             [
              0.8888888888888888,
              "#fdca26"
             ],
             [
              1,
              "#f0f921"
             ]
            ],
            "type": "surface"
           }
          ],
          "table": [
           {
            "cells": {
             "fill": {
              "color": "#EBF0F8"
             },
             "line": {
              "color": "white"
             }
            },
            "header": {
             "fill": {
              "color": "#C8D4E3"
             },
             "line": {
              "color": "white"
             }
            },
            "type": "table"
           }
          ]
         },
         "layout": {
          "annotationdefaults": {
           "arrowcolor": "#2a3f5f",
           "arrowhead": 0,
           "arrowwidth": 1
          },
          "autotypenumbers": "strict",
          "coloraxis": {
           "colorbar": {
            "outlinewidth": 0,
            "ticks": ""
           }
          },
          "colorscale": {
           "diverging": [
            [
             0,
             "#8e0152"
            ],
            [
             0.1,
             "#c51b7d"
            ],
            [
             0.2,
             "#de77ae"
            ],
            [
             0.3,
             "#f1b6da"
            ],
            [
             0.4,
             "#fde0ef"
            ],
            [
             0.5,
             "#f7f7f7"
            ],
            [
             0.6,
             "#e6f5d0"
            ],
            [
             0.7,
             "#b8e186"
            ],
            [
             0.8,
             "#7fbc41"
            ],
            [
             0.9,
             "#4d9221"
            ],
            [
             1,
             "#276419"
            ]
           ],
           "sequential": [
            [
             0,
             "#0d0887"
            ],
            [
             0.1111111111111111,
             "#46039f"
            ],
            [
             0.2222222222222222,
             "#7201a8"
            ],
            [
             0.3333333333333333,
             "#9c179e"
            ],
            [
             0.4444444444444444,
             "#bd3786"
            ],
            [
             0.5555555555555556,
             "#d8576b"
            ],
            [
             0.6666666666666666,
             "#ed7953"
            ],
            [
             0.7777777777777778,
             "#fb9f3a"
            ],
            [
             0.8888888888888888,
             "#fdca26"
            ],
            [
             1,
             "#f0f921"
            ]
           ],
           "sequentialminus": [
            [
             0,
             "#0d0887"
            ],
            [
             0.1111111111111111,
             "#46039f"
            ],
            [
             0.2222222222222222,
             "#7201a8"
            ],
            [
             0.3333333333333333,
             "#9c179e"
            ],
            [
             0.4444444444444444,
             "#bd3786"
            ],
            [
             0.5555555555555556,
             "#d8576b"
            ],
            [
             0.6666666666666666,
             "#ed7953"
            ],
            [
             0.7777777777777778,
             "#fb9f3a"
            ],
            [
             0.8888888888888888,
             "#fdca26"
            ],
            [
             1,
             "#f0f921"
            ]
           ]
          },
          "colorway": [
           "#636efa",
           "#EF553B",
           "#00cc96",
           "#ab63fa",
           "#FFA15A",
           "#19d3f3",
           "#FF6692",
           "#B6E880",
           "#FF97FF",
           "#FECB52"
          ],
          "font": {
           "color": "#2a3f5f"
          },
          "geo": {
           "bgcolor": "white",
           "lakecolor": "white",
           "landcolor": "#E5ECF6",
           "showlakes": true,
           "showland": true,
           "subunitcolor": "white"
          },
          "hoverlabel": {
           "align": "left"
          },
          "hovermode": "closest",
          "mapbox": {
           "style": "light"
          },
          "paper_bgcolor": "white",
          "plot_bgcolor": "#E5ECF6",
          "polar": {
           "angularaxis": {
            "gridcolor": "white",
            "linecolor": "white",
            "ticks": ""
           },
           "bgcolor": "#E5ECF6",
           "radialaxis": {
            "gridcolor": "white",
            "linecolor": "white",
            "ticks": ""
           }
          },
          "scene": {
           "xaxis": {
            "backgroundcolor": "#E5ECF6",
            "gridcolor": "white",
            "gridwidth": 2,
            "linecolor": "white",
            "showbackground": true,
            "ticks": "",
            "zerolinecolor": "white"
           },
           "yaxis": {
            "backgroundcolor": "#E5ECF6",
            "gridcolor": "white",
            "gridwidth": 2,
            "linecolor": "white",
            "showbackground": true,
            "ticks": "",
            "zerolinecolor": "white"
           },
           "zaxis": {
            "backgroundcolor": "#E5ECF6",
            "gridcolor": "white",
            "gridwidth": 2,
            "linecolor": "white",
            "showbackground": true,
            "ticks": "",
            "zerolinecolor": "white"
           }
          },
          "shapedefaults": {
           "line": {
            "color": "#2a3f5f"
           }
          },
          "ternary": {
           "aaxis": {
            "gridcolor": "white",
            "linecolor": "white",
            "ticks": ""
           },
           "baxis": {
            "gridcolor": "white",
            "linecolor": "white",
            "ticks": ""
           },
           "bgcolor": "#E5ECF6",
           "caxis": {
            "gridcolor": "white",
            "linecolor": "white",
            "ticks": ""
           }
          },
          "title": {
           "x": 0.05
          },
          "xaxis": {
           "automargin": true,
           "gridcolor": "white",
           "linecolor": "white",
           "ticks": "",
           "title": {
            "standoff": 15
           },
           "zerolinecolor": "white",
           "zerolinewidth": 2
          },
          "yaxis": {
           "automargin": true,
           "gridcolor": "white",
           "linecolor": "white",
           "ticks": "",
           "title": {
            "standoff": 15
           },
           "zerolinecolor": "white",
           "zerolinewidth": 2
          }
         }
        },
        "width": 600,
        "xaxis": {
         "anchor": "y",
         "domain": [
          0,
          1
         ],
         "tickangle": 45,
         "title": {
          "text": "x"
         }
        },
        "yaxis": {
         "anchor": "x",
         "domain": [
          0,
          1
         ],
         "title": {
          "text": "y"
         }
        }
       }
      }
     },
     "metadata": {},
     "output_type": "display_data"
    }
   ],
   "source": [
    "\n",
    "from IPython.display import display, HTML\n",
    "\n",
    "CSS = \"\"\"\n",
    ".output {\n",
    "    align-items: center;\n",
    "}\n",
    "\"\"\"\n",
    "\n",
    "HTML('<style>{}</style>'.format(CSS))\n",
    "\n",
    "fig_1 = px.bar(x=df.isna().sum().index, y=df.isna().sum().values,  width=600, height=400)\n",
    "\n",
    "fig = px.pie(\n",
    "    labels=['NaN', 'Not NaN'],\n",
    "    values=[df.isnull().sum().sum(), \n",
    "    df.shape[0]*df.shape[1]-df.isnull().sum().sum()], \n",
    "    width=600, height=400, \n",
    "    names=['Nan', 'Not NaN'], \n",
    "    title='Nulls vs Valid values', \n",
    "    hole=0.5)\n",
    "\n",
    "fig_1.update_xaxes(tickangle=45)\n",
    "\n",
    "fig.show()\n",
    "fig_1.show()    \n",
    "\n"
   ]
  },
  {
   "cell_type": "code",
   "execution_count": null,
   "metadata": {},
   "outputs": [],
   "source": [
    "df = df.drop_duplicates()"
   ]
  },
  {
   "cell_type": "code",
   "execution_count": null,
   "metadata": {},
   "outputs": [
    {
     "name": "stdout",
     "output_type": "stream",
     "text": [
      "more 40383\n",
      "14 41207\n"
     ]
    }
   ],
   "source": [
    "from spa2num.converter import to_number\n",
    "\n",
    "\n",
    "for description, rooms, index in zip(df['description'], df['rooms'], df.index):\n",
    "    description = re.sub(' +', ' ', description.lower())\n",
    "    temp_list = description.lower().split(' ')\n",
    "    \n",
    "    if 'monoambiente' in temp_list:\n",
    "        rooms = 1\n",
    "    elif 'mono' in temp_list:\n",
    "        rooms = 1\n",
    "    elif 'ambientes' in temp_list:\n",
    "        rooms = temp_list[temp_list.index('ambientes') - 1]\n",
    "    elif 'ambiente' in temp_list:\n",
    "        rooms = temp_list[temp_list.index('ambiente') - 1]\n",
    "    elif 'rooms' in temp_list:\n",
    "        rooms = temp_list[temp_list.index('rooms') - 1]\n",
    "        print(rooms,index)\n",
    " \n",
    "    if isinstance(rooms, int) is True:\n",
    "        df['rooms'].loc[index] = rooms\n",
    "    elif isinstance(rooms, str) is True:\n",
    "        try:\n",
    "            rooms = to_number(rooms)\n",
    "            if isinstance(rooms, int) is True:\n",
    "                df['rooms'].loc[index] = rooms\n",
    "        except:\n",
    "            pass\n"
   ]
  },
  {
   "cell_type": "code",
   "execution_count": null,
   "metadata": {},
   "outputs": [
    {
     "data": {
      "text/plain": [
       "53660"
      ]
     },
     "execution_count": 1426,
     "metadata": {},
     "output_type": "execute_result"
    }
   ],
   "source": [
    "df['rooms'].isnull().sum()"
   ]
  },
  {
   "cell_type": "code",
   "execution_count": null,
   "metadata": {},
   "outputs": [
    {
     "data": {
      "text/html": [
       "<div>\n",
       "<style scoped>\n",
       "    .dataframe tbody tr th:only-of-type {\n",
       "        vertical-align: middle;\n",
       "    }\n",
       "\n",
       "    .dataframe tbody tr th {\n",
       "        vertical-align: top;\n",
       "    }\n",
       "\n",
       "    .dataframe thead th {\n",
       "        text-align: right;\n",
       "    }\n",
       "</style>\n",
       "<table border=\"1\" class=\"dataframe\">\n",
       "  <thead>\n",
       "    <tr style=\"text-align: right;\">\n",
       "      <th></th>\n",
       "      <th>rooms</th>\n",
       "      <th>description</th>\n",
       "    </tr>\n",
       "  </thead>\n",
       "  <tbody>\n",
       "    <tr>\n",
       "      <th>18</th>\n",
       "      <td>NaN</td>\n",
       "      <td>Casa sobre lote al golf en barrio San Isidro L...</td>\n",
       "    </tr>\n",
       "    <tr>\n",
       "      <th>22</th>\n",
       "      <td>NaN</td>\n",
       "      <td>Edificada en 2 plantas. PB. amplio living con ...</td>\n",
       "    </tr>\n",
       "    <tr>\n",
       "      <th>58</th>\n",
       "      <td>NaN</td>\n",
       "      <td>Magnífica residencia con calidad de construcci...</td>\n",
       "    </tr>\n",
       "    <tr>\n",
       "      <th>100</th>\n",
       "      <td>NaN</td>\n",
       "      <td>San Nicolás 365ENTREGA INMEDIATA.Edificio de e...</td>\n",
       "    </tr>\n",
       "    <tr>\n",
       "      <th>101</th>\n",
       "      <td>NaN</td>\n",
       "      <td>Tucuman 3476Edificio PB y 4 pisos por ascensor...</td>\n",
       "    </tr>\n",
       "    <tr>\n",
       "      <th>...</th>\n",
       "      <td>...</td>\n",
       "      <td>...</td>\n",
       "    </tr>\n",
       "    <tr>\n",
       "      <th>121200</th>\n",
       "      <td>NaN</td>\n",
       "      <td>UBICACIÓNEstratégicamente ubicado en calle Obi...</td>\n",
       "    </tr>\n",
       "    <tr>\n",
       "      <th>121202</th>\n",
       "      <td>NaN</td>\n",
       "      <td>UBICACIÓNEstratégicamente ubicado en calle Obi...</td>\n",
       "    </tr>\n",
       "    <tr>\n",
       "      <th>121203</th>\n",
       "      <td>NaN</td>\n",
       "      <td>UBICACIÓNEstratégicamente ubicado en calle Obi...</td>\n",
       "    </tr>\n",
       "    <tr>\n",
       "      <th>121205</th>\n",
       "      <td>NaN</td>\n",
       "      <td>UBICACIÓNEstratégicamente ubicado en calle Obi...</td>\n",
       "    </tr>\n",
       "    <tr>\n",
       "      <th>121211</th>\n",
       "      <td>NaN</td>\n",
       "      <td>Excelente departamento de categoría con vistas...</td>\n",
       "    </tr>\n",
       "  </tbody>\n",
       "</table>\n",
       "<p>8943 rows × 2 columns</p>\n",
       "</div>"
      ],
      "text/plain": [
       "        rooms                                        description\n",
       "18        NaN  Casa sobre lote al golf en barrio San Isidro L...\n",
       "22        NaN  Edificada en 2 plantas. PB. amplio living con ...\n",
       "58        NaN  Magnífica residencia con calidad de construcci...\n",
       "100       NaN  San Nicolás 365ENTREGA INMEDIATA.Edificio de e...\n",
       "101       NaN  Tucuman 3476Edificio PB y 4 pisos por ascensor...\n",
       "...       ...                                                ...\n",
       "121200    NaN  UBICACIÓNEstratégicamente ubicado en calle Obi...\n",
       "121202    NaN  UBICACIÓNEstratégicamente ubicado en calle Obi...\n",
       "121203    NaN  UBICACIÓNEstratégicamente ubicado en calle Obi...\n",
       "121205    NaN  UBICACIÓNEstratégicamente ubicado en calle Obi...\n",
       "121211    NaN  Excelente departamento de categoría con vistas...\n",
       "\n",
       "[8943 rows x 2 columns]"
      ]
     },
     "execution_count": 1427,
     "metadata": {},
     "output_type": "execute_result"
    }
   ],
   "source": [
    "temp_df = df[['rooms', 'description']]\n",
    "temp_df = temp_df[temp_df['rooms'].isnull()==True]\n",
    "temp_df = temp_df.loc[temp_df['description'].str.contains('ambiente')]\n",
    "\n",
    "\n",
    "temp_df\n",
    "# df.loc[df['description'].str.contains('room')]"
   ]
  },
  {
   "cell_type": "code",
   "execution_count": null,
   "metadata": {
    "pycharm": {
     "name": "#%%\n"
    }
   },
   "outputs": [
    {
     "data": {
      "application/vnd.plotly.v1+json": {
       "config": {
        "plotlyServerURL": "https://plot.ly"
       },
       "data": [
        {
         "domain": {
          "x": [
           0.55,
           1
          ],
          "y": [
           0.625,
           1
          ]
         },
         "hole": 0.4,
         "labels": [
          "string",
          "Float64",
          "Int64"
         ],
         "legendgroup": "pie",
         "marker": {
          "colors": [
           "#FC645F",
           "#A8E4A0",
           "#7088FF",
           "#FEB1AF"
          ]
         },
         "textposition": "inside",
         "title": {
          "text": "21"
         },
         "type": "pie",
         "values": [
          8,
          7,
          6
         ]
        },
        {
         "cells": {
          "line": {
           "color": "darkslategray"
          },
          "values": [
           [
            "property_type",
            "place_name",
            "place_with_parent_names",
            "state_name",
            "geonames_id",
            "lat-lon",
            "lat",
            "lon",
            "price",
            "currency",
            "price_aprox_local_currency",
            "price_aprox_usd",
            "surface_total_in_m2",
            "surface_covered_in_m2",
            "price_usd_per_m2",
            "price_per_m2",
            "floor",
            "rooms",
            "expenses",
            "description",
            "title"
           ],
           [
            "string",
            "string",
            "string",
            "string",
            "Int64",
            "string",
            "Float64",
            "Float64",
            "Int64",
            "string",
            "Float64",
            "Float64",
            "Int64",
            "Int64",
            "Float64",
            "Float64",
            "Int64",
            "Float64",
            "Int64",
            "string",
            "string"
           ]
          ]
         },
         "domain": {
          "x": [
           0,
           0.45
          ],
          "y": [
           0.625,
           1
          ]
         },
         "header": {
          "fill": {
           "color": "#A8E4A0"
          },
          "line": {
           "color": "darkslategray"
          },
          "values": [
           "Column",
           "Data type"
          ]
         },
         "type": "table"
        },
        {
         "cells": {
          "values": [
           [
            "property_type",
            "place_name",
            "place_with_parent_names",
            "state_name",
            "geonames_id",
            "lat-lon",
            "lat",
            "lon",
            "price",
            "currency",
            "price_aprox_local_currency",
            "price_aprox_usd",
            "surface_total_in_m2",
            "surface_covered_in_m2",
            "price_usd_per_m2",
            "price_per_m2",
            "floor",
            "rooms",
            "expenses",
            "description",
            "title"
           ],
           [
            "Categorical",
            "Categorical",
            "Categorical",
            "Categorical",
            "Numerical",
            "Categorical",
            "Categorical",
            "Categorical",
            "Numerical",
            "Categorical",
            "Categorical",
            "Categorical",
            "Numerical",
            "Numerical",
            "Categorical",
            "Categorical",
            "Numerical",
            "Categorical",
            "Numerical",
            "Categorical",
            "Categorical"
           ]
          ]
         },
         "domain": {
          "x": [
           0,
           0.45
          ],
          "y": [
           0,
           0.375
          ]
         },
         "header": {
          "fill": {
           "color": "#A8E4A0"
          },
          "line": {
           "color": "darkslategray"
          },
          "values": [
           "Columns",
           "Classification"
          ]
         },
         "type": "table"
        },
        {
         "domain": {
          "x": [
           0.55,
           1
          ],
          "y": [
           0,
           0.375
          ]
         },
         "hole": 0.4,
         "labels": [
          "Categorical",
          " Numerical"
         ],
         "legendgroup": "pie2",
         "marker": {
          "colors": [
           "#FC645F",
           "#A8E4A0",
           "#7088FF",
           "#FEB1AF"
          ]
         },
         "type": "pie",
         "values": [
          15,
          6
         ]
        }
       ],
       "layout": {
        "annotations": [
         {
          "font": {
           "size": 16
          },
          "showarrow": false,
          "text": "<b>TYPE",
          "x": 0.775,
          "xanchor": "center",
          "xref": "paper",
          "y": 1,
          "yanchor": "bottom",
          "yref": "paper"
         },
         {
          "font": {
           "size": 16
          },
          "showarrow": false,
          "text": "<b>CLASS",
          "x": 0.775,
          "xanchor": "center",
          "xref": "paper",
          "y": 0.375,
          "yanchor": "bottom",
          "yref": "paper"
         }
        ],
        "font": {
         "size": 14
        },
        "height": 800,
        "template": {
         "data": {
          "bar": [
           {
            "error_x": {
             "color": "#2a3f5f"
            },
            "error_y": {
             "color": "#2a3f5f"
            },
            "marker": {
             "line": {
              "color": "#E5ECF6",
              "width": 0.5
             },
             "pattern": {
              "fillmode": "overlay",
              "size": 10,
              "solidity": 0.2
             }
            },
            "type": "bar"
           }
          ],
          "barpolar": [
           {
            "marker": {
             "line": {
              "color": "#E5ECF6",
              "width": 0.5
             },
             "pattern": {
              "fillmode": "overlay",
              "size": 10,
              "solidity": 0.2
             }
            },
            "type": "barpolar"
           }
          ],
          "carpet": [
           {
            "aaxis": {
             "endlinecolor": "#2a3f5f",
             "gridcolor": "white",
             "linecolor": "white",
             "minorgridcolor": "white",
             "startlinecolor": "#2a3f5f"
            },
            "baxis": {
             "endlinecolor": "#2a3f5f",
             "gridcolor": "white",
             "linecolor": "white",
             "minorgridcolor": "white",
             "startlinecolor": "#2a3f5f"
            },
            "type": "carpet"
           }
          ],
          "choropleth": [
           {
            "colorbar": {
             "outlinewidth": 0,
             "ticks": ""
            },
            "type": "choropleth"
           }
          ],
          "contour": [
           {
            "colorbar": {
             "outlinewidth": 0,
             "ticks": ""
            },
            "colorscale": [
             [
              0,
              "#0d0887"
             ],
             [
              0.1111111111111111,
              "#46039f"
             ],
             [
              0.2222222222222222,
              "#7201a8"
             ],
             [
              0.3333333333333333,
              "#9c179e"
             ],
             [
              0.4444444444444444,
              "#bd3786"
             ],
             [
              0.5555555555555556,
              "#d8576b"
             ],
             [
              0.6666666666666666,
              "#ed7953"
             ],
             [
              0.7777777777777778,
              "#fb9f3a"
             ],
             [
              0.8888888888888888,
              "#fdca26"
             ],
             [
              1,
              "#f0f921"
             ]
            ],
            "type": "contour"
           }
          ],
          "contourcarpet": [
           {
            "colorbar": {
             "outlinewidth": 0,
             "ticks": ""
            },
            "type": "contourcarpet"
           }
          ],
          "heatmap": [
           {
            "colorbar": {
             "outlinewidth": 0,
             "ticks": ""
            },
            "colorscale": [
             [
              0,
              "#0d0887"
             ],
             [
              0.1111111111111111,
              "#46039f"
             ],
             [
              0.2222222222222222,
              "#7201a8"
             ],
             [
              0.3333333333333333,
              "#9c179e"
             ],
             [
              0.4444444444444444,
              "#bd3786"
             ],
             [
              0.5555555555555556,
              "#d8576b"
             ],
             [
              0.6666666666666666,
              "#ed7953"
             ],
             [
              0.7777777777777778,
              "#fb9f3a"
             ],
             [
              0.8888888888888888,
              "#fdca26"
             ],
             [
              1,
              "#f0f921"
             ]
            ],
            "type": "heatmap"
           }
          ],
          "heatmapgl": [
           {
            "colorbar": {
             "outlinewidth": 0,
             "ticks": ""
            },
            "colorscale": [
             [
              0,
              "#0d0887"
             ],
             [
              0.1111111111111111,
              "#46039f"
             ],
             [
              0.2222222222222222,
              "#7201a8"
             ],
             [
              0.3333333333333333,
              "#9c179e"
             ],
             [
              0.4444444444444444,
              "#bd3786"
             ],
             [
              0.5555555555555556,
              "#d8576b"
             ],
             [
              0.6666666666666666,
              "#ed7953"
             ],
             [
              0.7777777777777778,
              "#fb9f3a"
             ],
             [
              0.8888888888888888,
              "#fdca26"
             ],
             [
              1,
              "#f0f921"
             ]
            ],
            "type": "heatmapgl"
           }
          ],
          "histogram": [
           {
            "marker": {
             "pattern": {
              "fillmode": "overlay",
              "size": 10,
              "solidity": 0.2
             }
            },
            "type": "histogram"
           }
          ],
          "histogram2d": [
           {
            "colorbar": {
             "outlinewidth": 0,
             "ticks": ""
            },
            "colorscale": [
             [
              0,
              "#0d0887"
             ],
             [
              0.1111111111111111,
              "#46039f"
             ],
             [
              0.2222222222222222,
              "#7201a8"
             ],
             [
              0.3333333333333333,
              "#9c179e"
             ],
             [
              0.4444444444444444,
              "#bd3786"
             ],
             [
              0.5555555555555556,
              "#d8576b"
             ],
             [
              0.6666666666666666,
              "#ed7953"
             ],
             [
              0.7777777777777778,
              "#fb9f3a"
             ],
             [
              0.8888888888888888,
              "#fdca26"
             ],
             [
              1,
              "#f0f921"
             ]
            ],
            "type": "histogram2d"
           }
          ],
          "histogram2dcontour": [
           {
            "colorbar": {
             "outlinewidth": 0,
             "ticks": ""
            },
            "colorscale": [
             [
              0,
              "#0d0887"
             ],
             [
              0.1111111111111111,
              "#46039f"
             ],
             [
              0.2222222222222222,
              "#7201a8"
             ],
             [
              0.3333333333333333,
              "#9c179e"
             ],
             [
              0.4444444444444444,
              "#bd3786"
             ],
             [
              0.5555555555555556,
              "#d8576b"
             ],
             [
              0.6666666666666666,
              "#ed7953"
             ],
             [
              0.7777777777777778,
              "#fb9f3a"
             ],
             [
              0.8888888888888888,
              "#fdca26"
             ],
             [
              1,
              "#f0f921"
             ]
            ],
            "type": "histogram2dcontour"
           }
          ],
          "mesh3d": [
           {
            "colorbar": {
             "outlinewidth": 0,
             "ticks": ""
            },
            "type": "mesh3d"
           }
          ],
          "parcoords": [
           {
            "line": {
             "colorbar": {
              "outlinewidth": 0,
              "ticks": ""
             }
            },
            "type": "parcoords"
           }
          ],
          "pie": [
           {
            "automargin": true,
            "type": "pie"
           }
          ],
          "scatter": [
           {
            "fillpattern": {
             "fillmode": "overlay",
             "size": 10,
             "solidity": 0.2
            },
            "type": "scatter"
           }
          ],
          "scatter3d": [
           {
            "line": {
             "colorbar": {
              "outlinewidth": 0,
              "ticks": ""
             }
            },
            "marker": {
             "colorbar": {
              "outlinewidth": 0,
              "ticks": ""
             }
            },
            "type": "scatter3d"
           }
          ],
          "scattercarpet": [
           {
            "marker": {
             "colorbar": {
              "outlinewidth": 0,
              "ticks": ""
             }
            },
            "type": "scattercarpet"
           }
          ],
          "scattergeo": [
           {
            "marker": {
             "colorbar": {
              "outlinewidth": 0,
              "ticks": ""
             }
            },
            "type": "scattergeo"
           }
          ],
          "scattergl": [
           {
            "marker": {
             "colorbar": {
              "outlinewidth": 0,
              "ticks": ""
             }
            },
            "type": "scattergl"
           }
          ],
          "scattermapbox": [
           {
            "marker": {
             "colorbar": {
              "outlinewidth": 0,
              "ticks": ""
             }
            },
            "type": "scattermapbox"
           }
          ],
          "scatterpolar": [
           {
            "marker": {
             "colorbar": {
              "outlinewidth": 0,
              "ticks": ""
             }
            },
            "type": "scatterpolar"
           }
          ],
          "scatterpolargl": [
           {
            "marker": {
             "colorbar": {
              "outlinewidth": 0,
              "ticks": ""
             }
            },
            "type": "scatterpolargl"
           }
          ],
          "scatterternary": [
           {
            "marker": {
             "colorbar": {
              "outlinewidth": 0,
              "ticks": ""
             }
            },
            "type": "scatterternary"
           }
          ],
          "surface": [
           {
            "colorbar": {
             "outlinewidth": 0,
             "ticks": ""
            },
            "colorscale": [
             [
              0,
              "#0d0887"
             ],
             [
              0.1111111111111111,
              "#46039f"
             ],
             [
              0.2222222222222222,
              "#7201a8"
             ],
             [
              0.3333333333333333,
              "#9c179e"
             ],
             [
              0.4444444444444444,
              "#bd3786"
             ],
             [
              0.5555555555555556,
              "#d8576b"
             ],
             [
              0.6666666666666666,
              "#ed7953"
             ],
             [
              0.7777777777777778,
              "#fb9f3a"
             ],
             [
              0.8888888888888888,
              "#fdca26"
             ],
             [
              1,
              "#f0f921"
             ]
            ],
            "type": "surface"
           }
          ],
          "table": [
           {
            "cells": {
             "fill": {
              "color": "#EBF0F8"
             },
             "line": {
              "color": "white"
             }
            },
            "header": {
             "fill": {
              "color": "#C8D4E3"
             },
             "line": {
              "color": "white"
             }
            },
            "type": "table"
           }
          ]
         },
         "layout": {
          "annotationdefaults": {
           "arrowcolor": "#2a3f5f",
           "arrowhead": 0,
           "arrowwidth": 1
          },
          "autotypenumbers": "strict",
          "coloraxis": {
           "colorbar": {
            "outlinewidth": 0,
            "ticks": ""
           }
          },
          "colorscale": {
           "diverging": [
            [
             0,
             "#8e0152"
            ],
            [
             0.1,
             "#c51b7d"
            ],
            [
             0.2,
             "#de77ae"
            ],
            [
             0.3,
             "#f1b6da"
            ],
            [
             0.4,
             "#fde0ef"
            ],
            [
             0.5,
             "#f7f7f7"
            ],
            [
             0.6,
             "#e6f5d0"
            ],
            [
             0.7,
             "#b8e186"
            ],
            [
             0.8,
             "#7fbc41"
            ],
            [
             0.9,
             "#4d9221"
            ],
            [
             1,
             "#276419"
            ]
           ],
           "sequential": [
            [
             0,
             "#0d0887"
            ],
            [
             0.1111111111111111,
             "#46039f"
            ],
            [
             0.2222222222222222,
             "#7201a8"
            ],
            [
             0.3333333333333333,
             "#9c179e"
            ],
            [
             0.4444444444444444,
             "#bd3786"
            ],
            [
             0.5555555555555556,
             "#d8576b"
            ],
            [
             0.6666666666666666,
             "#ed7953"
            ],
            [
             0.7777777777777778,
             "#fb9f3a"
            ],
            [
             0.8888888888888888,
             "#fdca26"
            ],
            [
             1,
             "#f0f921"
            ]
           ],
           "sequentialminus": [
            [
             0,
             "#0d0887"
            ],
            [
             0.1111111111111111,
             "#46039f"
            ],
            [
             0.2222222222222222,
             "#7201a8"
            ],
            [
             0.3333333333333333,
             "#9c179e"
            ],
            [
             0.4444444444444444,
             "#bd3786"
            ],
            [
             0.5555555555555556,
             "#d8576b"
            ],
            [
             0.6666666666666666,
             "#ed7953"
            ],
            [
             0.7777777777777778,
             "#fb9f3a"
            ],
            [
             0.8888888888888888,
             "#fdca26"
            ],
            [
             1,
             "#f0f921"
            ]
           ]
          },
          "colorway": [
           "#636efa",
           "#EF553B",
           "#00cc96",
           "#ab63fa",
           "#FFA15A",
           "#19d3f3",
           "#FF6692",
           "#B6E880",
           "#FF97FF",
           "#FECB52"
          ],
          "font": {
           "color": "#2a3f5f"
          },
          "geo": {
           "bgcolor": "white",
           "lakecolor": "white",
           "landcolor": "#E5ECF6",
           "showlakes": true,
           "showland": true,
           "subunitcolor": "white"
          },
          "hoverlabel": {
           "align": "left"
          },
          "hovermode": "closest",
          "mapbox": {
           "style": "light"
          },
          "paper_bgcolor": "white",
          "plot_bgcolor": "#E5ECF6",
          "polar": {
           "angularaxis": {
            "gridcolor": "white",
            "linecolor": "white",
            "ticks": ""
           },
           "bgcolor": "#E5ECF6",
           "radialaxis": {
            "gridcolor": "white",
            "linecolor": "white",
            "ticks": ""
           }
          },
          "scene": {
           "xaxis": {
            "backgroundcolor": "#E5ECF6",
            "gridcolor": "white",
            "gridwidth": 2,
            "linecolor": "white",
            "showbackground": true,
            "ticks": "",
            "zerolinecolor": "white"
           },
           "yaxis": {
            "backgroundcolor": "#E5ECF6",
            "gridcolor": "white",
            "gridwidth": 2,
            "linecolor": "white",
            "showbackground": true,
            "ticks": "",
            "zerolinecolor": "white"
           },
           "zaxis": {
            "backgroundcolor": "#E5ECF6",
            "gridcolor": "white",
            "gridwidth": 2,
            "linecolor": "white",
            "showbackground": true,
            "ticks": "",
            "zerolinecolor": "white"
           }
          },
          "shapedefaults": {
           "line": {
            "color": "#2a3f5f"
           }
          },
          "ternary": {
           "aaxis": {
            "gridcolor": "white",
            "linecolor": "white",
            "ticks": ""
           },
           "baxis": {
            "gridcolor": "white",
            "linecolor": "white",
            "ticks": ""
           },
           "bgcolor": "#E5ECF6",
           "caxis": {
            "gridcolor": "white",
            "linecolor": "white",
            "ticks": ""
           }
          },
          "title": {
           "x": 0.05
          },
          "xaxis": {
           "automargin": true,
           "gridcolor": "white",
           "linecolor": "white",
           "ticks": "",
           "title": {
            "standoff": 15
           },
           "zerolinecolor": "white",
           "zerolinewidth": 2
          },
          "yaxis": {
           "automargin": true,
           "gridcolor": "white",
           "linecolor": "white",
           "ticks": "",
           "title": {
            "standoff": 15
           },
           "zerolinecolor": "white",
           "zerolinewidth": 2
          }
         }
        },
        "title": {
         "text": "<b>DATA TYPE ANALYSIS"
        },
        "width": 1000
       }
      }
     },
     "metadata": {},
     "output_type": "display_data"
    }
   ],
   "source": [
    "table_dtype(df)"
   ]
  },
  {
   "cell_type": "code",
   "execution_count": null,
   "metadata": {
    "pycharm": {
     "name": "#%%\n"
    }
   },
   "outputs": [],
   "source": [
    "test = correlation_matrix(df, 'PROPERATY', rtn=False)"
   ]
  },
  {
   "cell_type": "code",
   "execution_count": null,
   "metadata": {},
   "outputs": [
    {
     "data": {
      "application/vnd.plotly.v1+json": {
       "config": {
        "plotlyServerURL": "https://plot.ly"
       },
       "data": [
        {
         "colorscale": [
          [
           0,
           "rgb(255, 198, 196)"
          ],
          [
           0.16666666666666666,
           "rgb(244, 163, 168)"
          ],
          [
           0.3333333333333333,
           "rgb(227, 129, 145)"
          ],
          [
           0.5,
           "rgb(204, 96, 125)"
          ],
          [
           0.6666666666666666,
           "rgb(173, 70, 108)"
          ],
          [
           0.8333333333333334,
           "rgb(139, 48, 88)"
          ],
          [
           1,
           "rgb(103, 32, 68)"
          ]
         ],
         "type": "heatmap",
         "x": [
          "geonames_id",
          "lat",
          "lon",
          "price",
          "price_aprox_local_currency",
          "price_aprox_usd",
          "surface_total_in_m2",
          "surface_covered_in_m2",
          "price_usd_per_m2",
          "price_per_m2",
          "floor",
          "rooms",
          "expenses"
         ],
         "y": [
          "geonames_id",
          "lat",
          "lon",
          "price",
          "price_aprox_local_currency",
          "price_aprox_usd",
          "surface_total_in_m2",
          "surface_covered_in_m2",
          "price_usd_per_m2",
          "price_per_m2",
          "floor",
          "rooms",
          "expenses"
         ],
         "z": [
          [
           1,
           0.16723928953687636,
           -0.29228738156101086,
           0.03771908710217616,
           -0.041506665209915326,
           -0.04150666516383516,
           -0.000514824047092221,
           -0.005625213752104763,
           -0.04092936432174512,
           0.05661352963101442,
           -0.02473902111373773,
           -0.0013227649999927287,
           -0.002754947109406624
          ],
          [
           0.16723928953687636,
           1,
           -0.3009900994595093,
           0.18721142499587942,
           0.06711950936271815,
           0.06711950943295106,
           0.007259397671559364,
           0.007722860218196238,
           0.051367447509095186,
           0.08841109845359284,
           -0.039372377748104946,
           -0.007254010309080356,
           0.004703013979963905
          ],
          [
           -0.29228738156101086,
           -0.3009900994595093,
           1,
           -0.19711233872943434,
           -0.02644626809799913,
           -0.02644626818107316,
           -0.039684278630664205,
           -0.009454467645118895,
           0.03979191854449136,
           -0.08657496418063666,
           0.057633120359113506,
           0.003183865249366177,
           -0.002607347499052105
          ],
          [
           0.03771908710217616,
           0.18721142499587942,
           -0.19711233872943434,
           1,
           0.32907432301330314,
           0.32907432307699575,
           0.12202710224784974,
           0.04977899283991201,
           0.1149728795478113,
           0.495209658109931,
           -0.008826565200464254,
           -0.0017681834818354292,
           0.007793021150824262
          ],
          [
           -0.041506665209915326,
           0.06711950936271815,
           -0.02644626809799913,
           0.32907432301330314,
           1,
           1.0000000000000087,
           0.3083217016544471,
           0.1656141819705423,
           0.30912690348236016,
           0.05524468269619986,
           -0.0036285052695854895,
           -0.0018945981500323847,
           0.010622267865783939
          ],
          [
           -0.04150666516383516,
           0.06711950943295106,
           -0.02644626818107316,
           0.32907432307699575,
           1.0000000000000087,
           1,
           0.30832170165727746,
           0.16561418196750624,
           0.3091269035021796,
           0.055244682785171396,
           -0.0036285052793160262,
           -0.0018945981505697357,
           0.010622267866784394
          ],
          [
           -0.000514824047092221,
           0.007259397671559364,
           -0.039684278630664205,
           0.12202710224784974,
           0.3083217016544471,
           0.30832170165727746,
           1,
           0.2059333766069621,
           -0.04850482033967211,
           -0.0224712203694014,
           0.013458769362002649,
           -0.00042040900011081685,
           -0.000020124252317515137
          ],
          [
           -0.005625213752104763,
           0.007722860218196238,
           -0.009454467645118895,
           0.04977899283991201,
           0.1656141819705423,
           0.16561418196750624,
           0.2059333766069621,
           1,
           -0.05049837912431915,
           -0.020225221930987827,
           -0.000311151092865133,
           -0.0005040188827536517,
           0.000775033512831065
          ],
          [
           -0.04092936432174512,
           0.051367447509095186,
           0.03979191854449136,
           0.1149728795478113,
           0.30912690348236016,
           0.3091269035021796,
           -0.04850482033967211,
           -0.05049837912431915,
           1,
           0.18074800693819576,
           0.1553388596742628,
           -0.0013755371142627347,
           0.016386316812083086
          ],
          [
           0.05661352963101442,
           0.08841109845359284,
           -0.08657496418063666,
           0.495209658109931,
           0.05524468269619986,
           0.055244682785171396,
           -0.0224712203694014,
           -0.020225221930987827,
           0.18074800693819576,
           1,
           -0.018844082585533713,
           -0.0027196091229062078,
           -0.0024686096094480733
          ],
          [
           -0.02473902111373773,
           -0.039372377748104946,
           0.057633120359113506,
           -0.008826565200464254,
           -0.0036285052695854895,
           -0.0036285052793160262,
           0.013458769362002649,
           -0.000311151092865133,
           0.1553388596742628,
           -0.018844082585533713,
           1,
           -0.003097321865562138,
           0.21673527618309332
          ],
          [
           -0.0013227649999927287,
           -0.007254010309080356,
           0.003183865249366177,
           -0.0017681834818354292,
           -0.0018945981500323847,
           -0.0018945981505697357,
           -0.00042040900011081685,
           -0.0005040188827536517,
           -0.0013755371142627347,
           -0.0027196091229062078,
           -0.003097321865562138,
           1,
           -0.00028935847581528564
          ],
          [
           -0.002754947109406624,
           0.004703013979963905,
           -0.002607347499052105,
           0.007793021150824262,
           0.010622267865783939,
           0.010622267866784394,
           -0.000020124252317515137,
           0.000775033512831065,
           0.016386316812083086,
           -0.0024686096094480733,
           0.21673527618309332,
           -0.00028935847581528564,
           1
          ]
         ]
        }
       ],
       "layout": {
        "height": 800,
        "template": {
         "data": {
          "bar": [
           {
            "error_x": {
             "color": "#2a3f5f"
            },
            "error_y": {
             "color": "#2a3f5f"
            },
            "marker": {
             "line": {
              "color": "#E5ECF6",
              "width": 0.5
             },
             "pattern": {
              "fillmode": "overlay",
              "size": 10,
              "solidity": 0.2
             }
            },
            "type": "bar"
           }
          ],
          "barpolar": [
           {
            "marker": {
             "line": {
              "color": "#E5ECF6",
              "width": 0.5
             },
             "pattern": {
              "fillmode": "overlay",
              "size": 10,
              "solidity": 0.2
             }
            },
            "type": "barpolar"
           }
          ],
          "carpet": [
           {
            "aaxis": {
             "endlinecolor": "#2a3f5f",
             "gridcolor": "white",
             "linecolor": "white",
             "minorgridcolor": "white",
             "startlinecolor": "#2a3f5f"
            },
            "baxis": {
             "endlinecolor": "#2a3f5f",
             "gridcolor": "white",
             "linecolor": "white",
             "minorgridcolor": "white",
             "startlinecolor": "#2a3f5f"
            },
            "type": "carpet"
           }
          ],
          "choropleth": [
           {
            "colorbar": {
             "outlinewidth": 0,
             "ticks": ""
            },
            "type": "choropleth"
           }
          ],
          "contour": [
           {
            "colorbar": {
             "outlinewidth": 0,
             "ticks": ""
            },
            "colorscale": [
             [
              0,
              "#0d0887"
             ],
             [
              0.1111111111111111,
              "#46039f"
             ],
             [
              0.2222222222222222,
              "#7201a8"
             ],
             [
              0.3333333333333333,
              "#9c179e"
             ],
             [
              0.4444444444444444,
              "#bd3786"
             ],
             [
              0.5555555555555556,
              "#d8576b"
             ],
             [
              0.6666666666666666,
              "#ed7953"
             ],
             [
              0.7777777777777778,
              "#fb9f3a"
             ],
             [
              0.8888888888888888,
              "#fdca26"
             ],
             [
              1,
              "#f0f921"
             ]
            ],
            "type": "contour"
           }
          ],
          "contourcarpet": [
           {
            "colorbar": {
             "outlinewidth": 0,
             "ticks": ""
            },
            "type": "contourcarpet"
           }
          ],
          "heatmap": [
           {
            "colorbar": {
             "outlinewidth": 0,
             "ticks": ""
            },
            "colorscale": [
             [
              0,
              "#0d0887"
             ],
             [
              0.1111111111111111,
              "#46039f"
             ],
             [
              0.2222222222222222,
              "#7201a8"
             ],
             [
              0.3333333333333333,
              "#9c179e"
             ],
             [
              0.4444444444444444,
              "#bd3786"
             ],
             [
              0.5555555555555556,
              "#d8576b"
             ],
             [
              0.6666666666666666,
              "#ed7953"
             ],
             [
              0.7777777777777778,
              "#fb9f3a"
             ],
             [
              0.8888888888888888,
              "#fdca26"
             ],
             [
              1,
              "#f0f921"
             ]
            ],
            "type": "heatmap"
           }
          ],
          "heatmapgl": [
           {
            "colorbar": {
             "outlinewidth": 0,
             "ticks": ""
            },
            "colorscale": [
             [
              0,
              "#0d0887"
             ],
             [
              0.1111111111111111,
              "#46039f"
             ],
             [
              0.2222222222222222,
              "#7201a8"
             ],
             [
              0.3333333333333333,
              "#9c179e"
             ],
             [
              0.4444444444444444,
              "#bd3786"
             ],
             [
              0.5555555555555556,
              "#d8576b"
             ],
             [
              0.6666666666666666,
              "#ed7953"
             ],
             [
              0.7777777777777778,
              "#fb9f3a"
             ],
             [
              0.8888888888888888,
              "#fdca26"
             ],
             [
              1,
              "#f0f921"
             ]
            ],
            "type": "heatmapgl"
           }
          ],
          "histogram": [
           {
            "marker": {
             "pattern": {
              "fillmode": "overlay",
              "size": 10,
              "solidity": 0.2
             }
            },
            "type": "histogram"
           }
          ],
          "histogram2d": [
           {
            "colorbar": {
             "outlinewidth": 0,
             "ticks": ""
            },
            "colorscale": [
             [
              0,
              "#0d0887"
             ],
             [
              0.1111111111111111,
              "#46039f"
             ],
             [
              0.2222222222222222,
              "#7201a8"
             ],
             [
              0.3333333333333333,
              "#9c179e"
             ],
             [
              0.4444444444444444,
              "#bd3786"
             ],
             [
              0.5555555555555556,
              "#d8576b"
             ],
             [
              0.6666666666666666,
              "#ed7953"
             ],
             [
              0.7777777777777778,
              "#fb9f3a"
             ],
             [
              0.8888888888888888,
              "#fdca26"
             ],
             [
              1,
              "#f0f921"
             ]
            ],
            "type": "histogram2d"
           }
          ],
          "histogram2dcontour": [
           {
            "colorbar": {
             "outlinewidth": 0,
             "ticks": ""
            },
            "colorscale": [
             [
              0,
              "#0d0887"
             ],
             [
              0.1111111111111111,
              "#46039f"
             ],
             [
              0.2222222222222222,
              "#7201a8"
             ],
             [
              0.3333333333333333,
              "#9c179e"
             ],
             [
              0.4444444444444444,
              "#bd3786"
             ],
             [
              0.5555555555555556,
              "#d8576b"
             ],
             [
              0.6666666666666666,
              "#ed7953"
             ],
             [
              0.7777777777777778,
              "#fb9f3a"
             ],
             [
              0.8888888888888888,
              "#fdca26"
             ],
             [
              1,
              "#f0f921"
             ]
            ],
            "type": "histogram2dcontour"
           }
          ],
          "mesh3d": [
           {
            "colorbar": {
             "outlinewidth": 0,
             "ticks": ""
            },
            "type": "mesh3d"
           }
          ],
          "parcoords": [
           {
            "line": {
             "colorbar": {
              "outlinewidth": 0,
              "ticks": ""
             }
            },
            "type": "parcoords"
           }
          ],
          "pie": [
           {
            "automargin": true,
            "type": "pie"
           }
          ],
          "scatter": [
           {
            "fillpattern": {
             "fillmode": "overlay",
             "size": 10,
             "solidity": 0.2
            },
            "type": "scatter"
           }
          ],
          "scatter3d": [
           {
            "line": {
             "colorbar": {
              "outlinewidth": 0,
              "ticks": ""
             }
            },
            "marker": {
             "colorbar": {
              "outlinewidth": 0,
              "ticks": ""
             }
            },
            "type": "scatter3d"
           }
          ],
          "scattercarpet": [
           {
            "marker": {
             "colorbar": {
              "outlinewidth": 0,
              "ticks": ""
             }
            },
            "type": "scattercarpet"
           }
          ],
          "scattergeo": [
           {
            "marker": {
             "colorbar": {
              "outlinewidth": 0,
              "ticks": ""
             }
            },
            "type": "scattergeo"
           }
          ],
          "scattergl": [
           {
            "marker": {
             "colorbar": {
              "outlinewidth": 0,
              "ticks": ""
             }
            },
            "type": "scattergl"
           }
          ],
          "scattermapbox": [
           {
            "marker": {
             "colorbar": {
              "outlinewidth": 0,
              "ticks": ""
             }
            },
            "type": "scattermapbox"
           }
          ],
          "scatterpolar": [
           {
            "marker": {
             "colorbar": {
              "outlinewidth": 0,
              "ticks": ""
             }
            },
            "type": "scatterpolar"
           }
          ],
          "scatterpolargl": [
           {
            "marker": {
             "colorbar": {
              "outlinewidth": 0,
              "ticks": ""
             }
            },
            "type": "scatterpolargl"
           }
          ],
          "scatterternary": [
           {
            "marker": {
             "colorbar": {
              "outlinewidth": 0,
              "ticks": ""
             }
            },
            "type": "scatterternary"
           }
          ],
          "surface": [
           {
            "colorbar": {
             "outlinewidth": 0,
             "ticks": ""
            },
            "colorscale": [
             [
              0,
              "#0d0887"
             ],
             [
              0.1111111111111111,
              "#46039f"
             ],
             [
              0.2222222222222222,
              "#7201a8"
             ],
             [
              0.3333333333333333,
              "#9c179e"
             ],
             [
              0.4444444444444444,
              "#bd3786"
             ],
             [
              0.5555555555555556,
              "#d8576b"
             ],
             [
              0.6666666666666666,
              "#ed7953"
             ],
             [
              0.7777777777777778,
              "#fb9f3a"
             ],
             [
              0.8888888888888888,
              "#fdca26"
             ],
             [
              1,
              "#f0f921"
             ]
            ],
            "type": "surface"
           }
          ],
          "table": [
           {
            "cells": {
             "fill": {
              "color": "#EBF0F8"
             },
             "line": {
              "color": "white"
             }
            },
            "header": {
             "fill": {
              "color": "#C8D4E3"
             },
             "line": {
              "color": "white"
             }
            },
            "type": "table"
           }
          ]
         },
         "layout": {
          "annotationdefaults": {
           "arrowcolor": "#2a3f5f",
           "arrowhead": 0,
           "arrowwidth": 1
          },
          "autotypenumbers": "strict",
          "coloraxis": {
           "colorbar": {
            "outlinewidth": 0,
            "ticks": ""
           }
          },
          "colorscale": {
           "diverging": [
            [
             0,
             "#8e0152"
            ],
            [
             0.1,
             "#c51b7d"
            ],
            [
             0.2,
             "#de77ae"
            ],
            [
             0.3,
             "#f1b6da"
            ],
            [
             0.4,
             "#fde0ef"
            ],
            [
             0.5,
             "#f7f7f7"
            ],
            [
             0.6,
             "#e6f5d0"
            ],
            [
             0.7,
             "#b8e186"
            ],
            [
             0.8,
             "#7fbc41"
            ],
            [
             0.9,
             "#4d9221"
            ],
            [
             1,
             "#276419"
            ]
           ],
           "sequential": [
            [
             0,
             "#0d0887"
            ],
            [
             0.1111111111111111,
             "#46039f"
            ],
            [
             0.2222222222222222,
             "#7201a8"
            ],
            [
             0.3333333333333333,
             "#9c179e"
            ],
            [
             0.4444444444444444,
             "#bd3786"
            ],
            [
             0.5555555555555556,
             "#d8576b"
            ],
            [
             0.6666666666666666,
             "#ed7953"
            ],
            [
             0.7777777777777778,
             "#fb9f3a"
            ],
            [
             0.8888888888888888,
             "#fdca26"
            ],
            [
             1,
             "#f0f921"
            ]
           ],
           "sequentialminus": [
            [
             0,
             "#0d0887"
            ],
            [
             0.1111111111111111,
             "#46039f"
            ],
            [
             0.2222222222222222,
             "#7201a8"
            ],
            [
             0.3333333333333333,
             "#9c179e"
            ],
            [
             0.4444444444444444,
             "#bd3786"
            ],
            [
             0.5555555555555556,
             "#d8576b"
            ],
            [
             0.6666666666666666,
             "#ed7953"
            ],
            [
             0.7777777777777778,
             "#fb9f3a"
            ],
            [
             0.8888888888888888,
             "#fdca26"
            ],
            [
             1,
             "#f0f921"
            ]
           ]
          },
          "colorway": [
           "#636efa",
           "#EF553B",
           "#00cc96",
           "#ab63fa",
           "#FFA15A",
           "#19d3f3",
           "#FF6692",
           "#B6E880",
           "#FF97FF",
           "#FECB52"
          ],
          "font": {
           "color": "#2a3f5f"
          },
          "geo": {
           "bgcolor": "white",
           "lakecolor": "white",
           "landcolor": "#E5ECF6",
           "showlakes": true,
           "showland": true,
           "subunitcolor": "white"
          },
          "hoverlabel": {
           "align": "left"
          },
          "hovermode": "closest",
          "mapbox": {
           "style": "light"
          },
          "paper_bgcolor": "white",
          "plot_bgcolor": "#E5ECF6",
          "polar": {
           "angularaxis": {
            "gridcolor": "white",
            "linecolor": "white",
            "ticks": ""
           },
           "bgcolor": "#E5ECF6",
           "radialaxis": {
            "gridcolor": "white",
            "linecolor": "white",
            "ticks": ""
           }
          },
          "scene": {
           "xaxis": {
            "backgroundcolor": "#E5ECF6",
            "gridcolor": "white",
            "gridwidth": 2,
            "linecolor": "white",
            "showbackground": true,
            "ticks": "",
            "zerolinecolor": "white"
           },
           "yaxis": {
            "backgroundcolor": "#E5ECF6",
            "gridcolor": "white",
            "gridwidth": 2,
            "linecolor": "white",
            "showbackground": true,
            "ticks": "",
            "zerolinecolor": "white"
           },
           "zaxis": {
            "backgroundcolor": "#E5ECF6",
            "gridcolor": "white",
            "gridwidth": 2,
            "linecolor": "white",
            "showbackground": true,
            "ticks": "",
            "zerolinecolor": "white"
           }
          },
          "shapedefaults": {
           "line": {
            "color": "#2a3f5f"
           }
          },
          "ternary": {
           "aaxis": {
            "gridcolor": "white",
            "linecolor": "white",
            "ticks": ""
           },
           "baxis": {
            "gridcolor": "white",
            "linecolor": "white",
            "ticks": ""
           },
           "bgcolor": "#E5ECF6",
           "caxis": {
            "gridcolor": "white",
            "linecolor": "white",
            "ticks": ""
           }
          },
          "title": {
           "x": 0.05
          },
          "xaxis": {
           "automargin": true,
           "gridcolor": "white",
           "linecolor": "white",
           "ticks": "",
           "title": {
            "standoff": 15
           },
           "zerolinecolor": "white",
           "zerolinewidth": 2
          },
          "yaxis": {
           "automargin": true,
           "gridcolor": "white",
           "linecolor": "white",
           "ticks": "",
           "title": {
            "standoff": 15
           },
           "zerolinecolor": "white",
           "zerolinewidth": 2
          }
         }
        },
        "title": {
         "text": "<b>PROPERATY FEATURE CORRELATION MATRIX"
        },
        "width": 800,
        "xaxis": {
         "anchor": "y",
         "domain": [
          0,
          1
         ]
        },
        "yaxis": {
         "anchor": "x",
         "domain": [
          0,
          1
         ]
        }
       }
      }
     },
     "metadata": {},
     "output_type": "display_data"
    }
   ],
   "source": [
    "import plotly.io as pio\n",
    "#\n",
    "pio.show(test, engine='kaleido')\n"
   ]
  }
 ],
 "metadata": {
  "kernelspec": {
   "display_name": "Python 3.10.2 64-bit",
   "language": "python",
   "name": "python3"
  },
  "language_info": {
   "codemirror_mode": {
    "name": "ipython",
    "version": 3
   },
   "file_extension": ".py",
   "mimetype": "text/x-python",
   "name": "python",
   "nbconvert_exporter": "python",
   "pygments_lexer": "ipython3",
   "version": "3.10.2"
  },
  "vscode": {
   "interpreter": {
    "hash": "dd37268121d0b3f9d33d3a5adc63f7c2d48f7c72c7af9e4e29d99a9b381bd69f"
   }
  }
 },
 "nbformat": 4,
 "nbformat_minor": 1
}
